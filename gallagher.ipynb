{
 "cells": [
  {
   "cell_type": "code",
   "execution_count": 537,
   "id": "64b93405",
   "metadata": {},
   "outputs": [],
   "source": [
    "import openpyxl\n"
   ]
  },
  {
   "cell_type": "code",
   "execution_count": 539,
   "id": "3bb0dfeb",
   "metadata": {
    "scrolled": false
   },
   "outputs": [
    {
     "name": "stdout",
     "output_type": "stream",
     "text": [
      "3.9.1\n"
     ]
    }
   ],
   "source": [
    "print(nltk.__version__)"
   ]
  },
  {
   "cell_type": "code",
   "execution_count": 60,
   "id": "88bd44bf",
   "metadata": {},
   "outputs": [],
   "source": [
    "# import necessary libraries\n",
    "\n",
    "import warnings\n",
    "warnings.filterwarnings(\"ignore\")\n",
    "import pandas as pd\n",
    "import re\n",
    "import string\n",
    "from string import digits\n",
    "from sklearn.feature_extraction.text import CountVectorizer\n",
    "from sklearn.model_selection import train_test_split\n",
    "from sklearn.metrics import classification_report, confusion_matrix\n",
    "import matplotlib.pyplot as plt\n",
    "from sklearn import metrics\n",
    "from sklearn.naive_bayes import MultinomialNB\n",
    "from sklearn.metrics import accuracy_score, precision_score, f1_score, recall_score\n",
    "import pickle\n",
    "import numpy as np\n",
    "import time\n",
    "from sklearn.ensemble import RandomForestClassifier\n",
    "from sklearn.metrics import (\n",
    "    accuracy_score,\n",
    "    classification_report,\n",
    "    confusion_matrix,\n",
    "    f1_score,\n",
    "    recall_score,\n",
    ")\n",
    "from sklearn.model_selection import RandomizedSearchCV\n",
    "from lightgbm import LGBMClassifier"
   ]
  },
  {
   "cell_type": "code",
   "execution_count": 17,
   "id": "6706da60",
   "metadata": {},
   "outputs": [
    {
     "name": "stderr",
     "output_type": "stream",
     "text": [
      "[nltk_data] Downloading package punkt to\n",
      "[nltk_data]     C:\\Users\\Admin\\AppData\\Roaming\\nltk_data...\n",
      "[nltk_data]   Package punkt is already up-to-date!\n",
      "[nltk_data] Downloading package wordnet to\n",
      "[nltk_data]     C:\\Users\\Admin\\AppData\\Roaming\\nltk_data...\n",
      "[nltk_data]   Package wordnet is already up-to-date!\n",
      "[nltk_data] Downloading package stopwords to\n",
      "[nltk_data]     C:\\Users\\Admin\\AppData\\Roaming\\nltk_data...\n",
      "[nltk_data]   Package stopwords is already up-to-date!\n"
     ]
    }
   ],
   "source": [
    "import re\n",
    "import string\n",
    "import numpy as np\n",
    "import pandas as pd\n",
    "from tqdm.auto import tqdm\n",
    "\n",
    "import nlpaug.augmenter.word.context_word_embs as aug\n",
    "import nltk\n",
    "nltk.download('punkt')\n",
    "nltk.download('wordnet')\n",
    "nltk.download('stopwords')\n",
    "\n",
    "from nltk.stem import WordNetLemmatizer\n",
    "from nltk import word_tokenize\n",
    "from nltk.corpus import stopwords\n",
    "from nltk import word_tokenize\n",
    "\n",
    "from sklearn.utils import shuffle\n",
    "from sklearn.naive_bayes import GaussianNB\n",
    "from sklearn.model_selection import train_test_split\n",
    "from sklearn.feature_extraction.text import TfidfVectorizer\n",
    "from sklearn.metrics import confusion_matrix, accuracy_score, classification_report"
   ]
  },
  {
   "cell_type": "code",
   "execution_count": 22,
   "id": "ac4a8c58",
   "metadata": {
    "scrolled": true
   },
   "outputs": [
    {
     "data": {
      "text/html": [
       "<div>\n",
       "<style scoped>\n",
       "    .dataframe tbody tr th:only-of-type {\n",
       "        vertical-align: middle;\n",
       "    }\n",
       "\n",
       "    .dataframe tbody tr th {\n",
       "        vertical-align: top;\n",
       "    }\n",
       "\n",
       "    .dataframe thead th {\n",
       "        text-align: right;\n",
       "    }\n",
       "</style>\n",
       "<table border=\"1\" class=\"dataframe\">\n",
       "  <thead>\n",
       "    <tr style=\"text-align: right;\">\n",
       "      <th></th>\n",
       "      <th>Claim Description</th>\n",
       "      <th>Coverage Code</th>\n",
       "      <th>Accident Source</th>\n",
       "    </tr>\n",
       "  </thead>\n",
       "  <tbody>\n",
       "    <tr>\n",
       "      <th>0</th>\n",
       "      <td>THE IV WAS MAKING A LEFT TURN ON A GREEN ARROW...</td>\n",
       "      <td>AN</td>\n",
       "      <td>Struck pedestrian, bicycle</td>\n",
       "    </tr>\n",
       "    <tr>\n",
       "      <th>1</th>\n",
       "      <td>CLAIMANT ALLEGES SHE SUFFERED INJURIES IN AN E...</td>\n",
       "      <td>GB</td>\n",
       "      <td>Elevator/Escalator</td>\n",
       "    </tr>\n",
       "    <tr>\n",
       "      <th>2</th>\n",
       "      <td>IV PASSENGER SUSTAINED INJURIES, OV AND IV COL...</td>\n",
       "      <td>AB</td>\n",
       "      <td>Sideswipe or lane change</td>\n",
       "    </tr>\n",
       "    <tr>\n",
       "      <th>3</th>\n",
       "      <td>CLAIMANT ALLEGES SHE WAS BURNED UNKNOWN DEGREE...</td>\n",
       "      <td>PA</td>\n",
       "      <td>Food Product</td>\n",
       "    </tr>\n",
       "    <tr>\n",
       "      <th>4</th>\n",
       "      <td>THE IV WAS MERGING INTO A CONSTRUCTION ZONE WH...</td>\n",
       "      <td>AD</td>\n",
       "      <td>Struck vehicle in rear</td>\n",
       "    </tr>\n",
       "    <tr>\n",
       "      <th>...</th>\n",
       "      <td>...</td>\n",
       "      <td>...</td>\n",
       "      <td>...</td>\n",
       "    </tr>\n",
       "    <tr>\n",
       "      <th>191685</th>\n",
       "      <td>SOME WOOD FELL OVER AND HIT GUESTS LEGS</td>\n",
       "      <td>GB</td>\n",
       "      <td>Alleged lack of security</td>\n",
       "    </tr>\n",
       "    <tr>\n",
       "      <th>191686</th>\n",
       "      <td>FEMALE FELL DOWN ON PLATFORM.                 ...</td>\n",
       "      <td>AB</td>\n",
       "      <td>Not Otherwise Classified</td>\n",
       "    </tr>\n",
       "    <tr>\n",
       "      <th>191687</th>\n",
       "      <td>IWAS DRIVING DOWNHILL IN CUSTOMER YARD ON WET ...</td>\n",
       "      <td>AD</td>\n",
       "      <td>Sideswipe or lane change</td>\n",
       "    </tr>\n",
       "    <tr>\n",
       "      <th>191688</th>\n",
       "      <td>DONNA GEORGE WAS WALKING UP TO REGISTER 2 AND ...</td>\n",
       "      <td>PM</td>\n",
       "      <td>Alleged Negligent Act</td>\n",
       "    </tr>\n",
       "    <tr>\n",
       "      <th>191689</th>\n",
       "      <td>UNIT 3 WAS TRAVELING EASTBOUND ON SH 97 BEHIND...</td>\n",
       "      <td>AB</td>\n",
       "      <td>Sideswipe or lane change</td>\n",
       "    </tr>\n",
       "  </tbody>\n",
       "</table>\n",
       "<p>191690 rows × 3 columns</p>\n",
       "</div>"
      ],
      "text/plain": [
       "                                        Claim Description Coverage Code  \\\n",
       "0       THE IV WAS MAKING A LEFT TURN ON A GREEN ARROW...            AN   \n",
       "1       CLAIMANT ALLEGES SHE SUFFERED INJURIES IN AN E...            GB   \n",
       "2       IV PASSENGER SUSTAINED INJURIES, OV AND IV COL...            AB   \n",
       "3       CLAIMANT ALLEGES SHE WAS BURNED UNKNOWN DEGREE...            PA   \n",
       "4       THE IV WAS MERGING INTO A CONSTRUCTION ZONE WH...            AD   \n",
       "...                                                   ...           ...   \n",
       "191685            SOME WOOD FELL OVER AND HIT GUESTS LEGS            GB   \n",
       "191686  FEMALE FELL DOWN ON PLATFORM.                 ...            AB   \n",
       "191687  IWAS DRIVING DOWNHILL IN CUSTOMER YARD ON WET ...            AD   \n",
       "191688  DONNA GEORGE WAS WALKING UP TO REGISTER 2 AND ...            PM   \n",
       "191689  UNIT 3 WAS TRAVELING EASTBOUND ON SH 97 BEHIND...            AB   \n",
       "\n",
       "                   Accident Source  \n",
       "0       Struck pedestrian, bicycle  \n",
       "1               Elevator/Escalator  \n",
       "2         Sideswipe or lane change  \n",
       "3                     Food Product  \n",
       "4           Struck vehicle in rear  \n",
       "...                            ...  \n",
       "191685    Alleged lack of security  \n",
       "191686    Not Otherwise Classified  \n",
       "191687    Sideswipe or lane change  \n",
       "191688       Alleged Negligent Act  \n",
       "191689    Sideswipe or lane change  \n",
       "\n",
       "[191690 rows x 3 columns]"
      ]
     },
     "execution_count": 22,
     "metadata": {},
     "output_type": "execute_result"
    }
   ],
   "source": [
    "dataset=pd.read_excel('Dataset.xlsx')\n",
    "dataset"
   ]
  },
  {
   "cell_type": "code",
   "execution_count": 23,
   "id": "b8a29120",
   "metadata": {},
   "outputs": [
    {
     "name": "stdout",
     "output_type": "stream",
     "text": [
      "<class 'pandas.core.frame.DataFrame'>\n",
      "RangeIndex: 191690 entries, 0 to 191689\n",
      "Data columns (total 3 columns):\n",
      " #   Column             Non-Null Count   Dtype \n",
      "---  ------             --------------   ----- \n",
      " 0   Claim Description  191463 non-null  object\n",
      " 1   Coverage Code      191690 non-null  object\n",
      " 2   Accident Source    191690 non-null  object\n",
      "dtypes: object(3)\n",
      "memory usage: 4.4+ MB\n"
     ]
    }
   ],
   "source": [
    "dataset.info()"
   ]
  },
  {
   "cell_type": "code",
   "execution_count": 24,
   "id": "55b84ead",
   "metadata": {},
   "outputs": [
    {
     "data": {
      "text/plain": [
       "Claim Description    227\n",
       "Coverage Code          0\n",
       "Accident Source        0\n",
       "dtype: int64"
      ]
     },
     "execution_count": 24,
     "metadata": {},
     "output_type": "execute_result"
    }
   ],
   "source": [
    "dataset.isnull().sum()  #null values"
   ]
  },
  {
   "cell_type": "code",
   "execution_count": 26,
   "id": "1ac24ccc",
   "metadata": {},
   "outputs": [
    {
     "data": {
      "text/plain": [
       "27699"
      ]
     },
     "execution_count": 26,
     "metadata": {},
     "output_type": "execute_result"
    }
   ],
   "source": [
    "# find duplicates in feature\n",
    "\n",
    "dataset['Claim Description'].duplicated().sum()"
   ]
  },
  {
   "cell_type": "code",
   "execution_count": 29,
   "id": "896a88cf",
   "metadata": {},
   "outputs": [
    {
     "data": {
      "text/html": [
       "<div>\n",
       "<style scoped>\n",
       "    .dataframe tbody tr th:only-of-type {\n",
       "        vertical-align: middle;\n",
       "    }\n",
       "\n",
       "    .dataframe tbody tr th {\n",
       "        vertical-align: top;\n",
       "    }\n",
       "\n",
       "    .dataframe thead th {\n",
       "        text-align: right;\n",
       "    }\n",
       "</style>\n",
       "<table border=\"1\" class=\"dataframe\">\n",
       "  <thead>\n",
       "    <tr style=\"text-align: right;\">\n",
       "      <th></th>\n",
       "      <th>Claim Description</th>\n",
       "      <th>Coverage Code</th>\n",
       "      <th>Accident Source</th>\n",
       "    </tr>\n",
       "  </thead>\n",
       "  <tbody>\n",
       "    <tr>\n",
       "      <th>296</th>\n",
       "      <td>CLAIMANT DROVE OVER POTHOLE CAUSING VEHICLE DA...</td>\n",
       "      <td>GD</td>\n",
       "      <td>Pothole</td>\n",
       "    </tr>\n",
       "    <tr>\n",
       "      <th>319</th>\n",
       "      <td>CLAIMANT DROVE OVER POTHOLE CAUSING VEHICLE DA...</td>\n",
       "      <td>GD</td>\n",
       "      <td>Pothole</td>\n",
       "    </tr>\n",
       "    <tr>\n",
       "      <th>589</th>\n",
       "      <td>CLAIMANT DROVE OVER POTHOLE CAUSING VEHICLE DA...</td>\n",
       "      <td>GD</td>\n",
       "      <td>Pothole</td>\n",
       "    </tr>\n",
       "    <tr>\n",
       "      <th>667</th>\n",
       "      <td>CLAIMANT DROVE OVER POTHOLE CAUSING VEHICLE DA...</td>\n",
       "      <td>GD</td>\n",
       "      <td>Pothole</td>\n",
       "    </tr>\n",
       "    <tr>\n",
       "      <th>763</th>\n",
       "      <td>CLAIMANT DROVE OVER POTHOLE CAUSING VEHICLE DA...</td>\n",
       "      <td>GD</td>\n",
       "      <td>Pothole</td>\n",
       "    </tr>\n",
       "    <tr>\n",
       "      <th>...</th>\n",
       "      <td>...</td>\n",
       "      <td>...</td>\n",
       "      <td>...</td>\n",
       "    </tr>\n",
       "    <tr>\n",
       "      <th>191123</th>\n",
       "      <td>CLAIMANT DROVE OVER POTHOLE CAUSING VEHICLE DA...</td>\n",
       "      <td>GD</td>\n",
       "      <td>Pothole</td>\n",
       "    </tr>\n",
       "    <tr>\n",
       "      <th>191265</th>\n",
       "      <td>CLAIMANT DROVE OVER POTHOLE CAUSING VEHICLE DA...</td>\n",
       "      <td>GD</td>\n",
       "      <td>Pothole</td>\n",
       "    </tr>\n",
       "    <tr>\n",
       "      <th>191523</th>\n",
       "      <td>CLAIMANT DROVE OVER POTHOLE CAUSING VEHICLE DA...</td>\n",
       "      <td>GD</td>\n",
       "      <td>Pothole</td>\n",
       "    </tr>\n",
       "    <tr>\n",
       "      <th>191550</th>\n",
       "      <td>CLAIMANT DROVE OVER POTHOLE CAUSING VEHICLE DA...</td>\n",
       "      <td>GD</td>\n",
       "      <td>Pothole</td>\n",
       "    </tr>\n",
       "    <tr>\n",
       "      <th>191662</th>\n",
       "      <td>CLAIMANT DROVE OVER POTHOLE CAUSING VEHICLE DA...</td>\n",
       "      <td>GD</td>\n",
       "      <td>Pothole</td>\n",
       "    </tr>\n",
       "  </tbody>\n",
       "</table>\n",
       "<p>1057 rows × 3 columns</p>\n",
       "</div>"
      ],
      "text/plain": [
       "                                        Claim Description Coverage Code  \\\n",
       "296     CLAIMANT DROVE OVER POTHOLE CAUSING VEHICLE DA...            GD   \n",
       "319     CLAIMANT DROVE OVER POTHOLE CAUSING VEHICLE DA...            GD   \n",
       "589     CLAIMANT DROVE OVER POTHOLE CAUSING VEHICLE DA...            GD   \n",
       "667     CLAIMANT DROVE OVER POTHOLE CAUSING VEHICLE DA...            GD   \n",
       "763     CLAIMANT DROVE OVER POTHOLE CAUSING VEHICLE DA...            GD   \n",
       "...                                                   ...           ...   \n",
       "191123  CLAIMANT DROVE OVER POTHOLE CAUSING VEHICLE DA...            GD   \n",
       "191265  CLAIMANT DROVE OVER POTHOLE CAUSING VEHICLE DA...            GD   \n",
       "191523  CLAIMANT DROVE OVER POTHOLE CAUSING VEHICLE DA...            GD   \n",
       "191550  CLAIMANT DROVE OVER POTHOLE CAUSING VEHICLE DA...            GD   \n",
       "191662  CLAIMANT DROVE OVER POTHOLE CAUSING VEHICLE DA...            GD   \n",
       "\n",
       "       Accident Source  \n",
       "296            Pothole  \n",
       "319            Pothole  \n",
       "589            Pothole  \n",
       "667            Pothole  \n",
       "763            Pothole  \n",
       "...                ...  \n",
       "191123         Pothole  \n",
       "191265         Pothole  \n",
       "191523         Pothole  \n",
       "191550         Pothole  \n",
       "191662         Pothole  \n",
       "\n",
       "[1057 rows x 3 columns]"
      ]
     },
     "execution_count": 29,
     "metadata": {},
     "output_type": "execute_result"
    }
   ],
   "source": [
    "# lets check data with one of the duplicate value\n",
    "\n",
    "dataset[dataset['Claim Description']=='CLAIMANT DROVE OVER POTHOLE CAUSING VEHICLE DAMAGE.']"
   ]
  },
  {
   "cell_type": "code",
   "execution_count": 31,
   "id": "45b4adda",
   "metadata": {},
   "outputs": [],
   "source": [
    "# drop duplicates using claim description features\n",
    "\n",
    "dataset.drop_duplicates(subset = ['Claim Description'],inplace = True)"
   ]
  },
  {
   "cell_type": "code",
   "execution_count": 33,
   "id": "522ec581",
   "metadata": {},
   "outputs": [
    {
     "data": {
      "text/plain": [
       "(163990, 3)"
      ]
     },
     "execution_count": 33,
     "metadata": {},
     "output_type": "execute_result"
    }
   ],
   "source": [
    "# remove null value from dataset\n",
    "\n",
    "final_data = dataset[~dataset['Claim Description'].isna()]\n",
    "\n",
    "final_data.shape"
   ]
  },
  {
   "cell_type": "markdown",
   "id": "8a558bfa",
   "metadata": {},
   "source": [
    "## Data pre-processing:"
   ]
  },
  {
   "cell_type": "code",
   "execution_count": null,
   "id": "61eb27a2",
   "metadata": {},
   "outputs": [],
   "source": [
    "nltk.download('punkt_tab')"
   ]
  },
  {
   "cell_type": "code",
   "execution_count": 40,
   "id": "0a07b280",
   "metadata": {},
   "outputs": [],
   "source": [
    "def remove_stopwords(text):\n",
    "    removed = []\n",
    "    stop_words = list(stopwords.words(\"english\"))\n",
    "    tokens = word_tokenize(text)\n",
    "    for i in range(len(tokens)):\n",
    "        if tokens[i] not in stop_words:\n",
    "            removed.append(tokens[i])\n",
    "    return \" \".join(removed)\n",
    "\n",
    "def remove_numbers(text):\n",
    "    number_pattern = r'\\d+'\n",
    "    without_number = re.sub(pattern=number_pattern, repl=\" \", string=text)\n",
    "    return without_number\n",
    "\n",
    "def pre_processing(final_data):\n",
    "\n",
    "    # Lowercase all characters\n",
    "    final_data['Claim Description']=final_data['Claim Description'].astype(str).apply(lambda x: x.lower())\n",
    "    \n",
    "    final_data['Claim Description'] = final_data['Claim Description'].apply(lambda x: remove_stopwords(x))\n",
    "    #final_data['Claim Description'] = final_data['Claim Description'].apply(lambda x: lemmatizing(x))\n",
    "    final_data['Claim Description'] = final_data['Claim Description'].apply(lambda x: remove_numbers(x))\n",
    "\n",
    "    final_data['Claim Description'] = final_data['Claim Description'].apply(lambda x: re.sub(r\"won\\'t\", \"will not\", x))\n",
    "    final_data['Claim Description'] = final_data['Claim Description'].apply(lambda x: re.sub(r\"can\\'t\", \"can not\", x))\n",
    "\n",
    "    # general\n",
    "    final_data['Claim Description'] = final_data['Claim Description'].apply(lambda x: re.sub(r\"n\\'t\", \" not\", x))\n",
    "    final_data['Claim Description'] = final_data['Claim Description'].apply(lambda x: re.sub(r\"\\'re\", \" are\", x))\n",
    "    final_data['Claim Description'] = final_data['Claim Description'].apply(lambda x: re.sub(r\"\\'s\", \" is\", x))\n",
    "    final_data['Claim Description'] = final_data['Claim Description'].apply(lambda x: re.sub(r\"\\'d\", \" would\", x))\n",
    "    final_data['Claim Description'] = final_data['Claim Description'].apply(lambda x: re.sub(r\"\\'ll\", \" will\", x))\n",
    "    final_data['Claim Description'] = final_data['Claim Description'].apply(lambda x: re.sub(r\"\\'t\", \" not\", x))\n",
    "    final_data['Claim Description'] = final_data['Claim Description'].apply(lambda x: re.sub(r\"\\'ve\", \" have\", x))\n",
    "    final_data['Claim Description'] = final_data['Claim Description'].apply(lambda x: re.sub(r\"\\'m\", \" am\", x))\n",
    "\n",
    "    # Remove quotes\n",
    "    final_data['Claim Description']=final_data['Claim Description'].apply(lambda x: re.sub(\"'\", '', x))\n",
    "\n",
    "\n",
    "\n",
    "    exclude = set(string.punctuation) # Set of all special characters\n",
    "    # Remove all the special characters\n",
    "    final_data['Claim Description']=final_data['Claim Description'].apply(lambda x: ''.join(ch for ch in x if ch not in exclude))\n",
    "\n",
    "    # remove extra\n",
    "    final_data['Claim Description']=final_data['Claim Description'].apply(lambda x: re.sub('[-_.:;\\[\\]\\|,]', '', x))\n",
    "\n",
    "\n",
    "    # Remove extra spaces\n",
    "    final_data['Claim Description']=final_data['Claim Description'].apply(lambda x: x.strip())\n",
    "\n",
    "    final_data['Claim Description']=final_data['Claim Description'].apply(lambda x: re.sub(\" +\", \" \", x))\n",
    "    \n",
    "    return final_data"
   ]
  },
  {
   "cell_type": "code",
   "execution_count": 41,
   "id": "19562096",
   "metadata": {},
   "outputs": [],
   "source": [
    "final_data = pre_processing(final_data)"
   ]
  },
  {
   "cell_type": "markdown",
   "id": "c18c1120",
   "metadata": {},
   "source": [
    "## class_label 1 : Coverage Code"
   ]
  },
  {
   "cell_type": "code",
   "execution_count": 49,
   "id": "baaa4e98",
   "metadata": {},
   "outputs": [
    {
     "name": "stdout",
     "output_type": "stream",
     "text": [
      "Number of classes in Coverage code : 43\n"
     ]
    }
   ],
   "source": [
    "# find unique classes\n",
    "\n",
    "print('Number of classes in Coverage code :',dataset['Coverage Code'].nunique())"
   ]
  },
  {
   "cell_type": "code",
   "execution_count": 50,
   "id": "2f6f6d4f",
   "metadata": {},
   "outputs": [
    {
     "data": {
      "text/plain": [
       "Coverage Code\n",
       "AD    43070\n",
       "GB    32193\n",
       "GD    22399\n",
       "AP    18894\n",
       "AL     9983\n",
       "AB     9397\n",
       "PA     8030\n",
       "PB     5089\n",
       "RB     4553\n",
       "NS     2297\n",
       "PM     1359\n",
       "AU     1273\n",
       "EL      855\n",
       "GK      632\n",
       "AN      558\n",
       "RC      514\n",
       "PI      384\n",
       "GO      337\n",
       "PL      317\n",
       "DC      261\n",
       "GL      237\n",
       "AM      224\n",
       "EP      184\n",
       "IK      183\n",
       "OM      138\n",
       "EO      137\n",
       "PP      112\n",
       "TE       85\n",
       "BM       66\n",
       "LL       57\n",
       "IM       40\n",
       "BL       36\n",
       "CM       30\n",
       "FB       18\n",
       "OI       14\n",
       "RF       12\n",
       "BR        6\n",
       "EB        4\n",
       "RQ        3\n",
       "FF        3\n",
       "LS        3\n",
       "EI        2\n",
       "PC        1\n",
       "Name: count, dtype: int64"
      ]
     },
     "execution_count": 50,
     "metadata": {},
     "output_type": "execute_result"
    }
   ],
   "source": [
    "final_data['Coverage Code'].value_counts()"
   ]
  },
  {
   "cell_type": "markdown",
   "id": "a7c9ea7f",
   "metadata": {},
   "source": [
    "## Observation :\n",
    "\n",
    "- There are 43 classes in Coverage code.\n",
    "- There is class imabalnce observed.\n",
    "- While few classes having very few data points."
   ]
  },
  {
   "cell_type": "markdown",
   "id": "b0930f35",
   "metadata": {},
   "source": [
    "### Approach 1 :\n",
    "\n",
    "- Check classes with very few datapoints and create dictionary for features. Since 1-2 data cant be predicted\n",
    "- Check classes with medium range of datapoints and convert them into one class.\n",
    "- Develop model on new classes.\n",
    "- For medium range classes create one more model.\n",
    "- Use second model for prediction if class is in medium class.\n",
    "- Finally override decision if the feature is in dictionary of very few classes.\n",
    "\n",
    "### Approach 2 :\n",
    "\n",
    "- Do small Data Augmentation. Since 1-2 data cant be predicted and splitted for training and testing \n",
    "- Check classes with small range of datapoints, augment them with bert to add a few rows to split it.\n",
    "- Do split and Augment the train data heavily to balance the classes \n",
    "- Develop model.\n",
    "\n",
    "### Can combine both approaches for better results, but moving forward with 2nd saving time"
   ]
  },
  {
   "cell_type": "code",
   "execution_count": 43,
   "id": "6a29d20b",
   "metadata": {},
   "outputs": [],
   "source": [
    "import nlpaug.augmenter.word.context_word_embs as aug"
   ]
  },
  {
   "cell_type": "code",
   "execution_count": 44,
   "id": "f830285d",
   "metadata": {},
   "outputs": [
    {
     "data": {
      "application/vnd.jupyter.widget-view+json": {
       "model_id": "234ee7408b644d2eb6c5353b02061868",
       "version_major": 2,
       "version_minor": 0
      },
      "text/plain": [
       "Downloading tokenizer_config.json:   0%|          | 0.00/48.0 [00:00<?, ?B/s]"
      ]
     },
     "metadata": {},
     "output_type": "display_data"
    },
    {
     "data": {
      "application/vnd.jupyter.widget-view+json": {
       "model_id": "856ecf59a9c240498144690c977ac072",
       "version_major": 2,
       "version_minor": 0
      },
      "text/plain": [
       "Downloading config.json:   0%|          | 0.00/570 [00:00<?, ?B/s]"
      ]
     },
     "metadata": {},
     "output_type": "display_data"
    },
    {
     "data": {
      "application/vnd.jupyter.widget-view+json": {
       "model_id": "f016a52e4c6042d6a0ec352140ff25f4",
       "version_major": 2,
       "version_minor": 0
      },
      "text/plain": [
       "Downloading vocab.txt:   0%|          | 0.00/232k [00:00<?, ?B/s]"
      ]
     },
     "metadata": {},
     "output_type": "display_data"
    },
    {
     "data": {
      "application/vnd.jupyter.widget-view+json": {
       "model_id": "5982654b6800473bb2f2137a0741f561",
       "version_major": 2,
       "version_minor": 0
      },
      "text/plain": [
       "Downloading tokenizer.json:   0%|          | 0.00/466k [00:00<?, ?B/s]"
      ]
     },
     "metadata": {},
     "output_type": "display_data"
    },
    {
     "data": {
      "application/vnd.jupyter.widget-view+json": {
       "model_id": "e7d64cef482e4df89d1af8d71088fada",
       "version_major": 2,
       "version_minor": 0
      },
      "text/plain": [
       "Downloading model.safetensors:   0%|          | 0.00/440M [00:00<?, ?B/s]"
      ]
     },
     "metadata": {},
     "output_type": "display_data"
    }
   ],
   "source": [
    "augmenter = aug.ContextualWordEmbsAug(model_path='bert-base-uncased', action=\"insert\")"
   ]
  },
  {
   "cell_type": "code",
   "execution_count": 46,
   "id": "8c8b306f",
   "metadata": {},
   "outputs": [
    {
     "data": {
      "text/plain": [
       "'toilet flooded unit causing damage unit parking garage'"
      ]
     },
     "execution_count": 46,
     "metadata": {},
     "output_type": "execute_result"
    }
   ],
   "source": [
    "sample_text = final_data['Claim Description'].iloc[100]\n",
    "sample_text "
   ]
  },
  {
   "cell_type": "code",
   "execution_count": 47,
   "id": "1b535f4b",
   "metadata": {},
   "outputs": [
    {
     "data": {
      "text/plain": [
       "['toilet flooded bus unit causing considerable damage unit parking facility garage']"
      ]
     },
     "execution_count": 47,
     "metadata": {},
     "output_type": "execute_result"
    }
   ],
   "source": [
    "augmented_sample_text = augmenter.augment(sample_text)\n",
    "augmented_sample_text"
   ]
  },
  {
   "cell_type": "code",
   "execution_count": 51,
   "id": "c225c632",
   "metadata": {
    "scrolled": true
   },
   "outputs": [
    {
     "data": {
      "text/html": [
       "<div>\n",
       "<style scoped>\n",
       "    .dataframe tbody tr th:only-of-type {\n",
       "        vertical-align: middle;\n",
       "    }\n",
       "\n",
       "    .dataframe tbody tr th {\n",
       "        vertical-align: top;\n",
       "    }\n",
       "\n",
       "    .dataframe thead th {\n",
       "        text-align: right;\n",
       "    }\n",
       "</style>\n",
       "<table border=\"1\" class=\"dataframe\">\n",
       "  <thead>\n",
       "    <tr style=\"text-align: right;\">\n",
       "      <th></th>\n",
       "      <th>count</th>\n",
       "    </tr>\n",
       "    <tr>\n",
       "      <th>Coverage Code</th>\n",
       "      <th></th>\n",
       "    </tr>\n",
       "  </thead>\n",
       "  <tbody>\n",
       "    <tr>\n",
       "      <th>AD</th>\n",
       "      <td>43070</td>\n",
       "    </tr>\n",
       "    <tr>\n",
       "      <th>GB</th>\n",
       "      <td>32193</td>\n",
       "    </tr>\n",
       "    <tr>\n",
       "      <th>GD</th>\n",
       "      <td>22399</td>\n",
       "    </tr>\n",
       "    <tr>\n",
       "      <th>AP</th>\n",
       "      <td>18894</td>\n",
       "    </tr>\n",
       "    <tr>\n",
       "      <th>AL</th>\n",
       "      <td>9983</td>\n",
       "    </tr>\n",
       "    <tr>\n",
       "      <th>AB</th>\n",
       "      <td>9397</td>\n",
       "    </tr>\n",
       "    <tr>\n",
       "      <th>PA</th>\n",
       "      <td>8030</td>\n",
       "    </tr>\n",
       "    <tr>\n",
       "      <th>PB</th>\n",
       "      <td>5089</td>\n",
       "    </tr>\n",
       "    <tr>\n",
       "      <th>RB</th>\n",
       "      <td>4553</td>\n",
       "    </tr>\n",
       "    <tr>\n",
       "      <th>NS</th>\n",
       "      <td>2297</td>\n",
       "    </tr>\n",
       "    <tr>\n",
       "      <th>PM</th>\n",
       "      <td>1359</td>\n",
       "    </tr>\n",
       "    <tr>\n",
       "      <th>AU</th>\n",
       "      <td>1273</td>\n",
       "    </tr>\n",
       "    <tr>\n",
       "      <th>EL</th>\n",
       "      <td>855</td>\n",
       "    </tr>\n",
       "    <tr>\n",
       "      <th>GK</th>\n",
       "      <td>632</td>\n",
       "    </tr>\n",
       "    <tr>\n",
       "      <th>AN</th>\n",
       "      <td>558</td>\n",
       "    </tr>\n",
       "    <tr>\n",
       "      <th>RC</th>\n",
       "      <td>514</td>\n",
       "    </tr>\n",
       "    <tr>\n",
       "      <th>PI</th>\n",
       "      <td>384</td>\n",
       "    </tr>\n",
       "    <tr>\n",
       "      <th>GO</th>\n",
       "      <td>337</td>\n",
       "    </tr>\n",
       "    <tr>\n",
       "      <th>PL</th>\n",
       "      <td>317</td>\n",
       "    </tr>\n",
       "    <tr>\n",
       "      <th>DC</th>\n",
       "      <td>261</td>\n",
       "    </tr>\n",
       "    <tr>\n",
       "      <th>GL</th>\n",
       "      <td>237</td>\n",
       "    </tr>\n",
       "    <tr>\n",
       "      <th>AM</th>\n",
       "      <td>224</td>\n",
       "    </tr>\n",
       "    <tr>\n",
       "      <th>EP</th>\n",
       "      <td>184</td>\n",
       "    </tr>\n",
       "    <tr>\n",
       "      <th>IK</th>\n",
       "      <td>183</td>\n",
       "    </tr>\n",
       "    <tr>\n",
       "      <th>OM</th>\n",
       "      <td>138</td>\n",
       "    </tr>\n",
       "    <tr>\n",
       "      <th>EO</th>\n",
       "      <td>137</td>\n",
       "    </tr>\n",
       "    <tr>\n",
       "      <th>PP</th>\n",
       "      <td>112</td>\n",
       "    </tr>\n",
       "    <tr>\n",
       "      <th>TE</th>\n",
       "      <td>85</td>\n",
       "    </tr>\n",
       "    <tr>\n",
       "      <th>BM</th>\n",
       "      <td>66</td>\n",
       "    </tr>\n",
       "    <tr>\n",
       "      <th>LL</th>\n",
       "      <td>57</td>\n",
       "    </tr>\n",
       "    <tr>\n",
       "      <th>IM</th>\n",
       "      <td>40</td>\n",
       "    </tr>\n",
       "    <tr>\n",
       "      <th>BL</th>\n",
       "      <td>36</td>\n",
       "    </tr>\n",
       "    <tr>\n",
       "      <th>CM</th>\n",
       "      <td>30</td>\n",
       "    </tr>\n",
       "    <tr>\n",
       "      <th>FB</th>\n",
       "      <td>18</td>\n",
       "    </tr>\n",
       "    <tr>\n",
       "      <th>OI</th>\n",
       "      <td>14</td>\n",
       "    </tr>\n",
       "    <tr>\n",
       "      <th>RF</th>\n",
       "      <td>12</td>\n",
       "    </tr>\n",
       "    <tr>\n",
       "      <th>BR</th>\n",
       "      <td>6</td>\n",
       "    </tr>\n",
       "    <tr>\n",
       "      <th>EB</th>\n",
       "      <td>4</td>\n",
       "    </tr>\n",
       "    <tr>\n",
       "      <th>RQ</th>\n",
       "      <td>3</td>\n",
       "    </tr>\n",
       "    <tr>\n",
       "      <th>FF</th>\n",
       "      <td>3</td>\n",
       "    </tr>\n",
       "    <tr>\n",
       "      <th>LS</th>\n",
       "      <td>3</td>\n",
       "    </tr>\n",
       "    <tr>\n",
       "      <th>EI</th>\n",
       "      <td>2</td>\n",
       "    </tr>\n",
       "    <tr>\n",
       "      <th>PC</th>\n",
       "      <td>1</td>\n",
       "    </tr>\n",
       "  </tbody>\n",
       "</table>\n",
       "</div>"
      ],
      "text/plain": [
       "               count\n",
       "Coverage Code       \n",
       "AD             43070\n",
       "GB             32193\n",
       "GD             22399\n",
       "AP             18894\n",
       "AL              9983\n",
       "AB              9397\n",
       "PA              8030\n",
       "PB              5089\n",
       "RB              4553\n",
       "NS              2297\n",
       "PM              1359\n",
       "AU              1273\n",
       "EL               855\n",
       "GK               632\n",
       "AN               558\n",
       "RC               514\n",
       "PI               384\n",
       "GO               337\n",
       "PL               317\n",
       "DC               261\n",
       "GL               237\n",
       "AM               224\n",
       "EP               184\n",
       "IK               183\n",
       "OM               138\n",
       "EO               137\n",
       "PP               112\n",
       "TE                85\n",
       "BM                66\n",
       "LL                57\n",
       "IM                40\n",
       "BL                36\n",
       "CM                30\n",
       "FB                18\n",
       "OI                14\n",
       "RF                12\n",
       "BR                 6\n",
       "EB                 4\n",
       "RQ                 3\n",
       "FF                 3\n",
       "LS                 3\n",
       "EI                 2\n",
       "PC                 1"
      ]
     },
     "execution_count": 51,
     "metadata": {},
     "output_type": "execute_result"
    }
   ],
   "source": [
    "# check count of classes\n",
    "\n",
    "coverage_code_classes = pd.DataFrame(final_data['Coverage Code'].value_counts()) #created dataset of value count\n",
    "coverage_code_classes"
   ]
  },
  {
   "cell_type": "code",
   "execution_count": 86,
   "id": "0fd22626",
   "metadata": {},
   "outputs": [
    {
     "data": {
      "text/plain": [
       "['IM', 'BL', 'CM', 'FB', 'OI', 'RF', 'BR', 'EB', 'RQ', 'FF', 'LS', 'EI', 'PC']"
      ]
     },
     "execution_count": 86,
     "metadata": {},
     "output_type": "execute_result"
    }
   ],
   "source": [
    "coverage_code_classes[coverage_code_classes['count'] < 50].index.to_list()"
   ]
  },
  {
   "cell_type": "code",
   "execution_count": 88,
   "id": "d147fc9b",
   "metadata": {
    "scrolled": true
   },
   "outputs": [
    {
     "name": "stdout",
     "output_type": "stream",
     "text": [
      "33\n"
     ]
    },
    {
     "data": {
      "text/plain": [
       "['PM',\n",
       " 'AU',\n",
       " 'EL',\n",
       " 'GK',\n",
       " 'AN',\n",
       " 'RC',\n",
       " 'PI',\n",
       " 'GO',\n",
       " 'PL',\n",
       " 'DC',\n",
       " 'GL',\n",
       " 'AM',\n",
       " 'EP',\n",
       " 'IK',\n",
       " 'OM',\n",
       " 'EO',\n",
       " 'PP',\n",
       " 'TE',\n",
       " 'BM',\n",
       " 'LL',\n",
       " 'IM',\n",
       " 'BL',\n",
       " 'CM',\n",
       " 'FB',\n",
       " 'OI',\n",
       " 'RF',\n",
       " 'BR',\n",
       " 'EB',\n",
       " 'RQ',\n",
       " 'FF',\n",
       " 'LS',\n",
       " 'EI',\n",
       " 'PC']"
      ]
     },
     "execution_count": 88,
     "metadata": {},
     "output_type": "execute_result"
    }
   ],
   "source": [
    "print(len(coverage_code_classes[coverage_code_classes['count'] < 2000].index.to_list()))\n",
    "coverage_code_classes[coverage_code_classes['count'] < 2000].index.to_list()"
   ]
  },
  {
   "cell_type": "code",
   "execution_count": 103,
   "id": "2e0c24ec",
   "metadata": {},
   "outputs": [],
   "source": [
    "very_few_classes = coverage_code_classes[coverage_code_classes['count'] < 50].index.to_list()\n",
    "medium_classes = coverage_code_classes[coverage_code_classes['count'] < 2000].index.to_list()"
   ]
  },
  {
   "cell_type": "code",
   "execution_count": 66,
   "id": "2c99c75f",
   "metadata": {},
   "outputs": [
    {
     "name": "stdout",
     "output_type": "stream",
     "text": [
      "(172, 3)\n"
     ]
    },
    {
     "data": {
      "text/html": [
       "<div>\n",
       "<style scoped>\n",
       "    .dataframe tbody tr th:only-of-type {\n",
       "        vertical-align: middle;\n",
       "    }\n",
       "\n",
       "    .dataframe tbody tr th {\n",
       "        vertical-align: top;\n",
       "    }\n",
       "\n",
       "    .dataframe thead th {\n",
       "        text-align: right;\n",
       "    }\n",
       "</style>\n",
       "<table border=\"1\" class=\"dataframe\">\n",
       "  <thead>\n",
       "    <tr style=\"text-align: right;\">\n",
       "      <th></th>\n",
       "      <th>Claim Description</th>\n",
       "      <th>Coverage Code</th>\n",
       "      <th>Accident Source</th>\n",
       "    </tr>\n",
       "  </thead>\n",
       "  <tbody>\n",
       "    <tr>\n",
       "      <th>803</th>\n",
       "      <td>property loss</td>\n",
       "      <td>IM</td>\n",
       "      <td>Not Otherwise Classified</td>\n",
       "    </tr>\n",
       "    <tr>\n",
       "      <th>832</th>\n",
       "      <td>wind caused tractor trailer roll potential inj...</td>\n",
       "      <td>BL</td>\n",
       "      <td>Windstorm</td>\n",
       "    </tr>\n",
       "  </tbody>\n",
       "</table>\n",
       "</div>"
      ],
      "text/plain": [
       "                                     Claim Description Coverage Code  \\\n",
       "803                                      property loss            IM   \n",
       "832  wind caused tractor trailer roll potential inj...            BL   \n",
       "\n",
       "              Accident Source  \n",
       "803  Not Otherwise Classified  \n",
       "832                 Windstorm  "
      ]
     },
     "execution_count": 66,
     "metadata": {},
     "output_type": "execute_result"
    }
   ],
   "source": [
    "# check the data with very few classes\n",
    "\n",
    "fewer_data = final_data[final_data['Coverage Code'].isin(very_few_classes)]\n",
    "print(fewer_data.shape)\n",
    "fewer_data.head(2)"
   ]
  },
  {
   "cell_type": "code",
   "execution_count": 58,
   "id": "cce79b91",
   "metadata": {
    "scrolled": true
   },
   "outputs": [
    {
     "name": "stdout",
     "output_type": "stream",
     "text": [
      "['BR', 'Burglary, Robbery, Theft - Property']\n"
     ]
    },
    {
     "data": {
      "text/plain": [
       "{'caller states builder called stated items property used build home stolen police report created': ['BR',\n",
       "  'Burglary, Robbery, Theft - Property'],\n",
       " 'oil discovered monitoring tanks': ['EI', 'Fuel'],\n",
       " 'eeoc charge discrimination filed current st john university employee charles fortmann': ['EB',\n",
       "  'Alleged Discrimination'],\n",
       " 'allegations violation wage hour violations limited assignment payment legal fees': ['EB',\n",
       "  'Alleged Negligent Act'],\n",
       " 'graffiti painted wall': ['RQ', 'Other - comprehensive'],\n",
       " 'sewage release': ['EI', 'Backup Sewer, Seepage'],\n",
       " 'cyber breach': ['FF', 'Not Otherwise Classified'],\n",
       " 'claimant suffered defamation loss business': ['LS',\n",
       "  'Loss of Use, Business Interruption'],\n",
       " 'property theft damage': ['BR', 'Burglary, Robbery, Theft - Property'],\n",
       " 'tools stolen job site francis howell north': ['BR',\n",
       "  'Burglary, Robbery, Theft - Property'],\n",
       " 'earthquake': ['RQ', 'Rain'],\n",
       " 'claimant suffered abuse attack': ['LS', 'Assault and/or abuse'],\n",
       " 'claimant alleging theft assets injuries': ['FF',\n",
       "  'Burglary, theft - no forced entry'],\n",
       " 'neosho school dsitrict civil case summons employee life insurance benefits': ['EB',\n",
       "  'Administrative Decision'],\n",
       " 'burst pipe production area': ['RQ',\n",
       "  'Sprinkler Leakage - Pipe or Head Failure'],\n",
       " 'slider doors stolen job site': ['BR', 'Burglary, Robbery, Theft - Property'],\n",
       " 'winds lifted section roof hickory co fema building': ['BR', 'Windstorm'],\n",
       " 'caller reported door broken installed appliances tools stolen': ['BR',\n",
       "  'Burglary, Robbery, Theft - Property'],\n",
       " 'leak ice machine caused damage tenant retail space': ['PC',\n",
       "  'Building services, NOC'],\n",
       " 'claimant financial loss': ['FF', 'Alleged Negligent Act'],\n",
       " 'alleged deformation claimant defamation claimant suffered stress anxiety': ['LS',\n",
       "  'Libel, slander - defamation'],\n",
       " 'morgan county rii school district district determined audit failed pay employee contributions music agreed pay forensic audit': ['EB',\n",
       "  'Alleged Negligent Act']}"
      ]
     },
     "execution_count": 58,
     "metadata": {},
     "output_type": "execute_result"
    }
   ],
   "source": [
    "# for fewer classes either we can directrly create dictionary and use classes\n",
    "\n",
    "\n",
    "fewer_class_dictionary = dict()\n",
    "for idx,row in fewer_data.iterrows():\n",
    "    \n",
    "    fewer_class_dictionary[row[0]] = [row[1],row[2]]\n",
    "\n",
    "print(fewer_class_dictionary[fewer_data['Claim Description'].iloc[0]])\n",
    "fewer_class_dictionary"
   ]
  },
  {
   "cell_type": "code",
   "execution_count": 61,
   "id": "90136358",
   "metadata": {},
   "outputs": [
    {
     "name": "stdout",
     "output_type": "stream",
     "text": [
      "Model saved to results/fewer_class_dictionary.pickle\n"
     ]
    }
   ],
   "source": [
    "# save dictionary\n",
    "path = \"results/fewer_class_dictionary.pickle\"\n",
    "pickle.dump(fewer_class_dictionary, open(path, \"wb\"))\n",
    "print(\"Model saved to\", path)"
   ]
  },
  {
   "cell_type": "markdown",
   "id": "a196c5d5",
   "metadata": {},
   "source": [
    "## Augment medium range data"
   ]
  },
  {
   "cell_type": "code",
   "execution_count": 63,
   "id": "558c1a4c",
   "metadata": {},
   "outputs": [
    {
     "data": {
      "text/plain": [
       "Coverage Code\n",
       "AD    43070\n",
       "GB    32193\n",
       "GD    22399\n",
       "AP    18894\n",
       "AL     9983\n",
       "AB     9397\n",
       "PA     8030\n",
       "PB     5089\n",
       "RB     4553\n",
       "NS     2297\n",
       "PM     1359\n",
       "AU     1273\n",
       "EL      855\n",
       "GK      632\n",
       "AN      558\n",
       "RC      514\n",
       "PI      384\n",
       "GO      337\n",
       "PL      317\n",
       "DC      261\n",
       "GL      237\n",
       "AM      224\n",
       "EP      184\n",
       "IK      183\n",
       "OM      138\n",
       "EO      137\n",
       "PP      112\n",
       "TE       85\n",
       "BM       66\n",
       "LL       57\n",
       "IM       40\n",
       "BL       36\n",
       "CM       30\n",
       "FB       18\n",
       "OI       14\n",
       "RF       12\n",
       "BR        6\n",
       "EB        4\n",
       "RQ        3\n",
       "FF        3\n",
       "LS        3\n",
       "EI        2\n",
       "PC        1\n",
       "Name: count, dtype: int64"
      ]
     },
     "execution_count": 63,
     "metadata": {},
     "output_type": "execute_result"
    }
   ],
   "source": [
    "final_data['Coverage Code'].value_counts()"
   ]
  },
  {
   "cell_type": "code",
   "execution_count": null,
   "id": "7a8b3ae3",
   "metadata": {},
   "outputs": [],
   "source": [
    "def augmentMyData(df, augmenter, repetitions=1, samples=200):\n",
    "    augmented_texts = []\n",
    "    # select only the minority class samples\n",
    "    spam_df = df[df['label'] == 1].reset_index(drop=True) # removes unecessary index column\n",
    "    for i in tqdm(np.random.randint(0, len(spam_df), samples)):\n",
    "        # generating 'n_samples' augmented texts\n",
    "        for _ in range(repetitions):\n",
    "            augmented_text = augmenter.augment(spam_df['text'].iloc[i])\n",
    "            augmented_texts.append(augmented_text)\n",
    "    \n",
    "    data = {\n",
    "        'label': 1,\n",
    "        'text': augmented_texts\n",
    "    }\n",
    "    aug_df = pd.DataFrame(data)\n",
    "    df = shuffle(df.append(aug_df).reset_index(drop=True))\n",
    "    return df"
   ]
  },
  {
   "cell_type": "code",
   "execution_count": 77,
   "id": "0aa195c3",
   "metadata": {
    "collapsed": true
   },
   "outputs": [
    {
     "name": "stdout",
     "output_type": "stream",
     "text": [
      "NS\n",
      "PM\n",
      "AU\n",
      "EL\n",
      "GK\n",
      "AN\n",
      "RC\n",
      "PI\n",
      "GO\n",
      "PL\n",
      "DC\n",
      "GL\n",
      "AM\n",
      "EP\n",
      "IK\n",
      "OM\n",
      "EO\n",
      "PP\n",
      "TE\n",
      "BM\n",
      "LL\n",
      "IM\n",
      "BL\n",
      "CM\n",
      "FB\n",
      "OI\n",
      "RF\n",
      "BR\n",
      "EB\n",
      "RQ\n",
      "FF\n",
      "LS\n",
      "EI\n",
      "PC\n"
     ]
    }
   ],
   "source": [
    "for i in medium_classes:\n",
    "    print(i)"
   ]
  },
  {
   "cell_type": "code",
   "execution_count": 82,
   "id": "51e58dc9",
   "metadata": {},
   "outputs": [
    {
     "data": {
      "text/plain": [
       "163990"
      ]
     },
     "execution_count": 82,
     "metadata": {},
     "output_type": "execute_result"
    }
   ],
   "source": [
    "final_data.shape[0]"
   ]
  },
  {
   "cell_type": "code",
   "execution_count": 79,
   "id": "9437ecf5",
   "metadata": {
    "scrolled": true
   },
   "outputs": [
    {
     "data": {
      "text/html": [
       "<div>\n",
       "<style scoped>\n",
       "    .dataframe tbody tr th:only-of-type {\n",
       "        vertical-align: middle;\n",
       "    }\n",
       "\n",
       "    .dataframe tbody tr th {\n",
       "        vertical-align: top;\n",
       "    }\n",
       "\n",
       "    .dataframe thead th {\n",
       "        text-align: right;\n",
       "    }\n",
       "</style>\n",
       "<table border=\"1\" class=\"dataframe\">\n",
       "  <thead>\n",
       "    <tr style=\"text-align: right;\">\n",
       "      <th></th>\n",
       "      <th>Claim Description</th>\n",
       "      <th>Coverage Code</th>\n",
       "      <th>Accident Source</th>\n",
       "    </tr>\n",
       "  </thead>\n",
       "  <tbody>\n",
       "    <tr>\n",
       "      <th>0</th>\n",
       "      <td>iv making left turn green arrow pedestrian ran...</td>\n",
       "      <td>AN</td>\n",
       "      <td>Struck pedestrian, bicycle</td>\n",
       "    </tr>\n",
       "    <tr>\n",
       "      <th>1</th>\n",
       "      <td>claimant alleges suffered injuries elevator</td>\n",
       "      <td>GB</td>\n",
       "      <td>Elevator/Escalator</td>\n",
       "    </tr>\n",
       "  </tbody>\n",
       "</table>\n",
       "</div>"
      ],
      "text/plain": [
       "                                   Claim Description Coverage Code  \\\n",
       "0  iv making left turn green arrow pedestrian ran...            AN   \n",
       "1        claimant alleges suffered injuries elevator            GB   \n",
       "\n",
       "              Accident Source  \n",
       "0  Struck pedestrian, bicycle  \n",
       "1          Elevator/Escalator  "
      ]
     },
     "execution_count": 79,
     "metadata": {},
     "output_type": "execute_result"
    }
   ],
   "source": [
    "final_data.head(2)"
   ]
  },
  {
   "cell_type": "code",
   "execution_count": 95,
   "id": "d273b579",
   "metadata": {},
   "outputs": [
    {
     "name": "stdout",
     "output_type": "stream",
     "text": [
      "34\n"
     ]
    },
    {
     "data": {
      "text/plain": [
       "['NS',\n",
       " 'PM',\n",
       " 'AU',\n",
       " 'EL',\n",
       " 'GK',\n",
       " 'AN',\n",
       " 'RC',\n",
       " 'PI',\n",
       " 'GO',\n",
       " 'PL',\n",
       " 'DC',\n",
       " 'GL',\n",
       " 'AM',\n",
       " 'EP',\n",
       " 'IK',\n",
       " 'OM',\n",
       " 'EO',\n",
       " 'PP',\n",
       " 'TE',\n",
       " 'BM',\n",
       " 'LL',\n",
       " 'IM',\n",
       " 'BL',\n",
       " 'CM',\n",
       " 'FB',\n",
       " 'OI',\n",
       " 'RF',\n",
       " 'BR',\n",
       " 'EB',\n",
       " 'RQ',\n",
       " 'FF',\n",
       " 'LS',\n",
       " 'EI',\n",
       " 'PC']"
      ]
     },
     "execution_count": 95,
     "metadata": {},
     "output_type": "execute_result"
    }
   ],
   "source": [
    "print(len(medium_classes))\n",
    "medium_classes"
   ]
  },
  {
   "cell_type": "code",
   "execution_count": 104,
   "id": "82a66ff5",
   "metadata": {},
   "outputs": [
    {
     "data": {
      "text/plain": [
       "['IM', 'BL', 'CM', 'FB', 'OI', 'RF', 'BR', 'EB', 'RQ', 'FF', 'LS', 'EI', 'PC']"
      ]
     },
     "execution_count": 104,
     "metadata": {},
     "output_type": "execute_result"
    }
   ],
   "source": [
    "very_few_classes"
   ]
  },
  {
   "cell_type": "code",
   "execution_count": 106,
   "id": "97b1ca66",
   "metadata": {
    "scrolled": true
   },
   "outputs": [
    {
     "data": {
      "text/plain": [
       "['PM',\n",
       " 'AU',\n",
       " 'EL',\n",
       " 'GK',\n",
       " 'AN',\n",
       " 'RC',\n",
       " 'PI',\n",
       " 'GO',\n",
       " 'PL',\n",
       " 'DC',\n",
       " 'GL',\n",
       " 'AM',\n",
       " 'EP',\n",
       " 'IK',\n",
       " 'OM',\n",
       " 'EO',\n",
       " 'PP',\n",
       " 'TE',\n",
       " 'BM',\n",
       " 'LL']"
      ]
     },
     "execution_count": 106,
     "metadata": {},
     "output_type": "execute_result"
    }
   ],
   "source": [
    "medium_class_without_few_class= []\n",
    "for class_label in medium_classes:\n",
    "    if class_label in very_few_classes:\n",
    "        continue\n",
    "        \n",
    "    else:\n",
    "        medium_class_without_few_class.append(class_label)\n",
    "        \n",
    "medium_class_without_few_class"
   ]
  },
  {
   "cell_type": "code",
   "execution_count": 321,
   "id": "5f6ed086",
   "metadata": {},
   "outputs": [],
   "source": [
    "final_data = pd.read_excel('augmented_data.xlsx') # I got this from Oversampling you will understand it below"
   ]
  },
  {
   "cell_type": "code",
   "execution_count": 322,
   "id": "8b877fb0",
   "metadata": {
    "scrolled": true
   },
   "outputs": [
    {
     "data": {
      "text/plain": [
       "Coverage Code\n",
       "AD    43070\n",
       "GB    32193\n",
       "GD    22399\n",
       "AP    18894\n",
       "AL     9983\n",
       "AB     9397\n",
       "PA     8030\n",
       "PB     5089\n",
       "RB     4553\n",
       "NS     2297\n",
       "PM     1859\n",
       "AU     1773\n",
       "EL     1355\n",
       "GK     1132\n",
       "AN     1058\n",
       "RC     1014\n",
       "PI      884\n",
       "GO      837\n",
       "PL      817\n",
       "DC      761\n",
       "GL      737\n",
       "AM      724\n",
       "EP      684\n",
       "IK      683\n",
       "OM      638\n",
       "EO      637\n",
       "PP      612\n",
       "TE      585\n",
       "BM      566\n",
       "LL      557\n",
       "IM       40\n",
       "BL       36\n",
       "CM       30\n",
       "FB       18\n",
       "OI       14\n",
       "RF       12\n",
       "BR        6\n",
       "EB        4\n",
       "LS        3\n",
       "FF        3\n",
       "RQ        3\n",
       "EI        2\n",
       "PC        1\n",
       "Name: count, dtype: int64"
      ]
     },
     "execution_count": 322,
     "metadata": {},
     "output_type": "execute_result"
    }
   ],
   "source": [
    "final_data['Coverage Code'].value_counts()"
   ]
  },
  {
   "cell_type": "code",
   "execution_count": 323,
   "id": "af672df7",
   "metadata": {},
   "outputs": [
    {
     "data": {
      "text/html": [
       "<div>\n",
       "<style scoped>\n",
       "    .dataframe tbody tr th:only-of-type {\n",
       "        vertical-align: middle;\n",
       "    }\n",
       "\n",
       "    .dataframe tbody tr th {\n",
       "        vertical-align: top;\n",
       "    }\n",
       "\n",
       "    .dataframe thead th {\n",
       "        text-align: right;\n",
       "    }\n",
       "</style>\n",
       "<table border=\"1\" class=\"dataframe\">\n",
       "  <thead>\n",
       "    <tr style=\"text-align: right;\">\n",
       "      <th></th>\n",
       "      <th>Claim Description</th>\n",
       "      <th>Coverage Code</th>\n",
       "    </tr>\n",
       "  </thead>\n",
       "  <tbody>\n",
       "    <tr>\n",
       "      <th>0</th>\n",
       "      <td>iv traveling wbnd desert inn rd east pawnee dr...</td>\n",
       "      <td>AB</td>\n",
       "    </tr>\n",
       "    <tr>\n",
       "      <th>1</th>\n",
       "      <td>claimant slipped stairs causing bodily injury</td>\n",
       "      <td>GB</td>\n",
       "    </tr>\n",
       "    <tr>\n",
       "      <th>2</th>\n",
       "      <td>customer driving parking lot cart came cart co...</td>\n",
       "      <td>GD</td>\n",
       "    </tr>\n",
       "    <tr>\n",
       "      <th>3</th>\n",
       "      <td>loading guest forklift pallet made contact rea...</td>\n",
       "      <td>GD</td>\n",
       "    </tr>\n",
       "    <tr>\n",
       "      <th>4</th>\n",
       "      <td>injuries mirror strike sideswiped another vehicle</td>\n",
       "      <td>AP</td>\n",
       "    </tr>\n",
       "    <tr>\n",
       "      <th>...</th>\n",
       "      <td>...</td>\n",
       "      <td>...</td>\n",
       "    </tr>\n",
       "    <tr>\n",
       "      <th>173985</th>\n",
       "      <td>reginal manager following another employee hom...</td>\n",
       "      <td>AP</td>\n",
       "    </tr>\n",
       "    <tr>\n",
       "      <th>173986</th>\n",
       "      <td>iv backed parked</td>\n",
       "      <td>AD</td>\n",
       "    </tr>\n",
       "    <tr>\n",
       "      <th>173987</th>\n",
       "      <td>iv hit parked unknown party</td>\n",
       "      <td>AP</td>\n",
       "    </tr>\n",
       "    <tr>\n",
       "      <th>173988</th>\n",
       "      <td>stray bullet fired unknown persons struck hvac...</td>\n",
       "      <td>RB</td>\n",
       "    </tr>\n",
       "    <tr>\n",
       "      <th>173989</th>\n",
       "      <td>claimant alleges vehicle damaged pothole parki...</td>\n",
       "      <td>GD</td>\n",
       "    </tr>\n",
       "  </tbody>\n",
       "</table>\n",
       "<p>173990 rows × 2 columns</p>\n",
       "</div>"
      ],
      "text/plain": [
       "                                        Claim Description Coverage Code\n",
       "0       iv traveling wbnd desert inn rd east pawnee dr...            AB\n",
       "1           claimant slipped stairs causing bodily injury            GB\n",
       "2       customer driving parking lot cart came cart co...            GD\n",
       "3       loading guest forklift pallet made contact rea...            GD\n",
       "4       injuries mirror strike sideswiped another vehicle            AP\n",
       "...                                                   ...           ...\n",
       "173985  reginal manager following another employee hom...            AP\n",
       "173986                                   iv backed parked            AD\n",
       "173987                        iv hit parked unknown party            AP\n",
       "173988  stray bullet fired unknown persons struck hvac...            RB\n",
       "173989  claimant alleges vehicle damaged pothole parki...            GD\n",
       "\n",
       "[173990 rows x 2 columns]"
      ]
     },
     "execution_count": 323,
     "metadata": {},
     "output_type": "execute_result"
    }
   ],
   "source": [
    "final_data"
   ]
  },
  {
   "cell_type": "code",
   "execution_count": 324,
   "id": "c7509506",
   "metadata": {
    "scrolled": true
   },
   "outputs": [
    {
     "name": "stdout",
     "output_type": "stream",
     "text": [
      "Unexpected exception formatting exception. Falling back to standard exception\n"
     ]
    },
    {
     "name": "stderr",
     "output_type": "stream",
     "text": [
      "Traceback (most recent call last):\n",
      "  File \"C:\\Users\\Admin\\AppData\\Roaming\\Python\\Python39\\site-packages\\IPython\\core\\interactiveshell.py\", line 3550, in run_code\n",
      "    exec(code_obj, self.user_global_ns, self.user_ns)\n",
      "  File \"C:\\Users\\Admin\\AppData\\Local\\Temp\\ipykernel_10532\\981238603.py\", line 1, in <module>\n",
      "    final_data.drop(labels='Accident Source',axis=1)\n",
      "  File \"C:\\Users\\Admin\\anaconda3\\lib\\site-packages\\pandas\\core\\frame.py\", line 5344, in drop\n",
      "    axes_single_arg=_shared_doc_kwargs[\"axes_single_arg\"],\n",
      "  File \"C:\\Users\\Admin\\anaconda3\\lib\\site-packages\\pandas\\core\\generic.py\", line 4711, in drop\n",
      "    )\n",
      "  File \"C:\\Users\\Admin\\anaconda3\\lib\\site-packages\\pandas\\core\\generic.py\", line 4753, in _drop_axis\n",
      "    errors: IgnoreRaise = ...,\n",
      "  File \"C:\\Users\\Admin\\anaconda3\\lib\\site-packages\\pandas\\core\\indexes\\base.py\", line 7000, in drop\n",
      "    # dt64/td64 to integer, also about treating tuples as sequences\n",
      "KeyError: \"['Accident Source'] not found in axis\"\n",
      "\n",
      "During handling of the above exception, another exception occurred:\n",
      "\n",
      "Traceback (most recent call last):\n",
      "  File \"C:\\Users\\Admin\\AppData\\Roaming\\Python\\Python39\\site-packages\\IPython\\core\\interactiveshell.py\", line 2144, in showtraceback\n",
      "    stb = self.InteractiveTB.structured_traceback(\n",
      "  File \"C:\\Users\\Admin\\AppData\\Roaming\\Python\\Python39\\site-packages\\IPython\\core\\ultratb.py\", line 1435, in structured_traceback\n",
      "    return FormattedTB.structured_traceback(\n",
      "  File \"C:\\Users\\Admin\\AppData\\Roaming\\Python\\Python39\\site-packages\\IPython\\core\\ultratb.py\", line 1326, in structured_traceback\n",
      "    return VerboseTB.structured_traceback(\n",
      "  File \"C:\\Users\\Admin\\AppData\\Roaming\\Python\\Python39\\site-packages\\IPython\\core\\ultratb.py\", line 1173, in structured_traceback\n",
      "    formatted_exception = self.format_exception_as_a_whole(etype, evalue, etb, number_of_lines_of_context,\n",
      "  File \"C:\\Users\\Admin\\AppData\\Roaming\\Python\\Python39\\site-packages\\IPython\\core\\ultratb.py\", line 1088, in format_exception_as_a_whole\n",
      "    frames.append(self.format_record(record))\n",
      "  File \"C:\\Users\\Admin\\AppData\\Roaming\\Python\\Python39\\site-packages\\IPython\\core\\ultratb.py\", line 970, in format_record\n",
      "    frame_info.lines, Colors, self.has_colors, lvals\n",
      "  File \"C:\\Users\\Admin\\AppData\\Roaming\\Python\\Python39\\site-packages\\IPython\\core\\ultratb.py\", line 792, in lines\n",
      "    return self._sd.lines\n",
      "  File \"C:\\Users\\Admin\\AppData\\Roaming\\Python\\Python39\\site-packages\\stack_data\\utils.py\", line 145, in cached_property_wrapper\n",
      "    value = obj.__dict__[self.func.__name__] = self.func(obj)\n",
      "  File \"C:\\Users\\Admin\\AppData\\Roaming\\Python\\Python39\\site-packages\\stack_data\\core.py\", line 734, in lines\n",
      "    pieces = self.included_pieces\n",
      "  File \"C:\\Users\\Admin\\AppData\\Roaming\\Python\\Python39\\site-packages\\stack_data\\utils.py\", line 145, in cached_property_wrapper\n",
      "    value = obj.__dict__[self.func.__name__] = self.func(obj)\n",
      "  File \"C:\\Users\\Admin\\AppData\\Roaming\\Python\\Python39\\site-packages\\stack_data\\core.py\", line 681, in included_pieces\n",
      "    pos = scope_pieces.index(self.executing_piece)\n",
      "  File \"C:\\Users\\Admin\\AppData\\Roaming\\Python\\Python39\\site-packages\\stack_data\\utils.py\", line 145, in cached_property_wrapper\n",
      "    value = obj.__dict__[self.func.__name__] = self.func(obj)\n",
      "  File \"C:\\Users\\Admin\\AppData\\Roaming\\Python\\Python39\\site-packages\\stack_data\\core.py\", line 660, in executing_piece\n",
      "    return only(\n",
      "  File \"C:\\Users\\Admin\\AppData\\Roaming\\Python\\Python39\\site-packages\\executing\\executing.py\", line 116, in only\n",
      "    raise NotOneValueFound('Expected one value, found 0')\n",
      "executing.executing.NotOneValueFound: Expected one value, found 0\n"
     ]
    }
   ],
   "source": [
    "final_data.drop(labels='Accident Source',axis=1)"
   ]
  },
  {
   "cell_type": "code",
   "execution_count": 325,
   "id": "162731f3",
   "metadata": {},
   "outputs": [
    {
     "data": {
      "text/plain": [
       "'\\n# Example usage\\nif __name__ == \"__main__\":\\n    # Example dataset\\n    data = {\\n        \\'label\\': np.random.randint(0, 40, 1000),  # 40 classes\\n        \\'text\\': [\"Example text data\"] * 1000      # Dummy text\\n    }\\n    df = pd.DataFrame(data)\\n    \\n    # Select 10 classes for augmentation\\n    selected_classes = np.random.choice(range(40), 10, replace=False)  # Randomly pick 10 classes\\n    \\n    # Augment the data\\n    augmented_df = augment_data_for_selected_classes(df, selected_classes, samples=200, repetitions=1)\\n    \\n    augmented_df = augment_data_for_selected_classes(final_data.drop(labels=\\'Accident Source\\',axis=1), medium_class_without_few_class, samples=20, repetitions=1)\\n    # Show augmented dataset\\n    print(augmented_df.head())\\n'"
      ]
     },
     "execution_count": 325,
     "metadata": {},
     "output_type": "execute_result"
    }
   ],
   "source": [
    "# Initialize the augmenter\n",
    "#augmenter = naw.ContextualWordEmbsAug(model_path='bert-base-uncased', action=\"insert\")\n",
    "\n",
    "def augment_data_for_selected_classes(df, selected_classes, samples=200, repetitions=1):\n",
    "    \"\"\"\n",
    "    Augments data for selected classes in a DataFrame.\n",
    "    \n",
    "    Parameters:\n",
    "        df (pd.DataFrame): Input DataFrame with columns 'label' and 'text'.\n",
    "        selected_classes (list): List of classes to augment.\n",
    "        samples (int): Number of samples to select for each class.\n",
    "        repetitions (int): Number of augmented examples to generate per sample.\n",
    "        \n",
    "    Returns:\n",
    "        pd.DataFrame: DataFrame with augmented data added.\n",
    "    \"\"\"\n",
    "    augmented_texts = []\n",
    "    augmented_labels = []\n",
    "    \n",
    "    # Loop through each selected class\n",
    "    for class_label in selected_classes:\n",
    "        print(f\"Augmenting class {class_label}...\")\n",
    "        \n",
    "        # Filter for the current class\n",
    "        class_df = df[df['Coverage Code'] == class_label].reset_index(drop=True)\n",
    "        \n",
    "        # Randomly sample from the class\n",
    "        indices = np.random.choice(len(class_df), samples, replace=True)\n",
    "        \n",
    "        # Augment selected samples\n",
    "        for idx in tqdm(indices, desc=f\"Class {class_label}\"):\n",
    "            original_text = class_df['Claim Description'].iloc[idx]\n",
    "            for _ in range(repetitions):\n",
    "                augmented_text = augmenter.augment(original_text)\n",
    "                augmented_texts.append(augmented_text)\n",
    "                augmented_labels.append(class_label)\n",
    "    \n",
    "    # Create a DataFrame for augmented data\n",
    "    augmented_df = pd.DataFrame({'Coverage Code': augmented_labels, 'Claim Description': augmented_texts})\n",
    "    \n",
    "    # Combine original and augmented data, shuffle, and reset index\n",
    "    df = shuffle(pd.concat([df, augmented_df], ignore_index=True))\n",
    "    return df\n",
    "'''\n",
    "# Example usage\n",
    "if __name__ == \"__main__\":\n",
    "    # Example dataset\n",
    "    data = {\n",
    "        'label': np.random.randint(0, 40, 1000),  # 40 classes\n",
    "        'text': [\"Example text data\"] * 1000      # Dummy text\n",
    "    }\n",
    "    df = pd.DataFrame(data)\n",
    "    \n",
    "    # Select 10 classes for augmentation\n",
    "    selected_classes = np.random.choice(range(40), 10, replace=False)  # Randomly pick 10 classes\n",
    "    \n",
    "    # Augment the data\n",
    "    augmented_df = augment_data_for_selected_classes(df, selected_classes, samples=200, repetitions=1)\n",
    "    \n",
    "    augmented_df = augment_data_for_selected_classes(final_data.drop(labels='Accident Source',axis=1), medium_class_without_few_class, samples=20, repetitions=1)\n",
    "    # Show augmented dataset\n",
    "    print(augmented_df.head())\n",
    "'''"
   ]
  },
  {
   "cell_type": "code",
   "execution_count": 327,
   "id": "09c4b07b",
   "metadata": {
    "scrolled": true
   },
   "outputs": [
    {
     "name": "stdout",
     "output_type": "stream",
     "text": [
      "Augmenting class PM...\n"
     ]
    },
    {
     "data": {
      "application/vnd.jupyter.widget-view+json": {
       "model_id": "4f3bb718e1f74b69985ab7bc8e901731",
       "version_major": 2,
       "version_minor": 0
      },
      "text/plain": [
       "Class PM:   0%|          | 0/5 [00:00<?, ?it/s]"
      ]
     },
     "metadata": {},
     "output_type": "display_data"
    },
    {
     "name": "stdout",
     "output_type": "stream",
     "text": [
      "Augmenting class AU...\n"
     ]
    },
    {
     "data": {
      "application/vnd.jupyter.widget-view+json": {
       "model_id": "36ff7de8f638433e9ca7be65f4b98599",
       "version_major": 2,
       "version_minor": 0
      },
      "text/plain": [
       "Class AU:   0%|          | 0/5 [00:00<?, ?it/s]"
      ]
     },
     "metadata": {},
     "output_type": "display_data"
    },
    {
     "name": "stdout",
     "output_type": "stream",
     "text": [
      "Augmenting class EL...\n"
     ]
    },
    {
     "data": {
      "application/vnd.jupyter.widget-view+json": {
       "model_id": "5ef6786dce554666a272eb946c39321d",
       "version_major": 2,
       "version_minor": 0
      },
      "text/plain": [
       "Class EL:   0%|          | 0/5 [00:00<?, ?it/s]"
      ]
     },
     "metadata": {},
     "output_type": "display_data"
    },
    {
     "name": "stdout",
     "output_type": "stream",
     "text": [
      "Augmenting class GK...\n"
     ]
    },
    {
     "data": {
      "application/vnd.jupyter.widget-view+json": {
       "model_id": "f16427f95a5c4af7b62a696f3ee2d391",
       "version_major": 2,
       "version_minor": 0
      },
      "text/plain": [
       "Class GK:   0%|          | 0/5 [00:00<?, ?it/s]"
      ]
     },
     "metadata": {},
     "output_type": "display_data"
    },
    {
     "name": "stdout",
     "output_type": "stream",
     "text": [
      "Augmenting class AN...\n"
     ]
    },
    {
     "data": {
      "application/vnd.jupyter.widget-view+json": {
       "model_id": "924e610b1b2a448ba040d5e6d725a169",
       "version_major": 2,
       "version_minor": 0
      },
      "text/plain": [
       "Class AN:   0%|          | 0/5 [00:00<?, ?it/s]"
      ]
     },
     "metadata": {},
     "output_type": "display_data"
    },
    {
     "name": "stdout",
     "output_type": "stream",
     "text": [
      "Augmenting class RC...\n"
     ]
    },
    {
     "data": {
      "application/vnd.jupyter.widget-view+json": {
       "model_id": "522492308c8443a4922939f7adf3d52a",
       "version_major": 2,
       "version_minor": 0
      },
      "text/plain": [
       "Class RC:   0%|          | 0/5 [00:00<?, ?it/s]"
      ]
     },
     "metadata": {},
     "output_type": "display_data"
    },
    {
     "name": "stdout",
     "output_type": "stream",
     "text": [
      "Augmenting class PI...\n"
     ]
    },
    {
     "data": {
      "application/vnd.jupyter.widget-view+json": {
       "model_id": "595c5f6fc99048f0a9e18095c50752af",
       "version_major": 2,
       "version_minor": 0
      },
      "text/plain": [
       "Class PI:   0%|          | 0/5 [00:00<?, ?it/s]"
      ]
     },
     "metadata": {},
     "output_type": "display_data"
    },
    {
     "name": "stdout",
     "output_type": "stream",
     "text": [
      "Augmenting class GO...\n"
     ]
    },
    {
     "data": {
      "application/vnd.jupyter.widget-view+json": {
       "model_id": "f2ffeab3f1894ed4b15567ce12b3fc67",
       "version_major": 2,
       "version_minor": 0
      },
      "text/plain": [
       "Class GO:   0%|          | 0/5 [00:00<?, ?it/s]"
      ]
     },
     "metadata": {},
     "output_type": "display_data"
    },
    {
     "name": "stdout",
     "output_type": "stream",
     "text": [
      "Augmenting class PL...\n"
     ]
    },
    {
     "data": {
      "application/vnd.jupyter.widget-view+json": {
       "model_id": "8c27262ceb6b4da68ab7e651298c9c68",
       "version_major": 2,
       "version_minor": 0
      },
      "text/plain": [
       "Class PL:   0%|          | 0/5 [00:00<?, ?it/s]"
      ]
     },
     "metadata": {},
     "output_type": "display_data"
    },
    {
     "name": "stdout",
     "output_type": "stream",
     "text": [
      "Augmenting class DC...\n"
     ]
    },
    {
     "data": {
      "application/vnd.jupyter.widget-view+json": {
       "model_id": "3d2d14594396413ebe14a9304c78e4be",
       "version_major": 2,
       "version_minor": 0
      },
      "text/plain": [
       "Class DC:   0%|          | 0/5 [00:00<?, ?it/s]"
      ]
     },
     "metadata": {},
     "output_type": "display_data"
    },
    {
     "name": "stdout",
     "output_type": "stream",
     "text": [
      "Augmenting class GL...\n"
     ]
    },
    {
     "data": {
      "application/vnd.jupyter.widget-view+json": {
       "model_id": "090a8038c76940168ac665deb6ae35bb",
       "version_major": 2,
       "version_minor": 0
      },
      "text/plain": [
       "Class GL:   0%|          | 0/5 [00:00<?, ?it/s]"
      ]
     },
     "metadata": {},
     "output_type": "display_data"
    },
    {
     "name": "stdout",
     "output_type": "stream",
     "text": [
      "Augmenting class AM...\n"
     ]
    },
    {
     "data": {
      "application/vnd.jupyter.widget-view+json": {
       "model_id": "eaa761166c624919bdc5ba72b6efd18d",
       "version_major": 2,
       "version_minor": 0
      },
      "text/plain": [
       "Class AM:   0%|          | 0/5 [00:00<?, ?it/s]"
      ]
     },
     "metadata": {},
     "output_type": "display_data"
    },
    {
     "name": "stdout",
     "output_type": "stream",
     "text": [
      "Augmenting class EP...\n"
     ]
    },
    {
     "data": {
      "application/vnd.jupyter.widget-view+json": {
       "model_id": "c107747860b74f50be1a4e00763613e2",
       "version_major": 2,
       "version_minor": 0
      },
      "text/plain": [
       "Class EP:   0%|          | 0/5 [00:00<?, ?it/s]"
      ]
     },
     "metadata": {},
     "output_type": "display_data"
    },
    {
     "name": "stdout",
     "output_type": "stream",
     "text": [
      "Augmenting class IK...\n"
     ]
    },
    {
     "data": {
      "application/vnd.jupyter.widget-view+json": {
       "model_id": "713313bd0c23443c9c28e44cb61ce374",
       "version_major": 2,
       "version_minor": 0
      },
      "text/plain": [
       "Class IK:   0%|          | 0/5 [00:00<?, ?it/s]"
      ]
     },
     "metadata": {},
     "output_type": "display_data"
    },
    {
     "name": "stdout",
     "output_type": "stream",
     "text": [
      "Augmenting class OM...\n"
     ]
    },
    {
     "data": {
      "application/vnd.jupyter.widget-view+json": {
       "model_id": "08b15a2e9a7640c88b74903b4a0b0d32",
       "version_major": 2,
       "version_minor": 0
      },
      "text/plain": [
       "Class OM:   0%|          | 0/5 [00:00<?, ?it/s]"
      ]
     },
     "metadata": {},
     "output_type": "display_data"
    },
    {
     "name": "stdout",
     "output_type": "stream",
     "text": [
      "Augmenting class EO...\n"
     ]
    },
    {
     "data": {
      "application/vnd.jupyter.widget-view+json": {
       "model_id": "49b0f328fb084f50b194e9470099f55c",
       "version_major": 2,
       "version_minor": 0
      },
      "text/plain": [
       "Class EO:   0%|          | 0/5 [00:00<?, ?it/s]"
      ]
     },
     "metadata": {},
     "output_type": "display_data"
    },
    {
     "name": "stdout",
     "output_type": "stream",
     "text": [
      "Augmenting class PP...\n"
     ]
    },
    {
     "data": {
      "application/vnd.jupyter.widget-view+json": {
       "model_id": "a2c2fbcc8056479c87642e0debdb46ac",
       "version_major": 2,
       "version_minor": 0
      },
      "text/plain": [
       "Class PP:   0%|          | 0/5 [00:00<?, ?it/s]"
      ]
     },
     "metadata": {},
     "output_type": "display_data"
    },
    {
     "name": "stdout",
     "output_type": "stream",
     "text": [
      "Augmenting class TE...\n"
     ]
    },
    {
     "data": {
      "application/vnd.jupyter.widget-view+json": {
       "model_id": "02e0b739958d4ed7960678380d0e4502",
       "version_major": 2,
       "version_minor": 0
      },
      "text/plain": [
       "Class TE:   0%|          | 0/5 [00:00<?, ?it/s]"
      ]
     },
     "metadata": {},
     "output_type": "display_data"
    },
    {
     "name": "stdout",
     "output_type": "stream",
     "text": [
      "Augmenting class BM...\n"
     ]
    },
    {
     "data": {
      "application/vnd.jupyter.widget-view+json": {
       "model_id": "46158bb6d11d408fbb4296914ce2ef2d",
       "version_major": 2,
       "version_minor": 0
      },
      "text/plain": [
       "Class BM:   0%|          | 0/5 [00:00<?, ?it/s]"
      ]
     },
     "metadata": {},
     "output_type": "display_data"
    },
    {
     "name": "stdout",
     "output_type": "stream",
     "text": [
      "Augmenting class LL...\n"
     ]
    },
    {
     "data": {
      "application/vnd.jupyter.widget-view+json": {
       "model_id": "44525ba8e4c346c4adcfb16ba7499a27",
       "version_major": 2,
       "version_minor": 0
      },
      "text/plain": [
       "Class LL:   0%|          | 0/5 [00:00<?, ?it/s]"
      ]
     },
     "metadata": {},
     "output_type": "display_data"
    },
    {
     "name": "stdout",
     "output_type": "stream",
     "text": [
      "Augmenting class IM...\n"
     ]
    },
    {
     "data": {
      "application/vnd.jupyter.widget-view+json": {
       "model_id": "b39ff76b65d149a28df81ec5576cee05",
       "version_major": 2,
       "version_minor": 0
      },
      "text/plain": [
       "Class IM:   0%|          | 0/5 [00:00<?, ?it/s]"
      ]
     },
     "metadata": {},
     "output_type": "display_data"
    },
    {
     "name": "stdout",
     "output_type": "stream",
     "text": [
      "Augmenting class BL...\n"
     ]
    },
    {
     "data": {
      "application/vnd.jupyter.widget-view+json": {
       "model_id": "93c76e2118964e359cd1cb54adb4372d",
       "version_major": 2,
       "version_minor": 0
      },
      "text/plain": [
       "Class BL:   0%|          | 0/5 [00:00<?, ?it/s]"
      ]
     },
     "metadata": {},
     "output_type": "display_data"
    },
    {
     "name": "stdout",
     "output_type": "stream",
     "text": [
      "Augmenting class CM...\n"
     ]
    },
    {
     "data": {
      "application/vnd.jupyter.widget-view+json": {
       "model_id": "aba28d14826944b4844b3b28d8e9aae6",
       "version_major": 2,
       "version_minor": 0
      },
      "text/plain": [
       "Class CM:   0%|          | 0/5 [00:00<?, ?it/s]"
      ]
     },
     "metadata": {},
     "output_type": "display_data"
    },
    {
     "name": "stdout",
     "output_type": "stream",
     "text": [
      "Augmenting class FB...\n"
     ]
    },
    {
     "data": {
      "application/vnd.jupyter.widget-view+json": {
       "model_id": "9a03d2a26f634b38b75cb83488e79acc",
       "version_major": 2,
       "version_minor": 0
      },
      "text/plain": [
       "Class FB:   0%|          | 0/5 [00:00<?, ?it/s]"
      ]
     },
     "metadata": {},
     "output_type": "display_data"
    },
    {
     "name": "stdout",
     "output_type": "stream",
     "text": [
      "Augmenting class OI...\n"
     ]
    },
    {
     "data": {
      "application/vnd.jupyter.widget-view+json": {
       "model_id": "c8a0a8e701c5437abe0c8c779a422690",
       "version_major": 2,
       "version_minor": 0
      },
      "text/plain": [
       "Class OI:   0%|          | 0/5 [00:00<?, ?it/s]"
      ]
     },
     "metadata": {},
     "output_type": "display_data"
    },
    {
     "name": "stdout",
     "output_type": "stream",
     "text": [
      "Augmenting class RF...\n"
     ]
    },
    {
     "data": {
      "application/vnd.jupyter.widget-view+json": {
       "model_id": "4715627ab0d24455a7291d71d472a9c8",
       "version_major": 2,
       "version_minor": 0
      },
      "text/plain": [
       "Class RF:   0%|          | 0/5 [00:00<?, ?it/s]"
      ]
     },
     "metadata": {},
     "output_type": "display_data"
    },
    {
     "name": "stdout",
     "output_type": "stream",
     "text": [
      "Augmenting class BR...\n"
     ]
    },
    {
     "data": {
      "application/vnd.jupyter.widget-view+json": {
       "model_id": "a06ebc5d0bc044b5a4f8fa23e8ab99b9",
       "version_major": 2,
       "version_minor": 0
      },
      "text/plain": [
       "Class BR:   0%|          | 0/5 [00:00<?, ?it/s]"
      ]
     },
     "metadata": {},
     "output_type": "display_data"
    },
    {
     "name": "stdout",
     "output_type": "stream",
     "text": [
      "Augmenting class EB...\n"
     ]
    },
    {
     "data": {
      "application/vnd.jupyter.widget-view+json": {
       "model_id": "4dc1b9fc944a41b0a9266fe5c87b61db",
       "version_major": 2,
       "version_minor": 0
      },
      "text/plain": [
       "Class EB:   0%|          | 0/5 [00:00<?, ?it/s]"
      ]
     },
     "metadata": {},
     "output_type": "display_data"
    },
    {
     "name": "stdout",
     "output_type": "stream",
     "text": [
      "Augmenting class RQ...\n"
     ]
    },
    {
     "data": {
      "application/vnd.jupyter.widget-view+json": {
       "model_id": "5eed4e460a3c4b6b801bdeaa18ead205",
       "version_major": 2,
       "version_minor": 0
      },
      "text/plain": [
       "Class RQ:   0%|          | 0/5 [00:00<?, ?it/s]"
      ]
     },
     "metadata": {},
     "output_type": "display_data"
    },
    {
     "name": "stdout",
     "output_type": "stream",
     "text": [
      "Augmenting class FF...\n"
     ]
    },
    {
     "data": {
      "application/vnd.jupyter.widget-view+json": {
       "model_id": "4ed01b270bad40b7b1f181fe5b33194d",
       "version_major": 2,
       "version_minor": 0
      },
      "text/plain": [
       "Class FF:   0%|          | 0/5 [00:00<?, ?it/s]"
      ]
     },
     "metadata": {},
     "output_type": "display_data"
    },
    {
     "name": "stdout",
     "output_type": "stream",
     "text": [
      "Augmenting class LS...\n"
     ]
    },
    {
     "data": {
      "application/vnd.jupyter.widget-view+json": {
       "model_id": "8745bd60f77745cfadc604b03250b22f",
       "version_major": 2,
       "version_minor": 0
      },
      "text/plain": [
       "Class LS:   0%|          | 0/5 [00:00<?, ?it/s]"
      ]
     },
     "metadata": {},
     "output_type": "display_data"
    },
    {
     "name": "stdout",
     "output_type": "stream",
     "text": [
      "Augmenting class EI...\n"
     ]
    },
    {
     "data": {
      "application/vnd.jupyter.widget-view+json": {
       "model_id": "df331fe4489e48bcbbb257a969b58ba8",
       "version_major": 2,
       "version_minor": 0
      },
      "text/plain": [
       "Class EI:   0%|          | 0/5 [00:00<?, ?it/s]"
      ]
     },
     "metadata": {},
     "output_type": "display_data"
    },
    {
     "name": "stdout",
     "output_type": "stream",
     "text": [
      "Augmenting class PC...\n"
     ]
    },
    {
     "data": {
      "application/vnd.jupyter.widget-view+json": {
       "model_id": "c2487b9b495e4a7ebe7ad1114667833e",
       "version_major": 2,
       "version_minor": 0
      },
      "text/plain": [
       "Class PC:   0%|          | 0/5 [00:00<?, ?it/s]"
      ]
     },
     "metadata": {},
     "output_type": "display_data"
    },
    {
     "name": "stdout",
     "output_type": "stream",
     "text": [
      "                                        Claim Description Coverage Code\n",
      "84769                     client driver reversed claimant            AD\n",
      "146749  clmt alleges receiving coffee dt lid coffee po...            PA\n",
      "128996  jackie claims pushing rack caught right ring f...            EL\n",
      "72183   guest alledges pump failed stop flowing fuel c...            GD\n",
      "120718  cart hit guests car due wind guests vehicle de...            GD\n"
     ]
    }
   ],
   "source": [
    "augmented_df = augment_data_for_selected_classes(final_data, medium_classes, samples=5, repetitions=1)\n",
    "# Show augmented dataset\n",
    "print(augmented_df.head())"
   ]
  },
  {
   "cell_type": "code",
   "execution_count": 328,
   "id": "a82abf3b",
   "metadata": {
    "scrolled": true
   },
   "outputs": [
    {
     "data": {
      "text/plain": [
       "Coverage Code\n",
       "AD    43070\n",
       "GB    32193\n",
       "GD    22399\n",
       "AP    18894\n",
       "AL     9983\n",
       "AB     9397\n",
       "PA     8030\n",
       "PB     5089\n",
       "RB     4553\n",
       "NS     2297\n",
       "PM     1864\n",
       "AU     1778\n",
       "EL     1360\n",
       "GK     1137\n",
       "AN     1063\n",
       "RC     1019\n",
       "PI      889\n",
       "GO      842\n",
       "PL      822\n",
       "DC      766\n",
       "GL      742\n",
       "AM      729\n",
       "EP      689\n",
       "IK      688\n",
       "OM      643\n",
       "EO      642\n",
       "PP      617\n",
       "TE      590\n",
       "BM      571\n",
       "LL      562\n",
       "IM       45\n",
       "BL       41\n",
       "CM       35\n",
       "FB       23\n",
       "OI       19\n",
       "RF       17\n",
       "BR       11\n",
       "EB        9\n",
       "RQ        8\n",
       "FF        8\n",
       "LS        8\n",
       "EI        7\n",
       "PC        6\n",
       "Name: count, dtype: int64"
      ]
     },
     "execution_count": 328,
     "metadata": {},
     "output_type": "execute_result"
    }
   ],
   "source": [
    "augmented_df['Coverage Code'].value_counts() # new data i imported have 500 augmented row in medium class except fewer class"
   ]
  },
  {
   "cell_type": "code",
   "execution_count": 128,
   "id": "792999b0",
   "metadata": {
    "scrolled": true
   },
   "outputs": [
    {
     "name": "stdout",
     "output_type": "stream",
     "text": [
      "Original:  (163990, 3)\n",
      "Augmented:  (164010, 2)\n"
     ]
    }
   ],
   "source": [
    "print(\"Original: \", final_data.shape)\n",
    "print(\"Augmented: \", augmented_df.shape)  #there are 33 coverage code in medium class and we augmented 5 row in each"
   ]
  },
  {
   "cell_type": "markdown",
   "id": "860b4f30",
   "metadata": {},
   "source": [
    "### Notice the value count of medium classes has increased \n",
    "#### I ran the same code for 500 samples in another collab while moving forward in this notebook\n",
    "- Will merge later\n",
    "\n",
    "##### PS : I have merged it above"
   ]
  },
  {
   "cell_type": "code",
   "execution_count": 139,
   "id": "8bdfa300",
   "metadata": {
    "collapsed": true
   },
   "outputs": [
    {
     "ename": "TypeError",
     "evalue": "write() got an unexpected keyword argument 'engine_kwargs'",
     "output_type": "error",
     "traceback": [
      "\u001b[1;31m---------------------------------------------------------------------------\u001b[0m",
      "\u001b[1;31mTypeError\u001b[0m                                 Traceback (most recent call last)",
      "\u001b[1;32m~\\AppData\\Local\\Temp\\ipykernel_10532\\782930339.py\u001b[0m in \u001b[0;36m?\u001b[1;34m()\u001b[0m\n\u001b[1;32m----> 1\u001b[1;33m \u001b[0maugmented_df\u001b[0m\u001b[1;33m.\u001b[0m\u001b[0mto_excel\u001b[0m\u001b[1;33m(\u001b[0m\u001b[1;34m'final1_data.csv'\u001b[0m\u001b[1;33m,\u001b[0m \u001b[0mindex\u001b[0m\u001b[1;33m=\u001b[0m\u001b[1;32mFalse\u001b[0m\u001b[1;33m,\u001b[0m \u001b[0mengine\u001b[0m\u001b[1;33m=\u001b[0m\u001b[1;34m\"xlsxwriter\"\u001b[0m\u001b[1;33m)\u001b[0m\u001b[1;33m\u001b[0m\u001b[1;33m\u001b[0m\u001b[0m\n\u001b[0m",
      "\u001b[1;32m~\\anaconda3\\lib\\site-packages\\pandas\\core\\generic.py\u001b[0m in \u001b[0;36m?\u001b[1;34m(self, excel_writer, sheet_name, na_rep, float_format, columns, header, index, index_label, startrow, startcol, engine, merge_cells, inf_rep, freeze_panes, storage_options, engine_kwargs)\u001b[0m\n",
      "\u001b[1;31mTypeError\u001b[0m: write() got an unexpected keyword argument 'engine_kwargs'"
     ]
    }
   ],
   "source": [
    "#augmented_df.to_excel('final1_data.xlsx', index=False, engine=\"xlsxwriter\")"
   ]
  },
  {
   "cell_type": "code",
   "execution_count": 329,
   "id": "3573fb8d",
   "metadata": {},
   "outputs": [
    {
     "data": {
      "text/html": [
       "<div>\n",
       "<style scoped>\n",
       "    .dataframe tbody tr th:only-of-type {\n",
       "        vertical-align: middle;\n",
       "    }\n",
       "\n",
       "    .dataframe tbody tr th {\n",
       "        vertical-align: top;\n",
       "    }\n",
       "\n",
       "    .dataframe thead th {\n",
       "        text-align: right;\n",
       "    }\n",
       "</style>\n",
       "<table border=\"1\" class=\"dataframe\">\n",
       "  <thead>\n",
       "    <tr style=\"text-align: right;\">\n",
       "      <th></th>\n",
       "      <th>Claim Description</th>\n",
       "      <th>Coverage Code</th>\n",
       "    </tr>\n",
       "  </thead>\n",
       "  <tbody>\n",
       "    <tr>\n",
       "      <th>84769</th>\n",
       "      <td>client driver reversed claimant</td>\n",
       "      <td>AD</td>\n",
       "    </tr>\n",
       "  </tbody>\n",
       "</table>\n",
       "</div>"
      ],
      "text/plain": [
       "                     Claim Description Coverage Code\n",
       "84769  client driver reversed claimant            AD"
      ]
     },
     "execution_count": 329,
     "metadata": {},
     "output_type": "execute_result"
    }
   ],
   "source": [
    "augmented_df.head(1)"
   ]
  },
  {
   "cell_type": "markdown",
   "id": "93287e72",
   "metadata": {},
   "source": [
    "### Under Sampling"
   ]
  },
  {
   "cell_type": "code",
   "execution_count": 359,
   "id": "3c5afa41",
   "metadata": {},
   "outputs": [],
   "source": [
    "from imblearn.under_sampling import RandomUnderSampler\n",
    "\n",
    "# Randomly under sample the majority class\n",
    "rus = RandomUnderSampler(random_state=42, sampling_strategy={'AD':10000,'GB':10000,'GD':10000,'AP':10000})\n",
    "df_train_rus, _ = rus.fit_resample(augmented_df, augmented_df['Coverage Code'])"
   ]
  },
  {
   "cell_type": "code",
   "execution_count": 360,
   "id": "ae198818",
   "metadata": {
    "scrolled": true
   },
   "outputs": [
    {
     "data": {
      "text/plain": [
       "Coverage Code\n",
       "AP    10000\n",
       "AD    10000\n",
       "GD    10000\n",
       "GB    10000\n",
       "AL     9983\n",
       "AB     9397\n",
       "PA     8030\n",
       "PB     5089\n",
       "RB     4553\n",
       "NS     2297\n",
       "PM     1864\n",
       "AU     1778\n",
       "EL     1360\n",
       "GK     1137\n",
       "AN     1063\n",
       "RC     1019\n",
       "PI      889\n",
       "GO      842\n",
       "PL      822\n",
       "DC      766\n",
       "GL      742\n",
       "AM      729\n",
       "EP      689\n",
       "IK      688\n",
       "OM      643\n",
       "EO      642\n",
       "PP      617\n",
       "TE      590\n",
       "BM      571\n",
       "LL      562\n",
       "IM       45\n",
       "BL       41\n",
       "CM       35\n",
       "FB       23\n",
       "OI       19\n",
       "RF       17\n",
       "BR       11\n",
       "EB        9\n",
       "LS        8\n",
       "FF        8\n",
       "RQ        8\n",
       "EI        7\n",
       "PC        6\n",
       "Name: count, dtype: int64"
      ]
     },
     "execution_count": 360,
     "metadata": {},
     "output_type": "execute_result"
    }
   ],
   "source": [
    "df_train_rus['Coverage Code'].value_counts()"
   ]
  },
  {
   "cell_type": "markdown",
   "id": "dc862a47",
   "metadata": {},
   "source": [
    "# Cant do train test split with one value count of a class we need atleast 2\n",
    "## Thats why did a small oversampling now performing oversampling on large scale"
   ]
  },
  {
   "cell_type": "code",
   "execution_count": 424,
   "id": "a1c55b76",
   "metadata": {
    "scrolled": true
   },
   "outputs": [],
   "source": [
    "# split the dataset before augmenting to avoid augmented data in valid set\n",
    "X= df_train_rus['Claim Description']\n",
    "y=  df_train_rus['Coverage Code']\n",
    "X_train, X_test, y_train, y_test = train_test_split(X,y, test_size=0.1,stratify=y,random_state=33)"
   ]
  },
  {
   "cell_type": "code",
   "execution_count": 425,
   "id": "edbe48dd",
   "metadata": {},
   "outputs": [
    {
     "data": {
      "text/plain": [
       "(9760,)"
      ]
     },
     "execution_count": 425,
     "metadata": {},
     "output_type": "execute_result"
    }
   ],
   "source": [
    "X_test.shape"
   ]
  },
  {
   "cell_type": "markdown",
   "id": "67bdeca7",
   "metadata": {},
   "source": [
    "#### RandomOverSampler"
   ]
  },
  {
   "cell_type": "code",
   "execution_count": 426,
   "id": "ab84f13c",
   "metadata": {},
   "outputs": [],
   "source": [
    "from collections import Counter\n",
    "from imblearn.over_sampling import RandomOverSampler\n",
    "from imblearn.over_sampling import SMOTE"
   ]
  },
  {
   "cell_type": "code",
   "execution_count": 427,
   "id": "ec467706",
   "metadata": {},
   "outputs": [
    {
     "data": {
      "text/plain": [
       "Counter({'AD': 43070,\n",
       "         'GB': 32193,\n",
       "         'GD': 22399,\n",
       "         'AP': 18894,\n",
       "         'AL': 9983,\n",
       "         'AB': 9397,\n",
       "         'PA': 8030,\n",
       "         'PB': 5089,\n",
       "         'RB': 4553,\n",
       "         'NS': 2297,\n",
       "         'PM': 1864,\n",
       "         'AU': 1778,\n",
       "         'EL': 1360,\n",
       "         'GK': 1137,\n",
       "         'AN': 1063,\n",
       "         'RC': 1019,\n",
       "         'PI': 889,\n",
       "         'GO': 842,\n",
       "         'PL': 822,\n",
       "         'DC': 766,\n",
       "         'GL': 742,\n",
       "         'AM': 729,\n",
       "         'EP': 689,\n",
       "         'IK': 688,\n",
       "         'OM': 643,\n",
       "         'EO': 642,\n",
       "         'PP': 617,\n",
       "         'TE': 590,\n",
       "         'BM': 571,\n",
       "         'LL': 562,\n",
       "         'IM': 45,\n",
       "         'BL': 41,\n",
       "         'CM': 35,\n",
       "         'FB': 23,\n",
       "         'OI': 19,\n",
       "         'RF': 17,\n",
       "         'BR': 11,\n",
       "         'EB': 9,\n",
       "         'RQ': 8,\n",
       "         'FF': 8,\n",
       "         'LS': 8,\n",
       "         'EI': 7,\n",
       "         'PC': 6})"
      ]
     },
     "execution_count": 427,
     "metadata": {},
     "output_type": "execute_result"
    }
   ],
   "source": [
    "Counter(augmented_df['Coverage Code'])"
   ]
  },
  {
   "cell_type": "code",
   "execution_count": 428,
   "id": "93646a51",
   "metadata": {},
   "outputs": [
    {
     "data": {
      "text/html": [
       "<div>\n",
       "<style scoped>\n",
       "    .dataframe tbody tr th:only-of-type {\n",
       "        vertical-align: middle;\n",
       "    }\n",
       "\n",
       "    .dataframe tbody tr th {\n",
       "        vertical-align: top;\n",
       "    }\n",
       "\n",
       "    .dataframe thead th {\n",
       "        text-align: right;\n",
       "    }\n",
       "</style>\n",
       "<table border=\"1\" class=\"dataframe\">\n",
       "  <thead>\n",
       "    <tr style=\"text-align: right;\">\n",
       "      <th></th>\n",
       "      <th>Claim Description</th>\n",
       "    </tr>\n",
       "  </thead>\n",
       "  <tbody>\n",
       "    <tr>\n",
       "      <th>63085</th>\n",
       "      <td>customer reported marvin truck hit card reader...</td>\n",
       "    </tr>\n",
       "    <tr>\n",
       "      <th>144128</th>\n",
       "      <td>calcium leaks damaged clmnt is vehicle</td>\n",
       "    </tr>\n",
       "    <tr>\n",
       "      <th>77431</th>\n",
       "      <td>['subject matter elizabeth kolar security brea...</td>\n",
       "    </tr>\n",
       "    <tr>\n",
       "      <th>6748</th>\n",
       "      <td>wife opened caesar salad ate lunch rd th march...</td>\n",
       "    </tr>\n",
       "    <tr>\n",
       "      <th>95620</th>\n",
       "      <td>customer entering store door caught back flip ...</td>\n",
       "    </tr>\n",
       "    <tr>\n",
       "      <th>...</th>\n",
       "      <td>...</td>\n",
       "    </tr>\n",
       "    <tr>\n",
       "      <th>145169</th>\n",
       "      <td>tree fell across one apartments causing roof d...</td>\n",
       "    </tr>\n",
       "    <tr>\n",
       "      <th>145626</th>\n",
       "      <td>guest fell shower injured</td>\n",
       "    </tr>\n",
       "    <tr>\n",
       "      <th>17103</th>\n",
       "      <td>gfs backing hit corner building trailer bricks...</td>\n",
       "    </tr>\n",
       "    <tr>\n",
       "      <th>75866</th>\n",
       "      <td>iv leaving parking lot commercial account pick...</td>\n",
       "    </tr>\n",
       "    <tr>\n",
       "      <th>38687</th>\n",
       "      <td>iv pulling forward parking spot cut tight stri...</td>\n",
       "    </tr>\n",
       "  </tbody>\n",
       "</table>\n",
       "<p>87838 rows × 1 columns</p>\n",
       "</div>"
      ],
      "text/plain": [
       "                                        Claim Description\n",
       "63085   customer reported marvin truck hit card reader...\n",
       "144128             calcium leaks damaged clmnt is vehicle\n",
       "77431   ['subject matter elizabeth kolar security brea...\n",
       "6748    wife opened caesar salad ate lunch rd th march...\n",
       "95620   customer entering store door caught back flip ...\n",
       "...                                                   ...\n",
       "145169  tree fell across one apartments causing roof d...\n",
       "145626                          guest fell shower injured\n",
       "17103   gfs backing hit corner building trailer bricks...\n",
       "75866   iv leaving parking lot commercial account pick...\n",
       "38687   iv pulling forward parking spot cut tight stri...\n",
       "\n",
       "[87838 rows x 1 columns]"
      ]
     },
     "execution_count": 428,
     "metadata": {},
     "output_type": "execute_result"
    }
   ],
   "source": [
    "pd.DataFrame(X_train).astype(str)"
   ]
  },
  {
   "cell_type": "markdown",
   "id": "de076e43",
   "metadata": {},
   "source": [
    "### Vectorization"
   ]
  },
  {
   "cell_type": "code",
   "execution_count": 429,
   "id": "ea19f402",
   "metadata": {},
   "outputs": [
    {
     "data": {
      "text/plain": [
       "pandas.core.series.Series"
      ]
     },
     "execution_count": 429,
     "metadata": {},
     "output_type": "execute_result"
    }
   ],
   "source": [
    "type(X_train)"
   ]
  },
  {
   "cell_type": "code",
   "execution_count": 430,
   "id": "96cf6edc",
   "metadata": {},
   "outputs": [
    {
     "name": "stdout",
     "output_type": "stream",
     "text": [
      "<class 'str'>\n",
      "0\n"
     ]
    }
   ],
   "source": [
    "print(type(X_train[0]))\n",
    "\n",
    "if type(X_train[3]) != str:\n",
    "    print(1)\n",
    "else: print(0)"
   ]
  },
  {
   "cell_type": "code",
   "execution_count": 431,
   "id": "81c3ecca",
   "metadata": {
    "scrolled": true
   },
   "outputs": [
    {
     "data": {
      "text/plain": [
       "63085     customer reported marvin truck hit card reader...\n",
       "144128               calcium leaks damaged clmnt is vehicle\n",
       "77431     ['subject matter elizabeth kolar security brea...\n",
       "6748      wife opened caesar salad ate lunch rd th march...\n",
       "95620     customer entering store door caught back flip ...\n",
       "                                ...                        \n",
       "145169    tree fell across one apartments causing roof d...\n",
       "145626                            guest fell shower injured\n",
       "17103     gfs backing hit corner building trailer bricks...\n",
       "75866     iv leaving parking lot commercial account pick...\n",
       "38687     iv pulling forward parking spot cut tight stri...\n",
       "Name: Claim Description, Length: 87838, dtype: object"
      ]
     },
     "execution_count": 431,
     "metadata": {},
     "output_type": "execute_result"
    }
   ],
   "source": [
    "X_train"
   ]
  },
  {
   "cell_type": "code",
   "execution_count": 432,
   "id": "6b3c63e3",
   "metadata": {
    "scrolled": true
   },
   "outputs": [
    {
     "data": {
      "text/plain": [
       "'iv traveling wbnd desert inn rd east pawnee dr vehicle directly front toyota camry ingrid ibarra hit brakes forcefully coming almost complete stop effort avoid collision iv swerved left unoccupied centeremergency lane unsuccessful struck cv directly front presumably caused thecv toyota enter lane causing chain reaction resulted ford focus'"
      ]
     },
     "execution_count": 432,
     "metadata": {},
     "output_type": "execute_result"
    }
   ],
   "source": [
    "X_train[0]"
   ]
  },
  {
   "cell_type": "code",
   "execution_count": 446,
   "id": "c1ebee6c",
   "metadata": {},
   "outputs": [
    {
     "data": {
      "text/html": [
       "<div>\n",
       "<style scoped>\n",
       "    .dataframe tbody tr th:only-of-type {\n",
       "        vertical-align: middle;\n",
       "    }\n",
       "\n",
       "    .dataframe tbody tr th {\n",
       "        vertical-align: top;\n",
       "    }\n",
       "\n",
       "    .dataframe thead th {\n",
       "        text-align: right;\n",
       "    }\n",
       "</style>\n",
       "<table border=\"1\" class=\"dataframe\">\n",
       "  <thead>\n",
       "    <tr style=\"text-align: right;\">\n",
       "      <th></th>\n",
       "      <th>Claim Description</th>\n",
       "      <th>Coverage Code</th>\n",
       "    </tr>\n",
       "  </thead>\n",
       "  <tbody>\n",
       "    <tr>\n",
       "      <th>21026</th>\n",
       "      <td>small pd iv backing onto road iv bed flipped i...</td>\n",
       "      <td>AL</td>\n",
       "    </tr>\n",
       "  </tbody>\n",
       "</table>\n",
       "</div>"
      ],
      "text/plain": [
       "                                       Claim Description Coverage Code\n",
       "21026  small pd iv backing onto road iv bed flipped i...            AL"
      ]
     },
     "execution_count": 446,
     "metadata": {},
     "output_type": "execute_result"
    }
   ],
   "source": [
    "df_train_rus[df_train_rus.index==21026]"
   ]
  },
  {
   "cell_type": "code",
   "execution_count": 442,
   "id": "850ef0f0",
   "metadata": {
    "scrolled": true
   },
   "outputs": [
    {
     "name": "stdout",
     "output_type": "stream",
     "text": [
      "71 --> <class 'list'>\n",
      "2404 --> <class 'list'>\n",
      "2658 --> <class 'list'>\n",
      "3089 --> <class 'list'>\n",
      "4313 --> <class 'list'>\n",
      "4643 --> <class 'list'>\n",
      "4950 --> <class 'list'>\n",
      "4962 --> <class 'list'>\n",
      "5835 --> <class 'list'>\n",
      "5972 --> <class 'list'>\n",
      "6117 --> <class 'list'>\n",
      "6688 --> <class 'list'>\n",
      "6966 --> <class 'list'>\n",
      "7220 --> <class 'list'>\n",
      "7249 --> <class 'list'>\n",
      "7321 --> <class 'list'>\n",
      "8048 --> <class 'list'>\n",
      "8336 --> <class 'float'>\n",
      "8351 --> <class 'list'>\n",
      "9581 --> <class 'list'>\n",
      "9861 --> <class 'list'>\n",
      "10011 --> <class 'list'>\n",
      "10327 --> <class 'list'>\n",
      "10522 --> <class 'list'>\n",
      "11925 --> <class 'list'>\n",
      "12201 --> <class 'list'>\n",
      "12593 --> <class 'list'>\n",
      "13235 --> <class 'list'>\n",
      "14839 --> <class 'list'>\n",
      "15264 --> <class 'list'>\n",
      "15432 --> <class 'list'>\n",
      "16614 --> <class 'list'>\n",
      "17033 --> <class 'list'>\n",
      "18221 --> <class 'list'>\n",
      "18693 --> <class 'list'>\n",
      "19323 --> <class 'list'>\n",
      "19481 --> <class 'list'>\n",
      "19896 --> <class 'list'>\n",
      "20413 --> <class 'list'>\n",
      "20793 --> <class 'list'>\n",
      "20834 --> <class 'list'>\n",
      "21026 --> <class 'float'>\n",
      "21441 --> <class 'list'>\n",
      "23414 --> <class 'list'>\n",
      "24359 --> <class 'list'>\n",
      "24839 --> <class 'list'>\n",
      "25461 --> <class 'list'>\n",
      "25701 --> <class 'list'>\n",
      "26372 --> <class 'list'>\n",
      "26403 --> <class 'list'>\n",
      "28931 --> <class 'list'>\n",
      "28981 --> <class 'list'>\n",
      "29508 --> <class 'list'>\n",
      "29719 --> <class 'list'>\n",
      "29817 --> <class 'list'>\n",
      "30317 --> <class 'list'>\n",
      "30839 --> <class 'list'>\n",
      "31235 --> <class 'list'>\n",
      "31589 --> <class 'list'>\n",
      "33352 --> <class 'list'>\n",
      "33525 --> <class 'list'>\n",
      "34499 --> <class 'list'>\n",
      "35816 --> <class 'list'>\n",
      "36354 --> <class 'list'>\n",
      "36764 --> <class 'list'>\n",
      "37330 --> <class 'list'>\n",
      "37595 --> <class 'list'>\n",
      "37785 --> <class 'list'>\n",
      "38895 --> <class 'list'>\n",
      "39505 --> <class 'list'>\n",
      "40353 --> <class 'list'>\n",
      "40385 --> <class 'list'>\n",
      "42032 --> <class 'list'>\n",
      "42532 --> <class 'list'>\n",
      "43425 --> <class 'list'>\n",
      "43734 --> <class 'list'>\n",
      "45229 --> <class 'list'>\n",
      "45258 --> <class 'list'>\n",
      "45370 --> <class 'list'>\n",
      "45457 --> <class 'list'>\n",
      "45646 --> <class 'list'>\n",
      "45809 --> <class 'list'>\n",
      "46465 --> <class 'list'>\n",
      "46557 --> <class 'list'>\n",
      "47574 --> <class 'list'>\n",
      "48518 --> <class 'list'>\n",
      "48772 --> <class 'list'>\n",
      "49220 --> <class 'list'>\n",
      "49672 --> <class 'list'>\n",
      "50358 --> <class 'list'>\n",
      "52155 --> <class 'list'>\n",
      "52663 --> <class 'list'>\n",
      "54145 --> <class 'list'>\n",
      "54246 --> <class 'list'>\n",
      "54494 --> <class 'list'>\n",
      "54941 --> <class 'list'>\n",
      "55842 --> <class 'list'>\n",
      "56415 --> <class 'list'>\n",
      "56471 --> <class 'list'>\n",
      "56674 --> <class 'list'>\n",
      "57068 --> <class 'list'>\n",
      "59406 --> <class 'list'>\n",
      "60020 --> <class 'list'>\n",
      "60172 --> <class 'list'>\n",
      "60461 --> <class 'list'>\n",
      "60563 --> <class 'list'>\n",
      "60892 --> <class 'list'>\n",
      "61195 --> <class 'list'>\n",
      "61606 --> <class 'list'>\n",
      "62145 --> <class 'list'>\n",
      "62167 --> <class 'list'>\n",
      "62723 --> <class 'list'>\n",
      "63184 --> <class 'list'>\n",
      "64245 --> <class 'list'>\n",
      "64568 --> <class 'list'>\n",
      "65507 --> <class 'list'>\n",
      "65646 --> <class 'list'>\n",
      "66056 --> <class 'float'>\n",
      "67896 --> <class 'list'>\n",
      "68258 --> <class 'list'>\n",
      "68276 --> <class 'list'>\n",
      "68279 --> <class 'list'>\n",
      "68991 --> <class 'list'>\n",
      "69330 --> <class 'list'>\n",
      "72848 --> <class 'list'>\n",
      "73081 --> <class 'list'>\n",
      "74248 --> <class 'list'>\n",
      "74433 --> <class 'list'>\n",
      "75228 --> <class 'list'>\n",
      "75577 --> <class 'list'>\n",
      "76359 --> <class 'list'>\n",
      "77111 --> <class 'list'>\n",
      "78231 --> <class 'list'>\n",
      "78521 --> <class 'list'>\n",
      "78533 --> <class 'list'>\n",
      "79125 --> <class 'list'>\n",
      "79484 --> <class 'list'>\n",
      "80330 --> <class 'list'>\n",
      "80779 --> <class 'list'>\n",
      "81039 --> <class 'list'>\n",
      "81106 --> <class 'list'>\n",
      "81346 --> <class 'list'>\n",
      "82639 --> <class 'list'>\n",
      "82772 --> <class 'list'>\n",
      "82897 --> <class 'list'>\n",
      "83554 --> <class 'list'>\n",
      "85539 --> <class 'list'>\n",
      "86583 --> <class 'list'>\n",
      "87281 --> <class 'list'>\n"
     ]
    }
   ],
   "source": [
    "count = 0\n",
    "l = []\n",
    "for i in range(0,87838):\n",
    "    if type(X_train.iloc[i]) != str:\n",
    "        print(count,'-->',type(X_train.iloc[i]))\n",
    "        l.append(count)\n",
    "    count = count+1"
   ]
  },
  {
   "cell_type": "code",
   "execution_count": 444,
   "id": "7e7e555b",
   "metadata": {
    "collapsed": true
   },
   "outputs": [
    {
     "name": "stdout",
     "output_type": "stream",
     "text": [
      "149\n"
     ]
    },
    {
     "data": {
      "text/plain": [
       "[71,\n",
       " 2404,\n",
       " 2658,\n",
       " 3089,\n",
       " 4313,\n",
       " 4643,\n",
       " 4950,\n",
       " 4962,\n",
       " 5835,\n",
       " 5972,\n",
       " 6117,\n",
       " 6688,\n",
       " 6966,\n",
       " 7220,\n",
       " 7249,\n",
       " 7321,\n",
       " 8048,\n",
       " 8336,\n",
       " 8351,\n",
       " 9581,\n",
       " 9861,\n",
       " 10011,\n",
       " 10327,\n",
       " 10522,\n",
       " 11925,\n",
       " 12201,\n",
       " 12593,\n",
       " 13235,\n",
       " 14839,\n",
       " 15264,\n",
       " 15432,\n",
       " 16614,\n",
       " 17033,\n",
       " 18221,\n",
       " 18693,\n",
       " 19323,\n",
       " 19481,\n",
       " 19896,\n",
       " 20413,\n",
       " 20793,\n",
       " 20834,\n",
       " 21026,\n",
       " 21441,\n",
       " 23414,\n",
       " 24359,\n",
       " 24839,\n",
       " 25461,\n",
       " 25701,\n",
       " 26372,\n",
       " 26403,\n",
       " 28931,\n",
       " 28981,\n",
       " 29508,\n",
       " 29719,\n",
       " 29817,\n",
       " 30317,\n",
       " 30839,\n",
       " 31235,\n",
       " 31589,\n",
       " 33352,\n",
       " 33525,\n",
       " 34499,\n",
       " 35816,\n",
       " 36354,\n",
       " 36764,\n",
       " 37330,\n",
       " 37595,\n",
       " 37785,\n",
       " 38895,\n",
       " 39505,\n",
       " 40353,\n",
       " 40385,\n",
       " 42032,\n",
       " 42532,\n",
       " 43425,\n",
       " 43734,\n",
       " 45229,\n",
       " 45258,\n",
       " 45370,\n",
       " 45457,\n",
       " 45646,\n",
       " 45809,\n",
       " 46465,\n",
       " 46557,\n",
       " 47574,\n",
       " 48518,\n",
       " 48772,\n",
       " 49220,\n",
       " 49672,\n",
       " 50358,\n",
       " 52155,\n",
       " 52663,\n",
       " 54145,\n",
       " 54246,\n",
       " 54494,\n",
       " 54941,\n",
       " 55842,\n",
       " 56415,\n",
       " 56471,\n",
       " 56674,\n",
       " 57068,\n",
       " 59406,\n",
       " 60020,\n",
       " 60172,\n",
       " 60461,\n",
       " 60563,\n",
       " 60892,\n",
       " 61195,\n",
       " 61606,\n",
       " 62145,\n",
       " 62167,\n",
       " 62723,\n",
       " 63184,\n",
       " 64245,\n",
       " 64568,\n",
       " 65507,\n",
       " 65646,\n",
       " 66056,\n",
       " 67896,\n",
       " 68258,\n",
       " 68276,\n",
       " 68279,\n",
       " 68991,\n",
       " 69330,\n",
       " 72848,\n",
       " 73081,\n",
       " 74248,\n",
       " 74433,\n",
       " 75228,\n",
       " 75577,\n",
       " 76359,\n",
       " 77111,\n",
       " 78231,\n",
       " 78521,\n",
       " 78533,\n",
       " 79125,\n",
       " 79484,\n",
       " 80330,\n",
       " 80779,\n",
       " 81039,\n",
       " 81106,\n",
       " 81346,\n",
       " 82639,\n",
       " 82772,\n",
       " 82897,\n",
       " 83554,\n",
       " 85539,\n",
       " 86583,\n",
       " 87281]"
      ]
     },
     "execution_count": 444,
     "metadata": {},
     "output_type": "execute_result"
    }
   ],
   "source": [
    "print(len(l))\n",
    "l"
   ]
  },
  {
   "cell_type": "code",
   "execution_count": 439,
   "id": "aaff766d",
   "metadata": {
    "scrolled": true
   },
   "outputs": [
    {
     "data": {
      "text/plain": [
       "63085     customer reported marvin truck hit card reader...\n",
       "144128               calcium leaks damaged clmnt is vehicle\n",
       "77431     ['subject matter elizabeth kolar security brea...\n",
       "6748      wife opened caesar salad ate lunch rd th march...\n",
       "95620     customer entering store door caught back flip ...\n",
       "                                ...                        \n",
       "145169    tree fell across one apartments causing roof d...\n",
       "145626                            guest fell shower injured\n",
       "17103     gfs backing hit corner building trailer bricks...\n",
       "75866     iv leaving parking lot commercial account pick...\n",
       "38687     iv pulling forward parking spot cut tight stri...\n",
       "Name: Claim Description, Length: 87838, dtype: object"
      ]
     },
     "execution_count": 439,
     "metadata": {},
     "output_type": "execute_result"
    }
   ],
   "source": [
    "X_train"
   ]
  },
  {
   "cell_type": "code",
   "execution_count": 388,
   "id": "396444c3",
   "metadata": {
    "scrolled": true
   },
   "outputs": [
    {
     "ename": "AttributeError",
     "evalue": "'list' object has no attribute 'lower'",
     "output_type": "error",
     "traceback": [
      "\u001b[1;31m---------------------------------------------------------------------------\u001b[0m",
      "\u001b[1;31mAttributeError\u001b[0m                            Traceback (most recent call last)",
      "Cell \u001b[1;32mIn[388], line 16\u001b[0m\n\u001b[0;32m     12\u001b[0m \u001b[38;5;66;03m# convert data into vector form\u001b[39;00m\n\u001b[0;32m     14\u001b[0m count_vector_step_1 \u001b[38;5;241m=\u001b[39m CountVectorizer()\n\u001b[1;32m---> 16\u001b[0m X_traintf \u001b[38;5;241m=\u001b[39m \u001b[43mcount_vector_step_1\u001b[49m\u001b[38;5;241;43m.\u001b[39;49m\u001b[43mfit_transform\u001b[49m\u001b[43m(\u001b[49m\u001b[43mX_train\u001b[49m\u001b[43m)\u001b[49m\n\u001b[0;32m     17\u001b[0m X_testtf \u001b[38;5;241m=\u001b[39m count_vector_step_1\u001b[38;5;241m.\u001b[39mtransform(X_test)\n",
      "File \u001b[1;32m~\\anaconda3\\lib\\site-packages\\sklearn\\feature_extraction\\text.py:1330\u001b[0m, in \u001b[0;36mCountVectorizer.fit_transform\u001b[1;34m(self, raw_documents, y)\u001b[0m\n\u001b[0;32m   1322\u001b[0m             warnings\u001b[38;5;241m.\u001b[39mwarn(\n\u001b[0;32m   1323\u001b[0m                 \u001b[38;5;124m\"\u001b[39m\u001b[38;5;124mUpper case characters found in\u001b[39m\u001b[38;5;124m\"\u001b[39m\n\u001b[0;32m   1324\u001b[0m                 \u001b[38;5;124m\"\u001b[39m\u001b[38;5;124m vocabulary while \u001b[39m\u001b[38;5;124m'\u001b[39m\u001b[38;5;124mlowercase\u001b[39m\u001b[38;5;124m'\u001b[39m\u001b[38;5;124m\"\u001b[39m\n\u001b[0;32m   1325\u001b[0m                 \u001b[38;5;124m\"\u001b[39m\u001b[38;5;124m is True. These entries will not\u001b[39m\u001b[38;5;124m\"\u001b[39m\n\u001b[0;32m   1326\u001b[0m                 \u001b[38;5;124m\"\u001b[39m\u001b[38;5;124m be matched with any documents\u001b[39m\u001b[38;5;124m\"\u001b[39m\n\u001b[0;32m   1327\u001b[0m             )\n\u001b[0;32m   1328\u001b[0m             \u001b[38;5;28;01mbreak\u001b[39;00m\n\u001b[1;32m-> 1330\u001b[0m vocabulary, X \u001b[38;5;241m=\u001b[39m \u001b[38;5;28;43mself\u001b[39;49m\u001b[38;5;241;43m.\u001b[39;49m\u001b[43m_count_vocab\u001b[49m\u001b[43m(\u001b[49m\u001b[43mraw_documents\u001b[49m\u001b[43m,\u001b[49m\u001b[43m \u001b[49m\u001b[38;5;28;43mself\u001b[39;49m\u001b[38;5;241;43m.\u001b[39;49m\u001b[43mfixed_vocabulary_\u001b[49m\u001b[43m)\u001b[49m\n\u001b[0;32m   1332\u001b[0m \u001b[38;5;28;01mif\u001b[39;00m \u001b[38;5;28mself\u001b[39m\u001b[38;5;241m.\u001b[39mbinary:\n\u001b[0;32m   1333\u001b[0m     X\u001b[38;5;241m.\u001b[39mdata\u001b[38;5;241m.\u001b[39mfill(\u001b[38;5;241m1\u001b[39m)\n",
      "File \u001b[1;32m~\\anaconda3\\lib\\site-packages\\sklearn\\feature_extraction\\text.py:1201\u001b[0m, in \u001b[0;36mCountVectorizer._count_vocab\u001b[1;34m(self, raw_documents, fixed_vocab)\u001b[0m\n\u001b[0;32m   1199\u001b[0m \u001b[38;5;28;01mfor\u001b[39;00m doc \u001b[38;5;129;01min\u001b[39;00m raw_documents:\n\u001b[0;32m   1200\u001b[0m     feature_counter \u001b[38;5;241m=\u001b[39m {}\n\u001b[1;32m-> 1201\u001b[0m     \u001b[38;5;28;01mfor\u001b[39;00m feature \u001b[38;5;129;01min\u001b[39;00m \u001b[43manalyze\u001b[49m\u001b[43m(\u001b[49m\u001b[43mdoc\u001b[49m\u001b[43m)\u001b[49m:\n\u001b[0;32m   1202\u001b[0m         \u001b[38;5;28;01mtry\u001b[39;00m:\n\u001b[0;32m   1203\u001b[0m             feature_idx \u001b[38;5;241m=\u001b[39m vocabulary[feature]\n",
      "File \u001b[1;32m~\\anaconda3\\lib\\site-packages\\sklearn\\feature_extraction\\text.py:113\u001b[0m, in \u001b[0;36m_analyze\u001b[1;34m(doc, analyzer, tokenizer, ngrams, preprocessor, decoder, stop_words)\u001b[0m\n\u001b[0;32m    111\u001b[0m \u001b[38;5;28;01melse\u001b[39;00m:\n\u001b[0;32m    112\u001b[0m     \u001b[38;5;28;01mif\u001b[39;00m preprocessor \u001b[38;5;129;01mis\u001b[39;00m \u001b[38;5;129;01mnot\u001b[39;00m \u001b[38;5;28;01mNone\u001b[39;00m:\n\u001b[1;32m--> 113\u001b[0m         doc \u001b[38;5;241m=\u001b[39m \u001b[43mpreprocessor\u001b[49m\u001b[43m(\u001b[49m\u001b[43mdoc\u001b[49m\u001b[43m)\u001b[49m\n\u001b[0;32m    114\u001b[0m     \u001b[38;5;28;01mif\u001b[39;00m tokenizer \u001b[38;5;129;01mis\u001b[39;00m \u001b[38;5;129;01mnot\u001b[39;00m \u001b[38;5;28;01mNone\u001b[39;00m:\n\u001b[0;32m    115\u001b[0m         doc \u001b[38;5;241m=\u001b[39m tokenizer(doc)\n",
      "File \u001b[1;32m~\\anaconda3\\lib\\site-packages\\sklearn\\feature_extraction\\text.py:71\u001b[0m, in \u001b[0;36m_preprocess\u001b[1;34m(doc, accent_function, lower)\u001b[0m\n\u001b[0;32m     52\u001b[0m \u001b[38;5;250m\u001b[39m\u001b[38;5;124;03m\"\"\"Chain together an optional series of text preprocessing steps to\u001b[39;00m\n\u001b[0;32m     53\u001b[0m \u001b[38;5;124;03mapply to a document.\u001b[39;00m\n\u001b[0;32m     54\u001b[0m \n\u001b[1;32m   (...)\u001b[0m\n\u001b[0;32m     68\u001b[0m \u001b[38;5;124;03m    preprocessed string\u001b[39;00m\n\u001b[0;32m     69\u001b[0m \u001b[38;5;124;03m\"\"\"\u001b[39;00m\n\u001b[0;32m     70\u001b[0m \u001b[38;5;28;01mif\u001b[39;00m lower:\n\u001b[1;32m---> 71\u001b[0m     doc \u001b[38;5;241m=\u001b[39m \u001b[43mdoc\u001b[49m\u001b[38;5;241;43m.\u001b[39;49m\u001b[43mlower\u001b[49m()\n\u001b[0;32m     72\u001b[0m \u001b[38;5;28;01mif\u001b[39;00m accent_function \u001b[38;5;129;01mis\u001b[39;00m \u001b[38;5;129;01mnot\u001b[39;00m \u001b[38;5;28;01mNone\u001b[39;00m:\n\u001b[0;32m     73\u001b[0m     doc \u001b[38;5;241m=\u001b[39m accent_function(doc)\n",
      "\u001b[1;31mAttributeError\u001b[0m: 'list' object has no attribute 'lower'"
     ]
    }
   ],
   "source": [
    "# convert data into vector form\n",
    "\n",
    "'''\n",
    "count_vector_step_1 = CountVectorizer()\n",
    "\n",
    "X_traintf = count_vector_step_1.fit_transform(X_train)\n",
    "X_testtf = count_vector_step_1.transform(X_test)\n",
    "\n",
    "'''"
   ]
  },
  {
   "cell_type": "code",
   "execution_count": 447,
   "id": "94c30f3e",
   "metadata": {},
   "outputs": [],
   "source": [
    "# convert data into vector form\n",
    "\n",
    "count_vector_step_1 = CountVectorizer()\n",
    "\n",
    "X_train = count_vector_step_1.fit_transform(X_train)\n",
    "X_test = count_vector_step_1.transform(X_test)\n",
    "\n",
    "# Initialize CountVectorizer\n",
    "count_vector_step_1 = CountVectorizer()\n",
    "\n",
    "# Fit and transform the training data\n",
    "X_traintf = count_vector_step_1.fit_transform(X_train)\n",
    "\n",
    "# Transform the test data\n",
    "X_testtf = count_vector_step_1.transform(X_test)"
   ]
  },
  {
   "cell_type": "code",
   "execution_count": 448,
   "id": "2900ec00",
   "metadata": {},
   "outputs": [
    {
     "data": {
      "text/plain": [
       "(87838,)"
      ]
     },
     "execution_count": 448,
     "metadata": {},
     "output_type": "execute_result"
    }
   ],
   "source": [
    "X_train.shape"
   ]
  },
  {
   "cell_type": "code",
   "execution_count": 449,
   "id": "3073b9c7",
   "metadata": {
    "scrolled": true
   },
   "outputs": [
    {
     "data": {
      "text/plain": [
       "(87838, 55074)"
      ]
     },
     "execution_count": 449,
     "metadata": {},
     "output_type": "execute_result"
    }
   ],
   "source": [
    "X_traintf.shape"
   ]
  },
  {
   "cell_type": "code",
   "execution_count": 450,
   "id": "8c264a77",
   "metadata": {},
   "outputs": [
    {
     "data": {
      "text/plain": [
       "63085     AD\n",
       "144128    GD\n",
       "77431     GO\n",
       "6748      PA\n",
       "95620     GB\n",
       "          ..\n",
       "145169    RB\n",
       "145626    PM\n",
       "17103     AD\n",
       "75866     AB\n",
       "38687     AP\n",
       "Name: Coverage Code, Length: 87838, dtype: object"
      ]
     },
     "execution_count": 450,
     "metadata": {},
     "output_type": "execute_result"
    }
   ],
   "source": [
    "y_train"
   ]
  },
  {
   "cell_type": "code",
   "execution_count": 451,
   "id": "9dedffd7",
   "metadata": {
    "scrolled": true
   },
   "outputs": [
    {
     "data": {
      "text/html": [
       "<div>\n",
       "<style scoped>\n",
       "    .dataframe tbody tr th:only-of-type {\n",
       "        vertical-align: middle;\n",
       "    }\n",
       "\n",
       "    .dataframe tbody tr th {\n",
       "        vertical-align: top;\n",
       "    }\n",
       "\n",
       "    .dataframe thead th {\n",
       "        text-align: right;\n",
       "    }\n",
       "</style>\n",
       "<table border=\"1\" class=\"dataframe\">\n",
       "  <thead>\n",
       "    <tr style=\"text-align: right;\">\n",
       "      <th></th>\n",
       "      <th>Claim Description</th>\n",
       "      <th>Coverage Code</th>\n",
       "    </tr>\n",
       "  </thead>\n",
       "  <tbody>\n",
       "    <tr>\n",
       "      <th>84769</th>\n",
       "      <td>client driver reversed claimant</td>\n",
       "      <td>AD</td>\n",
       "    </tr>\n",
       "    <tr>\n",
       "      <th>146749</th>\n",
       "      <td>clmt alleges receiving coffee dt lid coffee po...</td>\n",
       "      <td>PA</td>\n",
       "    </tr>\n",
       "    <tr>\n",
       "      <th>128996</th>\n",
       "      <td>jackie claims pushing rack caught right ring f...</td>\n",
       "      <td>EL</td>\n",
       "    </tr>\n",
       "    <tr>\n",
       "      <th>72183</th>\n",
       "      <td>guest alledges pump failed stop flowing fuel c...</td>\n",
       "      <td>GD</td>\n",
       "    </tr>\n",
       "    <tr>\n",
       "      <th>120718</th>\n",
       "      <td>cart hit guests car due wind guests vehicle de...</td>\n",
       "      <td>GD</td>\n",
       "    </tr>\n",
       "    <tr>\n",
       "      <th>...</th>\n",
       "      <td>...</td>\n",
       "      <td>...</td>\n",
       "    </tr>\n",
       "    <tr>\n",
       "      <th>147210</th>\n",
       "      <td>driver parked exiting vehicle saw utility vehi...</td>\n",
       "      <td>AD</td>\n",
       "    </tr>\n",
       "    <tr>\n",
       "      <th>61289</th>\n",
       "      <td>claimants town thanksgiving holiday received n...</td>\n",
       "      <td>PB</td>\n",
       "    </tr>\n",
       "    <tr>\n",
       "      <th>161522</th>\n",
       "      <td>small pd driver picking yard roll slid close b...</td>\n",
       "      <td>AL</td>\n",
       "    </tr>\n",
       "    <tr>\n",
       "      <th>28482</th>\n",
       "      <td>v door properly latched drove passed v road do...</td>\n",
       "      <td>AD</td>\n",
       "    </tr>\n",
       "    <tr>\n",
       "      <th>844</th>\n",
       "      <td>late report monday march ee stopped traffic co...</td>\n",
       "      <td>AD</td>\n",
       "    </tr>\n",
       "  </tbody>\n",
       "</table>\n",
       "<p>174155 rows × 2 columns</p>\n",
       "</div>"
      ],
      "text/plain": [
       "                                        Claim Description Coverage Code\n",
       "84769                     client driver reversed claimant            AD\n",
       "146749  clmt alleges receiving coffee dt lid coffee po...            PA\n",
       "128996  jackie claims pushing rack caught right ring f...            EL\n",
       "72183   guest alledges pump failed stop flowing fuel c...            GD\n",
       "120718  cart hit guests car due wind guests vehicle de...            GD\n",
       "...                                                   ...           ...\n",
       "147210  driver parked exiting vehicle saw utility vehi...            AD\n",
       "61289   claimants town thanksgiving holiday received n...            PB\n",
       "161522  small pd driver picking yard roll slid close b...            AL\n",
       "28482   v door properly latched drove passed v road do...            AD\n",
       "844     late report monday march ee stopped traffic co...            AD\n",
       "\n",
       "[174155 rows x 2 columns]"
      ]
     },
     "execution_count": 451,
     "metadata": {},
     "output_type": "execute_result"
    }
   ],
   "source": [
    "augmented_df"
   ]
  },
  {
   "cell_type": "code",
   "execution_count": 452,
   "id": "df8325a9",
   "metadata": {
    "scrolled": true
   },
   "outputs": [
    {
     "data": {
      "text/plain": [
       "Coverage Code\n",
       "AP    10000\n",
       "AD    10000\n",
       "GD    10000\n",
       "GB     9999\n",
       "AL     9983\n",
       "AB     9397\n",
       "PA     8030\n",
       "PB     5089\n",
       "RB     4553\n",
       "NS     2297\n",
       "PM     1864\n",
       "AU     1778\n",
       "EL     1360\n",
       "GK     1137\n",
       "AN     1063\n",
       "RC     1019\n",
       "PI      889\n",
       "GO      842\n",
       "PL      822\n",
       "DC      766\n",
       "GL      742\n",
       "AM      729\n",
       "EP      689\n",
       "IK      688\n",
       "OM      643\n",
       "EO      642\n",
       "PP      617\n",
       "TE      590\n",
       "BM      571\n",
       "LL      562\n",
       "IM       45\n",
       "BL       41\n",
       "CM       35\n",
       "FB       23\n",
       "OI       19\n",
       "RF       17\n",
       "BR       11\n",
       "EB        9\n",
       "LS        8\n",
       "FF        8\n",
       "RQ        8\n",
       "EI        7\n",
       "PC        6\n",
       "Name: count, dtype: int64"
      ]
     },
     "execution_count": 452,
     "metadata": {},
     "output_type": "execute_result"
    }
   ],
   "source": [
    "df_train_rus['Coverage Code'].value_counts()"
   ]
  },
  {
   "cell_type": "code",
   "execution_count": 469,
   "id": "925c067a",
   "metadata": {
    "scrolled": true
   },
   "outputs": [
    {
     "data": {
      "text/plain": [
       "Index(['NS', 'PM', 'AU', 'EL', 'GK', 'AN', 'RC', 'PI', 'GO', 'PL', 'DC', 'GL',\n",
       "       'AM', 'EP', 'IK', 'OM', 'EO', 'PP', 'TE', 'BM', 'LL'],\n",
       "      dtype='object', name='Coverage Code')"
      ]
     },
     "execution_count": 469,
     "metadata": {},
     "output_type": "execute_result"
    }
   ],
   "source": [
    "df_train_rus['Coverage Code'].value_counts()[9:-13].index"
   ]
  },
  {
   "cell_type": "markdown",
   "id": "61a9637f",
   "metadata": {},
   "source": [
    "### Oversampling for balancing"
   ]
  },
  {
   "cell_type": "code",
   "execution_count": 454,
   "id": "8372612d",
   "metadata": {
    "collapsed": true
   },
   "outputs": [
    {
     "data": {
      "text/html": [
       "<div>\n",
       "<style scoped>\n",
       "    .dataframe tbody tr th:only-of-type {\n",
       "        vertical-align: middle;\n",
       "    }\n",
       "\n",
       "    .dataframe tbody tr th {\n",
       "        vertical-align: top;\n",
       "    }\n",
       "\n",
       "    .dataframe thead th {\n",
       "        text-align: right;\n",
       "    }\n",
       "</style>\n",
       "<table border=\"1\" class=\"dataframe\">\n",
       "  <thead>\n",
       "    <tr style=\"text-align: right;\">\n",
       "      <th></th>\n",
       "      <th>0</th>\n",
       "    </tr>\n",
       "  </thead>\n",
       "  <tbody>\n",
       "    <tr>\n",
       "      <th>0</th>\n",
       "      <td>(0, 10682)\\t1\\n  (0, 12664)\\t1\\n  (0, 24209)...</td>\n",
       "    </tr>\n",
       "    <tr>\n",
       "      <th>1</th>\n",
       "      <td>(0, 362)\\t1\\n  (0, 8155)\\t1\\n  (0, 8213)\\t1\\...</td>\n",
       "    </tr>\n",
       "    <tr>\n",
       "      <th>2</th>\n",
       "      <td>(0, 5074)\\t1\\n  (0, 9736)\\t1\\n  (0, 9819)\\t1...</td>\n",
       "    </tr>\n",
       "    <tr>\n",
       "      <th>3</th>\n",
       "      <td>(0, 1394)\\t1\\n  (0, 4048)\\t1\\n  (0, 4361)\\t1...</td>\n",
       "    </tr>\n",
       "    <tr>\n",
       "      <th>4</th>\n",
       "      <td>(0, 10434)\\t1\\n  (0, 14449)\\t1\\n  (0, 22582)...</td>\n",
       "    </tr>\n",
       "    <tr>\n",
       "      <th>...</th>\n",
       "      <td>...</td>\n",
       "    </tr>\n",
       "    <tr>\n",
       "      <th>9755</th>\n",
       "      <td>(0, 6776)\\t1\\n  (0, 10232)\\t1\\n  (0, 37674)\\...</td>\n",
       "    </tr>\n",
       "    <tr>\n",
       "      <th>9756</th>\n",
       "      <td>(0, 2772)\\t1\\n  (0, 2898)\\t1\\n  (0, 4873)\\t1...</td>\n",
       "    </tr>\n",
       "    <tr>\n",
       "      <th>9757</th>\n",
       "      <td>(0, 2256)\\t1\\n  (0, 2439)\\t1\\n  (0, 3889)\\t1...</td>\n",
       "    </tr>\n",
       "    <tr>\n",
       "      <th>9758</th>\n",
       "      <td>(0, 17357)\\t1\\n  (0, 18065)\\t1\\n  (0, 18326)...</td>\n",
       "    </tr>\n",
       "    <tr>\n",
       "      <th>9759</th>\n",
       "      <td>(0, 5915)\\t1\\n  (0, 16703)\\t1\\n  (0, 20560)\\...</td>\n",
       "    </tr>\n",
       "  </tbody>\n",
       "</table>\n",
       "<p>9760 rows × 1 columns</p>\n",
       "</div>"
      ],
      "text/plain": [
       "                                                      0\n",
       "0       (0, 10682)\\t1\\n  (0, 12664)\\t1\\n  (0, 24209)...\n",
       "1       (0, 362)\\t1\\n  (0, 8155)\\t1\\n  (0, 8213)\\t1\\...\n",
       "2       (0, 5074)\\t1\\n  (0, 9736)\\t1\\n  (0, 9819)\\t1...\n",
       "3       (0, 1394)\\t1\\n  (0, 4048)\\t1\\n  (0, 4361)\\t1...\n",
       "4       (0, 10434)\\t1\\n  (0, 14449)\\t1\\n  (0, 22582)...\n",
       "...                                                 ...\n",
       "9755    (0, 6776)\\t1\\n  (0, 10232)\\t1\\n  (0, 37674)\\...\n",
       "9756    (0, 2772)\\t1\\n  (0, 2898)\\t1\\n  (0, 4873)\\t1...\n",
       "9757    (0, 2256)\\t1\\n  (0, 2439)\\t1\\n  (0, 3889)\\t1...\n",
       "9758    (0, 17357)\\t1\\n  (0, 18065)\\t1\\n  (0, 18326)...\n",
       "9759    (0, 5915)\\t1\\n  (0, 16703)\\t1\\n  (0, 20560)\\...\n",
       "\n",
       "[9760 rows x 1 columns]"
      ]
     },
     "execution_count": 454,
     "metadata": {},
     "output_type": "execute_result"
    }
   ],
   "source": [
    "pd.DataFrame(X_testtf)"
   ]
  },
  {
   "cell_type": "code",
   "execution_count": 455,
   "id": "9533cee9",
   "metadata": {
    "collapsed": true
   },
   "outputs": [
    {
     "data": {
      "text/plain": [
       "63085     AD\n",
       "144128    GD\n",
       "77431     GO\n",
       "6748      PA\n",
       "95620     GB\n",
       "          ..\n",
       "145169    RB\n",
       "145626    PM\n",
       "17103     AD\n",
       "75866     AB\n",
       "38687     AP\n",
       "Name: Coverage Code, Length: 87838, dtype: object"
      ]
     },
     "execution_count": 455,
     "metadata": {},
     "output_type": "execute_result"
    }
   ],
   "source": [
    "y_train"
   ]
  },
  {
   "cell_type": "code",
   "execution_count": null,
   "id": "5073724f",
   "metadata": {},
   "outputs": [],
   "source": [
    "#df_train_rus['Coverage Code']  = y_train"
   ]
  },
  {
   "cell_type": "code",
   "execution_count": 470,
   "id": "40fc913e",
   "metadata": {
    "scrolled": true
   },
   "outputs": [
    {
     "name": "stdout",
     "output_type": "stream",
     "text": [
      "Before SMOTE:\n",
      "Coverage Code\n",
      "AD    9000\n",
      "AP    9000\n",
      "GD    9000\n",
      "GB    8999\n",
      "AL    8985\n",
      "AB    8457\n",
      "PA    7227\n",
      "PB    4580\n",
      "RB    4098\n",
      "NS    2067\n",
      "PM    1678\n",
      "AU    1600\n",
      "EL    1224\n",
      "GK    1023\n",
      "AN     957\n",
      "RC     917\n",
      "PI     800\n",
      "GO     758\n",
      "PL     740\n",
      "DC     689\n",
      "GL     668\n",
      "AM     656\n",
      "EP     620\n",
      "IK     619\n",
      "OM     579\n",
      "EO     578\n",
      "PP     555\n",
      "TE     531\n",
      "BM     514\n",
      "LL     506\n",
      "IM      41\n",
      "BL      37\n",
      "CM      32\n",
      "FB      21\n",
      "OI      17\n",
      "RF      15\n",
      "BR      10\n",
      "EB       8\n",
      "LS       7\n",
      "RQ       7\n",
      "FF       7\n",
      "EI       6\n",
      "PC       5\n",
      "Name: count, dtype: int64\n",
      "\n",
      "After SMOTE:\n",
      "Coverage Code\n",
      "AD    9000\n",
      "AP    9000\n",
      "GD    9000\n",
      "GB    8999\n",
      "AL    8985\n",
      "AB    8457\n",
      "PA    7227\n",
      "PB    4580\n",
      "RB    4098\n",
      "PL    3000\n",
      "BM    3000\n",
      "NS    3000\n",
      "PP    3000\n",
      "RC    3000\n",
      "AN    3000\n",
      "PI    3000\n",
      "AM    3000\n",
      "EO    3000\n",
      "DC    3000\n",
      "GL    3000\n",
      "TE    3000\n",
      "EL    3000\n",
      "IK    3000\n",
      "PM    3000\n",
      "AU    3000\n",
      "LL    3000\n",
      "EP    3000\n",
      "GK    3000\n",
      "GO    3000\n",
      "OM    3000\n",
      "RQ     500\n",
      "PC     500\n",
      "BR     500\n",
      "OI     500\n",
      "EB     500\n",
      "FF     500\n",
      "CM     500\n",
      "RF     500\n",
      "FB     500\n",
      "LS     500\n",
      "IM     500\n",
      "BL     500\n",
      "EI     500\n",
      "Name: count, dtype: int64\n"
     ]
    }
   ],
   "source": [
    "# Check the class distribution before oversampling\n",
    "print(\"Before SMOTE:\")\n",
    "print(pd.Series(y_train).value_counts())\n",
    "dic = {'NS':3000, 'PM':3000, 'AU':3000, 'EL':3000, 'GK':3000, 'AN':3000, 'RC':3000,\n",
    "       'PI':3000, 'GO':3000, 'PL':3000, 'DC':3000, 'GL':3000,\n",
    "       'AM':3000, 'EP':3000, 'IK':3000, 'OM':3000, 'EO':3000, 'PP':3000, 'TE':3000, 'BM':3000, 'LL':3000,\n",
    "       'IM':500, 'BL':500, 'CM':500, 'FB':500, 'OI':500, 'RF':500, \n",
    "       'BR':500, 'EB':500, 'LS':500, 'FF':500, 'RQ':500, 'EI':500,'PC':500}\n",
    "# Perform SMOTE oversampling on the training set\n",
    "smote = SMOTE(sampling_strategy= dic, random_state=42,k_neighbors=4)\n",
    "\n",
    "X_train_resampled, y_train_resampled = smote.fit_resample(X_traintf,y_train)\n",
    "\n",
    "# Check the class distribution after oversampling\n",
    "print(\"\\nAfter SMOTE:\")\n",
    "print(pd.Series(y_train_resampled).value_counts())"
   ]
  },
  {
   "cell_type": "code",
   "execution_count": 480,
   "id": "4e890997",
   "metadata": {},
   "outputs": [
    {
     "data": {
      "text/plain": [
       "scipy.sparse._csr.csr_matrix"
      ]
     },
     "execution_count": 480,
     "metadata": {},
     "output_type": "execute_result"
    }
   ],
   "source": [
    "type(X_train_resampled)"
   ]
  },
  {
   "cell_type": "code",
   "execution_count": 472,
   "id": "71653e4c",
   "metadata": {
    "scrolled": false
   },
   "outputs": [
    {
     "data": {
      "text/plain": [
       "(138846, 55074)"
      ]
     },
     "execution_count": 472,
     "metadata": {},
     "output_type": "execute_result"
    }
   ],
   "source": [
    "X_train_resampled.shape"
   ]
  },
  {
   "cell_type": "code",
   "execution_count": 473,
   "id": "efd9ab9e",
   "metadata": {},
   "outputs": [
    {
     "data": {
      "text/plain": [
       "(138846,)"
      ]
     },
     "execution_count": 473,
     "metadata": {},
     "output_type": "execute_result"
    }
   ],
   "source": [
    "y_train_resampled.shape"
   ]
  },
  {
   "cell_type": "code",
   "execution_count": 482,
   "id": "7c1d3846",
   "metadata": {
    "scrolled": true
   },
   "outputs": [
    {
     "name": "stdout",
     "output_type": "stream",
     "text": [
      "Model trained\n",
      "Model saved to results/nb.pickle\n",
      "Accuracy for naive bayes : 0.68\n",
      "****************************************************************************************************\n",
      "              precision    recall  f1-score   support\n",
      "\n",
      "          AB       0.54      0.58      0.56       940\n",
      "          AD       0.49      0.43      0.46      1000\n",
      "          AL       0.80      0.96      0.87       998\n",
      "          AM       0.50      0.38      0.43        73\n",
      "          AN       0.81      0.21      0.33       106\n",
      "          AP       0.50      0.57      0.53      1000\n",
      "          AU       0.63      0.58      0.60       178\n",
      "          BL       0.00      0.00      0.00         4\n",
      "          BM       0.72      0.86      0.78        57\n",
      "          BR       0.00      0.00      0.00         1\n",
      "          CM       0.00      0.00      0.00         3\n",
      "          DC       0.86      0.66      0.75        77\n",
      "          EB       0.00      0.00      0.00         1\n",
      "          EI       1.00      1.00      1.00         1\n",
      "          EL       0.84      0.46      0.60       136\n",
      "          EO       0.68      0.78      0.73        64\n",
      "          EP       0.67      0.90      0.77        69\n",
      "          FB       0.00      0.00      0.00         2\n",
      "          FF       0.00      0.00      0.00         1\n",
      "          GB       0.70      0.85      0.77      1000\n",
      "          GD       0.65      0.67      0.66      1000\n",
      "          GK       0.78      0.50      0.61       114\n",
      "          GL       0.84      0.62      0.71        74\n",
      "          GO       0.78      0.61      0.68        84\n",
      "          IK       0.75      1.00      0.86        69\n",
      "          IM       0.00      0.00      0.00         4\n",
      "          LL       0.85      0.91      0.88        56\n",
      "          LS       0.00      0.00      0.00         1\n",
      "          NS       0.93      0.69      0.79       230\n",
      "          OI       1.00      0.50      0.67         2\n",
      "          OM       0.77      0.80      0.78        64\n",
      "          PA       0.88      0.93      0.91       803\n",
      "          PB       0.81      0.77      0.79       509\n",
      "          PC       1.00      1.00      1.00         1\n",
      "          PI       0.87      0.60      0.71        89\n",
      "          PL       0.90      0.78      0.84        82\n",
      "          PM       0.82      0.29      0.43       186\n",
      "          PP       0.73      0.95      0.83        62\n",
      "          RB       0.75      0.54      0.63       455\n",
      "          RC       0.73      0.35      0.48       102\n",
      "          RF       0.00      0.00      0.00         2\n",
      "          RQ       1.00      1.00      1.00         1\n",
      "          TE       0.68      0.88      0.76        59\n",
      "\n",
      "    accuracy                           0.68      9760\n",
      "   macro avg       0.61      0.55      0.56      9760\n",
      "weighted avg       0.69      0.68      0.67      9760\n",
      "\n",
      "****************************************************************************************************\n"
     ]
    }
   ],
   "source": [
    "\n",
    "\n",
    "# train\n",
    "naive_bayes = MultinomialNB()\n",
    "naive_bayes.fit(X_train_resampled, y_train_resampled)\n",
    "print(\"Model trained\")\n",
    "\n",
    "# save model\n",
    "path = \"results/nb.pickle\"\n",
    "pickle.dump(naive_bayes, open(path, \"wb\"))\n",
    "print(\"Model saved to\", path)\n",
    "\n",
    "# predict\n",
    "y_pred = naive_bayes.predict(X_testtf)\n",
    "\n",
    "accuracy = accuracy_score(y_test, y_pred)\n",
    "print('Accuracy for naive bayes :',np.round(accuracy,2))\n",
    "\n",
    "print(\"*\"*100)\n",
    "\n",
    "target_names = naive_bayes.classes_\n",
    "print(classification_report(y_test, y_pred, target_names=target_names))\n",
    "print('*'*100)"
   ]
  },
  {
   "cell_type": "code",
   "execution_count": 483,
   "id": "72f2f0f3",
   "metadata": {
    "scrolled": true
   },
   "outputs": [
    {
     "name": "stdout",
     "output_type": "stream",
     "text": [
      "Model trained\n",
      "Model saved to results/logreg.pickle\n",
      "Accuracy for logistic regression : 0.72\n",
      "****************************************************************************************************\n",
      "              precision    recall  f1-score   support\n",
      "\n",
      "          AB       0.59      0.60      0.59       940\n",
      "          AD       0.57      0.40      0.47      1000\n",
      "          AL       0.95      0.95      0.95       998\n",
      "          AM       0.42      0.62      0.50        73\n",
      "          AN       0.37      0.50      0.43       106\n",
      "          AP       0.57      0.62      0.59      1000\n",
      "          AU       0.65      0.67      0.66       178\n",
      "          BL       0.14      0.25      0.18         4\n",
      "          BM       0.77      0.98      0.86        57\n",
      "          BR       0.17      1.00      0.29         1\n",
      "          CM       0.00      0.00      0.00         3\n",
      "          DC       0.74      0.87      0.80        77\n",
      "          EB       0.00      0.00      0.00         1\n",
      "          EI       1.00      1.00      1.00         1\n",
      "          EL       0.64      0.77      0.70       136\n",
      "          EO       0.83      0.94      0.88        64\n",
      "          EP       0.87      0.88      0.88        69\n",
      "          FB       0.07      0.50      0.12         2\n",
      "          FF       0.25      1.00      0.40         1\n",
      "          GB       0.76      0.76      0.76      1000\n",
      "          GD       0.73      0.69      0.71      1000\n",
      "          GK       0.66      0.73      0.69       114\n",
      "          GL       0.72      0.82      0.77        74\n",
      "          GO       0.67      0.76      0.71        84\n",
      "          IK       0.80      0.94      0.87        69\n",
      "          IM       0.25      0.25      0.25         4\n",
      "          LL       0.96      0.98      0.97        56\n",
      "          LS       0.50      1.00      0.67         1\n",
      "          NS       0.80      0.86      0.83       230\n",
      "          OI       0.11      0.50      0.18         2\n",
      "          OM       0.78      0.95      0.86        64\n",
      "          PA       0.91      0.91      0.91       803\n",
      "          PB       0.81      0.80      0.81       509\n",
      "          PC       1.00      1.00      1.00         1\n",
      "          PI       0.72      0.71      0.71        89\n",
      "          PL       0.84      0.95      0.89        82\n",
      "          PM       0.61      0.60      0.60       186\n",
      "          PP       0.91      0.98      0.95        62\n",
      "          RB       0.71      0.64      0.67       455\n",
      "          RC       0.49      0.62      0.55       102\n",
      "          RF       0.17      0.50      0.25         2\n",
      "          RQ       0.50      1.00      0.67         1\n",
      "          TE       0.85      0.97      0.90        59\n",
      "\n",
      "    accuracy                           0.72      9760\n",
      "   macro avg       0.60      0.73      0.64      9760\n",
      "weighted avg       0.72      0.72      0.72      9760\n",
      "\n",
      "****************************************************************************************************\n"
     ]
    }
   ],
   "source": [
    "from sklearn.linear_model import LogisticRegression\n",
    "\n",
    "lr_basemodel =LogisticRegression()\n",
    "\n",
    "lr_basemodel.fit(X_train_resampled, y_train_resampled)\n",
    "print(\"Model trained\")\n",
    "\n",
    "# save model\n",
    "path = \"results/logreg.pickle\"\n",
    "pickle.dump(lr_basemodel, open(path, \"wb\"))\n",
    "print(\"Model saved to\", path)\n",
    "\n",
    "# predict\n",
    "y_pred = lr_basemodel.predict(X_testtf)\n",
    "\n",
    "accuracy = accuracy_score(y_test, y_pred)\n",
    "print('Accuracy for logistic regression :',np.round(accuracy,2))\n",
    "\n",
    "print(\"*\"*100)\n",
    "\n",
    "target_names = lr_basemodel.classes_\n",
    "print(classification_report(y_test, y_pred, target_names=target_names))\n",
    "print('*'*100)"
   ]
  },
  {
   "cell_type": "code",
   "execution_count": 485,
   "id": "57d08d82",
   "metadata": {
    "scrolled": true
   },
   "outputs": [
    {
     "name": "stdout",
     "output_type": "stream",
     "text": [
      "              precision    recall  f1-score   support\n",
      "\n",
      "          AB       0.60      0.58      0.59       940\n",
      "          AD       0.52      0.47      0.50      1000\n",
      "          AL       0.89      0.97      0.93       998\n",
      "          AM       0.88      0.81      0.84        73\n",
      "          AN       0.84      0.63      0.72       106\n",
      "          AP       0.53      0.58      0.55      1000\n",
      "          AU       0.78      0.70      0.74       178\n",
      "          BL       0.67      0.50      0.57         4\n",
      "          BM       0.88      1.00      0.93        57\n",
      "          BR       0.50      1.00      0.67         1\n",
      "          CM       0.00      0.00      0.00         3\n",
      "          DC       0.83      0.95      0.88        77\n",
      "          EB       0.00      0.00      0.00         1\n",
      "          EI       1.00      1.00      1.00         1\n",
      "          EL       0.84      0.62      0.72       136\n",
      "          EO       0.89      0.98      0.93        64\n",
      "          EP       0.87      0.99      0.93        69\n",
      "          FB       0.07      0.50      0.12         2\n",
      "          FF       1.00      1.00      1.00         1\n",
      "          GB       0.71      0.81      0.76      1000\n",
      "          GD       0.62      0.69      0.65      1000\n",
      "          GK       0.81      0.80      0.80       114\n",
      "          GL       0.85      0.85      0.85        74\n",
      "          GO       0.89      0.89      0.89        84\n",
      "          IK       0.59      1.00      0.74        69\n",
      "          IM       0.00      0.00      0.00         4\n",
      "          LL       0.98      1.00      0.99        56\n",
      "          LS       1.00      1.00      1.00         1\n",
      "          NS       0.86      0.68      0.76       230\n",
      "          OI       0.00      0.00      0.00         2\n",
      "          OM       0.91      1.00      0.96        64\n",
      "          PA       0.84      0.93      0.88       803\n",
      "          PB       0.82      0.66      0.73       509\n",
      "          PC       1.00      1.00      1.00         1\n",
      "          PI       0.89      0.81      0.85        89\n",
      "          PL       0.83      0.93      0.87        82\n",
      "          PM       0.77      0.47      0.59       186\n",
      "          PP       0.95      1.00      0.98        62\n",
      "          RB       0.77      0.47      0.58       455\n",
      "          RC       0.74      0.69      0.71       102\n",
      "          RF       0.50      0.50      0.50         2\n",
      "          RQ       1.00      1.00      1.00         1\n",
      "          TE       0.93      0.90      0.91        59\n",
      "\n",
      "    accuracy                           0.71      9760\n",
      "   macro avg       0.72      0.73      0.71      9760\n",
      "weighted avg       0.71      0.71      0.71      9760\n",
      "\n",
      "****************************************************************************************************\n",
      "Model saved to results/randfrst.pickle\n"
     ]
    }
   ],
   "source": [
    "## Random forest\n",
    "\n",
    "from sklearn.ensemble import RandomForestClassifier\n",
    "classifier=RandomForestClassifier(max_depth=110).fit(X_train_resampled,y_train_resampled)\n",
    "y_pred=classifier.predict(X_testtf)\n",
    "print(classification_report(y_test,y_pred))\n",
    "\n",
    "print(\"*\"*100)\n",
    "# save model\n",
    "path = \"results/randfrst.pickle\"\n",
    "pickle.dump(classifier, open(path, \"wb\"))\n",
    "print(\"Model saved to\", path)"
   ]
  },
  {
   "cell_type": "code",
   "execution_count": null,
   "id": "e0076402",
   "metadata": {},
   "outputs": [],
   "source": []
  },
  {
   "cell_type": "code",
   "execution_count": null,
   "id": "dd5d77f9",
   "metadata": {},
   "outputs": [],
   "source": []
  },
  {
   "cell_type": "markdown",
   "id": "d10b669c",
   "metadata": {},
   "source": [
    "## class_label 2 : Accident Source"
   ]
  },
  {
   "cell_type": "code",
   "execution_count": 487,
   "id": "8f4e52e3",
   "metadata": {},
   "outputs": [
    {
     "name": "stdout",
     "output_type": "stream",
     "text": [
      "Number of classes in Coverage code : 312\n"
     ]
    }
   ],
   "source": [
    "# find unique classes\n",
    "\n",
    "print('Number of classes in Coverage code :',dataset['Accident Source'].nunique())"
   ]
  },
  {
   "cell_type": "code",
   "execution_count": 488,
   "id": "59a90ca3",
   "metadata": {},
   "outputs": [
    {
     "data": {
      "text/plain": [
       "Accident Source\n",
       "Alleged Negligent Act            20254\n",
       "Sideswipe or lane change         15414\n",
       "Struck animal or object           7720\n",
       "Struck vehicle in rear            7401\n",
       "Not Otherwise Classified          7377\n",
       "                                 ...  \n",
       "Multiple Vehicle Collision          14\n",
       "Machine - point of operation        14\n",
       "VEHICLE                             13\n",
       "Defective Pipework                  11\n",
       "Boiler, pressure vessel, etc.       10\n",
       "Name: count, Length: 312, dtype: int64"
      ]
     },
     "execution_count": 488,
     "metadata": {},
     "output_type": "execute_result"
    }
   ],
   "source": [
    "dataset['Accident Source'].value_counts()"
   ]
  },
  {
   "cell_type": "markdown",
   "id": "9aec0fcd",
   "metadata": {},
   "source": [
    "## Observation :\n",
    "\n",
    "- There are 312 classes in Coverage code.\n",
    "- There is class imabalnce observed.\n",
    "- While few classes having very few data points."
   ]
  },
  {
   "cell_type": "markdown",
   "id": "623d6073",
   "metadata": {},
   "source": [
    "# Dont have much time left for case study and steps are similar, so directly training model for Accident Source"
   ]
  },
  {
   "cell_type": "code",
   "execution_count": 496,
   "id": "019ac4e9",
   "metadata": {},
   "outputs": [],
   "source": [
    "final_data2 = pre_processing(dataset)"
   ]
  },
  {
   "cell_type": "code",
   "execution_count": 497,
   "id": "d079bcf4",
   "metadata": {},
   "outputs": [
    {
     "data": {
      "text/html": [
       "<div>\n",
       "<style scoped>\n",
       "    .dataframe tbody tr th:only-of-type {\n",
       "        vertical-align: middle;\n",
       "    }\n",
       "\n",
       "    .dataframe tbody tr th {\n",
       "        vertical-align: top;\n",
       "    }\n",
       "\n",
       "    .dataframe thead th {\n",
       "        text-align: right;\n",
       "    }\n",
       "</style>\n",
       "<table border=\"1\" class=\"dataframe\">\n",
       "  <thead>\n",
       "    <tr style=\"text-align: right;\">\n",
       "      <th></th>\n",
       "      <th>Claim Description</th>\n",
       "      <th>Coverage Code</th>\n",
       "      <th>Accident Source</th>\n",
       "    </tr>\n",
       "  </thead>\n",
       "  <tbody>\n",
       "    <tr>\n",
       "      <th>0</th>\n",
       "      <td>iv making left turn green arrow pedestrian ran...</td>\n",
       "      <td>AN</td>\n",
       "      <td>Struck pedestrian, bicycle</td>\n",
       "    </tr>\n",
       "    <tr>\n",
       "      <th>1</th>\n",
       "      <td>claimant alleges suffered injuries elevator</td>\n",
       "      <td>GB</td>\n",
       "      <td>Elevator/Escalator</td>\n",
       "    </tr>\n",
       "    <tr>\n",
       "      <th>2</th>\n",
       "      <td>iv passenger sustained injuries ov iv collided...</td>\n",
       "      <td>AB</td>\n",
       "      <td>Sideswipe or lane change</td>\n",
       "    </tr>\n",
       "    <tr>\n",
       "      <th>3</th>\n",
       "      <td>claimant alleges burned unknown degree hot tea...</td>\n",
       "      <td>PA</td>\n",
       "      <td>Food Product</td>\n",
       "    </tr>\n",
       "    <tr>\n",
       "      <th>4</th>\n",
       "      <td>iv merging construction zone rear ended theov ...</td>\n",
       "      <td>AD</td>\n",
       "      <td>Struck vehicle in rear</td>\n",
       "    </tr>\n",
       "    <tr>\n",
       "      <th>...</th>\n",
       "      <td>...</td>\n",
       "      <td>...</td>\n",
       "      <td>...</td>\n",
       "    </tr>\n",
       "    <tr>\n",
       "      <th>191683</th>\n",
       "      <td>package car leaked oil concrete driveway</td>\n",
       "      <td>AD</td>\n",
       "      <td>Oil or grease</td>\n",
       "    </tr>\n",
       "    <tr>\n",
       "      <th>191685</th>\n",
       "      <td>wood fell hit guests legs</td>\n",
       "      <td>GB</td>\n",
       "      <td>Alleged lack of security</td>\n",
       "    </tr>\n",
       "    <tr>\n",
       "      <th>191686</th>\n",
       "      <td>female fell platform bus reg bk ywl</td>\n",
       "      <td>AB</td>\n",
       "      <td>Not Otherwise Classified</td>\n",
       "    </tr>\n",
       "    <tr>\n",
       "      <th>191687</th>\n",
       "      <td>iwas driving downhill customer yard wet slippe...</td>\n",
       "      <td>AD</td>\n",
       "      <td>Sideswipe or lane change</td>\n",
       "    </tr>\n",
       "    <tr>\n",
       "      <th>191688</th>\n",
       "      <td>donna george walking register fell injuries ba...</td>\n",
       "      <td>PM</td>\n",
       "      <td>Alleged Negligent Act</td>\n",
       "    </tr>\n",
       "  </tbody>\n",
       "</table>\n",
       "<p>163991 rows × 3 columns</p>\n",
       "</div>"
      ],
      "text/plain": [
       "                                        Claim Description Coverage Code  \\\n",
       "0       iv making left turn green arrow pedestrian ran...            AN   \n",
       "1             claimant alleges suffered injuries elevator            GB   \n",
       "2       iv passenger sustained injuries ov iv collided...            AB   \n",
       "3       claimant alleges burned unknown degree hot tea...            PA   \n",
       "4       iv merging construction zone rear ended theov ...            AD   \n",
       "...                                                   ...           ...   \n",
       "191683           package car leaked oil concrete driveway            AD   \n",
       "191685                          wood fell hit guests legs            GB   \n",
       "191686                female fell platform bus reg bk ywl            AB   \n",
       "191687  iwas driving downhill customer yard wet slippe...            AD   \n",
       "191688  donna george walking register fell injuries ba...            PM   \n",
       "\n",
       "                   Accident Source  \n",
       "0       Struck pedestrian, bicycle  \n",
       "1               Elevator/Escalator  \n",
       "2         Sideswipe or lane change  \n",
       "3                     Food Product  \n",
       "4           Struck vehicle in rear  \n",
       "...                            ...  \n",
       "191683               Oil or grease  \n",
       "191685    Alleged lack of security  \n",
       "191686    Not Otherwise Classified  \n",
       "191687    Sideswipe or lane change  \n",
       "191688       Alleged Negligent Act  \n",
       "\n",
       "[163991 rows x 3 columns]"
      ]
     },
     "execution_count": 497,
     "metadata": {},
     "output_type": "execute_result"
    }
   ],
   "source": [
    "final_data2"
   ]
  },
  {
   "cell_type": "code",
   "execution_count": 498,
   "id": "efbdb960",
   "metadata": {
    "scrolled": true
   },
   "outputs": [],
   "source": [
    "# create features and class label\n",
    "\n",
    "X = final_data2['Claim Description']\n",
    "\n",
    "y = final_data2['Accident Source']\n",
    "\n",
    "# split the dataset\n",
    "X_train, X_test, y_train, y_test = train_test_split(X, y, test_size=0.20, stratify=y)"
   ]
  },
  {
   "cell_type": "code",
   "execution_count": 499,
   "id": "c5c45600",
   "metadata": {},
   "outputs": [],
   "source": [
    "# convert data into vector form\n",
    "\n",
    "count_vectorizer_2 = CountVectorizer()\n",
    "\n",
    "X_train = count_vectorizer_2.fit_transform(X_train)\n",
    "X_test = count_vectorizer_2.transform(X_test)"
   ]
  },
  {
   "cell_type": "code",
   "execution_count": 500,
   "id": "93b7e861",
   "metadata": {},
   "outputs": [
    {
     "name": "stdout",
     "output_type": "stream",
     "text": [
      "Model trained\n",
      "Model saved to results/nb2.pickle\n",
      "Accuracy for naive bayes : 0.36\n",
      "****************************************************************************************************\n",
      "                                            precision    recall  f1-score   support\n",
      "\n",
      "    Accidental disposal of property/object       0.00      0.00      0.00        98\n",
      "                   Administrative Decision       0.00      0.00      0.00        23\n",
      "                                  Aircraft       0.00      0.00      0.00         3\n",
      "                    Alleged Discrimination       0.00      0.00      0.00        20\n",
      "                      Alleged False Arrest       0.00      0.00      0.00         8\n",
      "                          Alleged Incident       0.00      0.00      0.00        21\n",
      "      Alleged Misconduct - Personal Injury       0.00      0.00      0.00        22\n",
      "                     Alleged Negligent Act       0.27      0.82      0.40      4051\n",
      "         Alleged Violation of Civil Rights       0.00      0.00      0.00         6\n",
      "Alleged Violation of Civil Rights/Discrim.       0.00      0.00      0.00         8\n",
      "                   Alleged concrete defect       0.00      0.00      0.00        23\n",
      "         Alleged contamination or spoilage       0.52      0.59      0.55       396\n",
      "      Alleged damage to property of others       0.81      0.18      0.29       383\n",
      "               Alleged design flaw, defect       0.77      0.18      0.29       330\n",
      "         Alleged foreign object in product       0.64      0.75      0.69       479\n",
      "              Alleged improper formulation       0.00      0.00      0.00        14\n",
      "  Alleged improper maint.,park, playground       0.00      0.00      0.00         5\n",
      "  Alleged improper maintenance - municipal       0.00      0.00      0.00        68\n",
      "      Alleged improper maintenance - other       0.34      0.22      0.26       958\n",
      "    Alleged improper maintenance - schools       0.00      0.00      0.00        24\n",
      " Alleged inadequate warnings, labels, etc.       0.00      0.00      0.00        15\n",
      "          Alleged installation by customer       0.00      0.00      0.00         7\n",
      "   Alleged installation by vendor/retailer       0.00      0.00      0.00        35\n",
      "                  Alleged lack of security       0.00      0.00      0.00        41\n",
      "   Alleged lack of supervision - municipal       0.00      0.00      0.00         5\n",
      "       Alleged lack of supervision - other       0.00      0.00      0.00        44\n",
      "     Alleged lack of supervision - schools       0.75      0.11      0.19        83\n",
      "   Alleged lack of supv., park, playground       0.00      0.00      0.00        11\n",
      "      Alleged mechanical defect of failure       0.00      0.00      0.00        43\n",
      "   Alleged product altered by manufacturer       0.00      0.00      0.00        13\n",
      "Alleged product altered by vendor/retailer       0.00      0.00      0.00        12\n",
      "                 Alleged product loss, NOC       0.97      0.33      0.49       115\n",
      "   Alleged product misused for application       0.00      0.00      0.00         4\n",
      "Alleged service or maint.- vendor/retailer       0.50      0.01      0.02       246\n",
      "Alleged service or maintenance by customer       0.00      0.00      0.00        22\n",
      "                         Allergic Reaction       0.83      0.12      0.21        85\n",
      "                            Animal, Insect       0.90      0.13      0.22       142\n",
      "                 Animal, Insect - Property       0.00      0.00      0.00        20\n",
      "                     Animal, Insect - W.C.       0.00      0.00      0.00        15\n",
      "                                  Asbestos       0.00      0.00      0.00         4\n",
      "                                   Assault       0.00      0.00      0.00        96\n",
      "                      Assault and/or abuse       1.00      0.04      0.07        57\n",
      "               Assault during apprehension       0.00      0.00      0.00        30\n",
      "                          Back up of sewer       0.00      0.00      0.00         6\n",
      "             Backed into vehicle or object       0.47      0.38      0.42      1229\n",
      "                     Backup Sewer, Seepage       0.00      0.00      0.00        15\n",
      "                                  Bathroom       0.00      0.00      0.00        39\n",
      "                                   Bicycle       0.00      0.00      0.00         3\n",
      "             Boiler, pressure vessel, etc.       0.00      0.00      0.00         2\n",
      "                                Box Cutter       0.00      0.00      0.00         4\n",
      "                    Box, barrel, container       0.00      0.00      0.00        40\n",
      "             Breach of Data Protection Act       0.00      0.00      0.00         5\n",
      "                         Breaking up fight       0.00      0.00      0.00         4\n",
      "                    Building services, NOC       0.00      0.00      0.00        31\n",
      "       Burglary, Robbery, Theft - Property       0.00      0.00      0.00        54\n",
      "                  Burglary, robbery, theft       0.00      0.00      0.00       188\n",
      "         Burglary, theft - no forced entry       0.00      0.00      0.00        19\n",
      "                                  Car Wash       1.00      0.01      0.02       101\n",
      "                                  Car stop       0.00      0.00      0.00        32\n",
      "                                      Cart       0.75      0.32      0.45       442\n",
      "                                   Cave-in       0.00      0.00      0.00         7\n",
      "                          Ceiling Collapse       0.00      0.00      0.00         3\n",
      "                     Change in Temperature       0.00      0.00      0.00         5\n",
      "                      Chemicals - Property       0.00      0.00      0.00         7\n",
      "                     Circumstances Unknown       0.00      0.00      0.00         8\n",
      "                  Clothing, apparel, shoes       0.00      0.00      0.00        20\n",
      "                                  Collapse       0.00      0.00      0.00        14\n",
      "                                 Collision       0.00      0.00      0.00        38\n",
      "                 Collision on a Roundabout       1.00      0.03      0.06        35\n",
      "                Collision with Oncoming TP       0.00      0.00      0.00         9\n",
      "                 Container - Packaging Etc       0.00      0.00      0.00         4\n",
      "    Contract Hauler Accident/Temp Employee       0.00      0.00      0.00         3\n",
      "                           DEFECTIVE FLOOR       0.00      0.00      0.00         3\n",
      "                        DEFECTIVE PAVEMENT       0.00      0.00      0.00        59\n",
      "                         DEFECTIVE PRODUCT       0.00      0.00      0.00        36\n",
      "                     DEFECTIVE WORKMANSHIP       0.00      0.00      0.00         7\n",
      "                          Damage - vehicle       0.00      0.00      0.00         7\n",
      "                     Damage to landscaping       0.76      0.27      0.40       324\n",
      "                        Defective Pipework       0.00      0.00      0.00         2\n",
      "                                   Display       0.00      0.00      0.00        56\n",
      "                         Display Furniture       0.00      0.00      0.00        10\n",
      "                               Door - Dock       0.00      0.00      0.00         9\n",
      "                             Door - Office       0.00      0.00      0.00        20\n",
      "                           Door/Door Catch       0.00      0.00      0.00        11\n",
      "                                  Drainage       0.00      0.00      0.00         4\n",
      "                   Driven over TP Property       0.00      0.00      0.00         5\n",
      "             EXACT CAUSE OF DAMAGE UNKNOWN       0.00      0.00      0.00         4\n",
      "                                Electrical       0.00      0.00      0.00        10\n",
      "                          Electrical Fires       0.00      0.00      0.00         5\n",
      "Elevator,escalator,manlift,moving sidewalk       0.00      0.00      0.00        41\n",
      "                        Elevator/Escalator       0.00      0.00      0.00        26\n",
      "       Emissions of chemicals and/or gases       0.00      0.00      0.00         7\n",
      "                                  Employee       0.00      0.00      0.00         4\n",
      "          Entering or leaving traffic flow       0.00      0.00      0.00       112\n",
      "                     Equipment Malfunction       0.00      0.00      0.00        69\n",
      "                Excavation, trench, tunnel       0.00      0.00      0.00        20\n",
      "                       Extreme temperature       0.00      0.00      0.00        30\n",
      "  Fall - hole/drain cover - defect/missing       0.00      0.00      0.00         3\n",
      "                        Fall - other falls       0.00      0.00      0.00         6\n",
      "                            Falling Object       0.00      0.00      0.00       102\n",
      "                               Fire - Auto       1.00      0.01      0.02        84\n",
      "                           Fire - Property       0.00      0.00      0.00        45\n",
      "                               Fire - W.C.       0.00      0.00      0.00         5\n",
      "                                     Flood       0.00      0.00      0.00        17\n",
      "                              Food Product       0.49      0.19      0.27       340\n",
      "                     Foreign object thrown       0.00      0.00      0.00        45\n",
      "                        Forklift accessory       0.00      0.00      0.00         6\n",
      "  Freezing of Plumbing, Heating, AC System       0.51      0.31      0.39       103\n",
      "                         Freight > 60 lbs.       0.00      0.00      0.00         6\n",
      "                            Frost/Ice/Snow       0.00      0.00      0.00         3\n",
      "                                      Fuel       0.00      0.00      0.00         7\n",
      "                        Furniture, fixture       0.00      0.00      0.00        77\n",
      "                            Gasoline spill       0.00      0.00      0.00        46\n",
      "                               Gate, fence       0.00      0.00      0.00        63\n",
      "             Glass wall or door with decal       0.00      0.00      0.00         6\n",
      "          Glass wall or door without decal       0.00      0.00      0.00         6\n",
      "                       Glass, ceramic, NOC       0.67      0.04      0.08        49\n",
      "                    Grease Fires - Kitchen       0.00      0.00      0.00         4\n",
      "                              Ground/floor       0.00      0.00      0.00       409\n",
      "                                      HOLE       0.00      0.00      0.00         9\n",
      "                                      Hail       0.00      0.00      0.00        45\n",
      "                    Hand tool, not powered       0.00      0.00      0.00         6\n",
      "                        Hand tool, powered       0.00      0.00      0.00         4\n",
      "                         Head-on collision       0.00      0.00      0.00        85\n",
      "                             Health Hazard       1.00      0.09      0.16        45\n",
      "                    Heating equipment, NOC       0.00      0.00      0.00         5\n",
      "                      Hit Inanimate Object       0.00      0.00      0.00         6\n",
      "               Hit Kerb/Island/Verge/Hedge       0.00      0.00      0.00         9\n",
      "                        Hit Object in Road       0.00      0.00      0.00         7\n",
      "                Hit Post/Barrier/Gate/Pole       0.00      0.00      0.00        40\n",
      "                   Hit Third Party In Rear       0.00      0.00      0.00        28\n",
      "                           Hit Tree Branch       0.00      0.00      0.00        10\n",
      "                            Hit Wall/Fence       0.00      0.00      0.00        21\n",
      "            Hit Whilst Parked - Stationary       0.00      0.00      0.00        16\n",
      "                Hit in Rear by Third Party       0.00      0.00      0.00        24\n",
      "                                      Hose       0.00      0.00      0.00         4\n",
      "                         Human Action, NOC       0.55      0.21      0.30       400\n",
      "                                 Hurricane       0.00      0.00      0.00         7\n",
      "                                       Ice       0.00      0.00      0.00        10\n",
      "               Ice, Snow, Sleet - Property       0.00      0.00      0.00        27\n",
      "                   Ice, Snow, Sleet - W.C.       0.00      0.00      0.00        24\n",
      "                                 Ice/water       0.00      0.00      0.00       275\n",
      "                                   Illness       1.00      0.11      0.20        18\n",
      " Infectious, parasitic agents, NOC - Liab.       0.00      0.00      0.00         3\n",
      "  Injured while entering/alighting vehicle       0.50      0.01      0.03        73\n",
      "                     Insured Changed Lanes       0.00      0.00      0.00        22\n",
      "           Insured Emerged from Minor Road       0.00      0.00      0.00         9\n",
      "                     Insured Hit Parked TP       0.00      0.00      0.00        44\n",
      "                      Insured Lost Control       0.00      0.00      0.00         3\n",
      "                  Insured Reversing Hit TP       0.00      0.00      0.00        37\n",
      "            Insured Turned Against TP Path       0.00      0.00      0.00         4\n",
      "     Insured vehicle causes other accident       0.00      0.00      0.00        21\n",
      "                     Intersection accident       0.60      0.19      0.29       903\n",
      "                       Invasion of Privacy       0.00      0.00      0.00         4\n",
      "    Jacknife, rollover, overturned vehicle       0.00      0.00      0.00        89\n",
      "                                      KERB       0.00      0.00      0.00         8\n",
      "                                     Kiosk       0.00      0.00      0.00         6\n",
      "                                     Knife       0.00      0.00      0.00         7\n",
      "                         Ladder (portable)       0.00      0.00      0.00        11\n",
      "        Leak/Flood - Defective Maintenance       0.00      0.00      0.00         4\n",
      "          Leak/Flood - Defective Materials       0.00      0.00      0.00         3\n",
      "        Leak/Flood - Defective Workmanship       0.00      0.00      0.00         3\n",
      "               Libel, slander - defamation       0.00      0.00      0.00         4\n",
      "                                 Lightning       0.00      0.00      0.00        15\n",
      "                       Liquid/Grease Spill       0.00      0.00      0.00         6\n",
      "                        Liquids - Property       0.00      0.00      0.00        18\n",
      "                            Liquids - W.C.       0.00      0.00      0.00        12\n",
      "        Loss of Use, Business Interruption       0.00      0.00      0.00         8\n",
      "              Machine - point of operation       0.00      0.00      0.00         3\n",
      "                              Machine, NOC       0.00      0.00      0.00        13\n",
      "                        Malicious Mischief       0.00      0.00      0.00        20\n",
      "                             Manhole/Cover       0.00      0.00      0.00        11\n",
      "                           Manual Handling       0.00      0.00      0.00        10\n",
      "                               Merchandise       0.00      0.00      0.00        85\n",
      "                     Merchandises on Floor       0.00      0.00      0.00        50\n",
      "                           Metal item, NOC       0.00      0.00      0.00        41\n",
      "                 Misc - Object Hit Vehicle       0.00      0.00      0.00         4\n",
      "                          Misuse of weapon       0.00      0.00      0.00        16\n",
      "                               Mold/mildew       0.00      0.00      0.00        41\n",
      "                Multiple Vehicle Collision       0.00      0.00      0.00         3\n",
      "             Natural Hazard-Non Vegetation       0.00      0.00      0.00         3\n",
      "                 Natural Hazard-Vegetation       0.00      0.00      0.00         3\n",
      "                                     Noise       0.00      0.00      0.00         6\n",
      "    Non Liability Cases - Premises Medical       0.85      0.23      0.36       102\n",
      "                      Non-contact accident       0.00      0.00      0.00        85\n",
      "                  Not Otherwise Classified       0.28      0.13      0.18      1476\n",
      "        Object fall - loading or unloading       0.00      0.00      0.00        46\n",
      "                           Object on floor       0.00      0.00      0.00       139\n",
      "            Office or Restaurant Furniture       0.00      0.00      0.00         4\n",
      "                             Oil or grease       1.00      0.03      0.05        73\n",
      "                                     Other       0.00      0.00      0.00         3\n",
      "                     Other - comprehensive       0.29      0.01      0.01       305\n",
      "                Other vehicle turning left       0.00      0.00      0.00        70\n",
      "               Other vehicle turning right       0.00      0.00      0.00        35\n",
      "                   Our vehicle backed into       0.00      0.00      0.00       199\n",
      "    Our vehicle struck by object or animal       0.00      0.00      0.00       146\n",
      "     Our vehicle struck by runaway vehicle       0.00      0.00      0.00        52\n",
      "                Our vehicle struck in rear       0.70      0.12      0.21       780\n",
      "           Our vehicle struck while parked       0.00      0.00      0.00       278\n",
      "                  Our vehicle turning left       0.00      0.00      0.00       195\n",
      "                 Our vehicle turning right       0.00      0.00      0.00       102\n",
      "                                    Pallet       0.00      0.00      0.00        38\n",
      "                      Pallet Jack (manual)       0.00      0.00      0.00        22\n",
      "                       Pallet Jack (power)       0.00      0.00      0.00         8\n",
      "                             Pallets/Skids       0.00      0.00      0.00         8\n",
      "                     Parking lot, driveway       0.50      0.00      0.01       279\n",
      "                   Particle/Foreign Object       0.00      0.00      0.00        34\n",
      "                            Patient, Child       0.00      0.00      0.00        11\n",
      "                                Pharmacist       0.00      0.00      0.00         6\n",
      "                         Plastic item, NOC       0.00      0.00      0.00        13\n",
      " Plumbing,Heating,AC,Discharge,Overflowing       0.46      0.40      0.43       201\n",
      "                                   Pothole       0.00      0.00      0.00        63\n",
      "                           Property Damage       0.00      0.00      0.00        15\n",
      "                                      Rain       0.00      0.00      0.00        49\n",
      "                           Ran off roadway       0.00      0.00      0.00        76\n",
      "                     Reversing/Manoeuvring       0.00      0.00      0.00         7\n",
      "                   Road Conditions/Weather       0.00      0.00      0.00         4\n",
      "                   Road debris/road hazard       0.61      0.46      0.53       290\n",
      "                           Runaway vehicle       0.00      0.00      0.00        25\n",
      "                             Scrap, debris       0.00      0.00      0.00        24\n",
      "                             Securing load       0.00      0.00      0.00         9\n",
      "                                     Sewer       0.00      0.00      0.00         6\n",
      "                              Sharp Object       0.00      0.00      0.00         4\n",
      "          Sharp objects (edges, splinters)       0.00      0.00      0.00        14\n",
      "Sharps(Needles,Razors,Scissors,Knife,etc.)       0.00      0.00      0.00        29\n",
      "                  Sideswipe or lane change       0.34      0.85      0.49      3083\n",
      "                                 Sink Hole       0.00      0.00      0.00         4\n",
      "                              Slip - other       0.00      0.00      0.00         7\n",
      "       Slip, Trip, Fall-Entering/Alighting       0.00      0.00      0.00        18\n",
      "                         Smoke - Liability       0.00      0.00      0.00         4\n",
      "        Soap, detergent, cleaning compound       0.00      0.00      0.00         4\n",
      "                                Speed bump       0.00      0.00      0.00         3\n",
      "              Sprinkler Leakage - Freezing       0.00      0.00      0.00        18\n",
      "  Sprinkler Leakage - Pipe or Head Failure       0.00      0.00      0.00        48\n",
      " Sprinkler Leakage-System Struck by Object       0.00      0.00      0.00         5\n",
      "                                    Stairs       0.00      0.00      0.00        68\n",
      "                         Stationary object       0.00      0.00      0.00       162\n",
      "                  Street, roadway, highway       0.00      0.00      0.00       103\n",
      "                   Struck animal or object       0.30      0.61      0.40      1544\n",
      "                 Struck building, overhang       0.27      0.01      0.02       315\n",
      "                  Struck by Falling Object       0.00      0.00      0.00         5\n",
      "                          Struck by Object       0.00      0.00      0.00        12\n",
      "                   Struck dock/garage door       0.00      0.00      0.00       117\n",
      "                 Struck dumpster enclosure       0.67      0.01      0.02       180\n",
      "                            Struck mailbox       0.91      0.04      0.08       226\n",
      "                             Struck object       0.00      0.00      0.00        28\n",
      "                     Struck parked vehicle       0.46      0.59      0.52      1377\n",
      "                Struck pedestrian, bicycle       0.00      0.00      0.00       116\n",
      "                    Struck vehicle in rear       0.53      0.60      0.56      1480\n",
      "                  Struck/pulled down wires       0.91      0.48      0.63       330\n",
      "   Sudden stop or start, injuring occupant       0.88      0.43      0.58        86\n",
      "                             Swimming pool       0.00      0.00      0.00         6\n",
      "              T.P. Emerged from Minor Road       0.00      0.00      0.00         5\n",
      "                T.P. Reversing hit Insured       0.00      0.00      0.00         9\n",
      "             TP Turned Across Insured Path       0.00      0.00      0.00         9\n",
      "                             Tarmac Defect       0.00      0.00      0.00         3\n",
      "                                  Textiles       0.00      0.00      0.00         5\n",
      "                                     Theft       0.53      0.25      0.34       253\n",
      "                 Third Party Changed Lanes       0.00      0.00      0.00        10\n",
      "                                   Tornado       0.00      0.00      0.00         5\n",
      "                                    Towing       0.00      0.00      0.00        13\n",
      "       Towing - Member Steered Incorrectly       0.00      0.00      0.00        10\n",
      "                            Towing - Other       0.00      0.00      0.00         8\n",
      "                       Trailer - Door/Seal       0.00      0.00      0.00         4\n",
      "                     Trailer - Rear/Bumper       0.00      0.00      0.00        10\n",
      "               Trapped in mechanical doors       0.00      0.00      0.00         9\n",
      "                                Tree Roots       0.00      0.00      0.00         7\n",
      "                         Tree, bush, shrub       0.00      0.00      0.00        41\n",
      "                         Trip - kerb stone       0.00      0.00      0.00         4\n",
      "       Trip - raised manhole / drain cover       0.00      0.00      0.00         4\n",
      "                            Uneven Surface       0.00      0.00      0.00        80\n",
      "                                   VEHICLE       0.00      0.00      0.00         3\n",
      "  Vandalism and Malicious Mischief - Prop.       0.00      0.00      0.00        76\n",
      "   Vandalism and malicious mischief - W.C.       0.00      0.00      0.00        54\n",
      "                            Vehicle - Door       0.00      0.00      0.00        15\n",
      "      Vehicle - Material handling/forklift       0.00      0.00      0.00        17\n",
      "       Vehicle - Operated by injured party       0.00      0.00      0.00         9\n",
      "         Vehicle - Operated by other party       0.00      0.00      0.00        40\n",
      "                  Vehicle - Part/Accessory       0.00      0.00      0.00         9\n",
      "                            Vehicle - Seat       0.00      0.00      0.00         4\n",
      "                           Vehicle - Steps       0.00      0.00      0.00         4\n",
      "                    Vehicle - Tire/Retread       0.00      0.00      0.00        23\n",
      "                    Vehicle - Trailer body       0.00      0.00      0.00         9\n",
      "                             Vehicle - bus       0.00      0.00      0.00        21\n",
      "                Vehicle - emergency - Fire       0.00      0.00      0.00         7\n",
      "              Vehicle - emergency - Police       0.00      0.00      0.00         8\n",
      "    Vehicle - motorcycle, moped, golf cart       0.00      0.00      0.00         6\n",
      "                       Vehicle - passenger       0.00      0.00      0.00        94\n",
      "       Vehicle - tractor, for semi trailer       0.00      0.00      0.00        40\n",
      "        Vehicle - truck, straight, pick-up       0.00      0.00      0.00        17\n",
      "                  Vehicle - truck/snowplow       0.00      0.00      0.00        65\n",
      "                             Vehicle - van       0.00      0.00      0.00         6\n",
      "                          Vehicle Accident       1.00      0.00      0.01       393\n",
      "                       Vehicle, unlicensed       0.00      0.00      0.00        44\n",
      "                      Walk, path, sidewalk       0.00      0.00      0.00        73\n",
      "                                     Water       0.00      0.00      0.00       143\n",
      "                              Water Damage       0.00      0.00      0.00        13\n",
      "                             Water Ingress       0.00      0.00      0.00         4\n",
      "                                    Weapon       0.00      0.00      0.00        22\n",
      "                    Weather NOC - Property       0.91      0.22      0.35        46\n",
      "                        Weather, NOC - W.C       0.00      0.00      0.00        11\n",
      "                Weight of Ice, Snow, Sleet       0.00      0.00      0.00         5\n",
      "                   Wet/Greasy Floor/Ground       0.00      0.00      0.00         8\n",
      "                                Wheelchair       0.00      0.00      0.00         4\n",
      "                                      Wind       0.00      0.00      0.00        22\n",
      "                                Windshield       0.92      0.07      0.13       168\n",
      "                                 Windstorm       0.75      0.09      0.16       104\n",
      "                  Wire, cord, cable, chain       0.00      0.00      0.00        17\n",
      "                              Wood objects       0.00      0.00      0.00        15\n",
      "                           Working surface       0.00      0.00      0.00         5\n",
      "                            Wrongful entry       0.00      0.00      0.00        22\n",
      "                                e-Commerce       0.86      0.64      0.74       474\n",
      "\n",
      "                                  accuracy                           0.36     32799\n",
      "                                 macro avg       0.11      0.04      0.04     32799\n",
      "                              weighted avg       0.37      0.36      0.28     32799\n",
      "\n",
      "****************************************************************************************************\n"
     ]
    }
   ],
   "source": [
    "# train\n",
    "naive_bayes = MultinomialNB()\n",
    "naive_bayes.fit(X_train, y_train)\n",
    "print(\"Model trained\")\n",
    "\n",
    "# save model\n",
    "path = \"results/nb2.pickle\"\n",
    "pickle.dump(naive_bayes, open(path, \"wb\"))\n",
    "print(\"Model saved to\", path)\n",
    "\n",
    "# predict\n",
    "y_pred = naive_bayes.predict(X_test)\n",
    "\n",
    "accuracy = accuracy_score(y_test, y_pred)\n",
    "print('Accuracy for naive bayes :',np.round(accuracy,2))\n",
    "\n",
    "print(\"*\"*100)\n",
    "\n",
    "target_names = naive_bayes.classes_\n",
    "print(classification_report(y_test, y_pred, target_names=target_names))\n",
    "print('*'*100)"
   ]
  },
  {
   "cell_type": "markdown",
   "id": "65c9ee0a",
   "metadata": {},
   "source": [
    "#### Using bert for embedding :"
   ]
  },
  {
   "cell_type": "code",
   "execution_count": 502,
   "id": "fcaff2b0",
   "metadata": {},
   "outputs": [],
   "source": [
    "from sentence_transformers import SentenceTransformer\n",
    "sentences = [\"This is an example sentence\", \"Each sentence is converted\"]\n",
    "\n",
    "model = SentenceTransformer('sentence-transformers/all-MiniLM-L6-v2')"
   ]
  },
  {
   "cell_type": "code",
   "execution_count": 504,
   "id": "a872b55c",
   "metadata": {},
   "outputs": [
    {
     "data": {
      "text/plain": [
       "array(['iv traveling wbnd desert inn rd east pawnee dr vehicle directly front toyota camry ingrid ibarra hit brakes forcefully coming almost complete stop effort avoid collision iv swerved left unoccupied centeremergency lane unsuccessful struck cv directly front presumably caused thecv toyota enter lane causing chain reaction resulted ford focus',\n",
       "       'claimant slipped stairs causing bodily injury',\n",
       "       'customer driving parking lot cart came cart coral struck vehicle',\n",
       "       ..., 'iv hit parked unknown party',\n",
       "       'stray bullet fired unknown persons struck hvac unit',\n",
       "       'claimant alleges vehicle damaged pothole parking space'],\n",
       "      dtype=object)"
      ]
     },
     "execution_count": 504,
     "metadata": {},
     "output_type": "execute_result"
    }
   ],
   "source": [
    "X"
   ]
  },
  {
   "cell_type": "code",
   "execution_count": 503,
   "id": "cb56f6cd",
   "metadata": {
    "scrolled": true
   },
   "outputs": [
    {
     "name": "stdout",
     "output_type": "stream",
     "text": [
      "Unexpected exception formatting exception. Falling back to standard exception\n"
     ]
    },
    {
     "name": "stderr",
     "output_type": "stream",
     "text": [
      "Traceback (most recent call last):\n",
      "  File \"C:\\Users\\Admin\\anaconda3\\lib\\site-packages\\pandas\\core\\indexes\\base.py\", line 3791, in get_loc\n",
      "    >>> unique_index = pd.Index(list('abc'))\n",
      "  File \"index.pyx\", line 152, in pandas._libs.index.IndexEngine.get_loc\n",
      "  File \"index.pyx\", line 181, in pandas._libs.index.IndexEngine.get_loc\n",
      "  File \"pandas\\_libs\\hashtable_class_helper.pxi\", line 7080, in pandas._libs.hashtable.PyObjectHashTable.get_item\n",
      "  File \"pandas\\_libs\\hashtable_class_helper.pxi\", line 7088, in pandas._libs.hashtable.PyObjectHashTable.get_item\n",
      "KeyError: 'Accident Source'\n",
      "\n",
      "The above exception was the direct cause of the following exception:\n",
      "\n",
      "Traceback (most recent call last):\n",
      "  File \"C:\\Users\\Admin\\AppData\\Roaming\\Python\\Python39\\site-packages\\IPython\\core\\interactiveshell.py\", line 3550, in run_code\n",
      "    exec(code_obj, self.user_global_ns, self.user_ns)\n",
      "  File \"C:\\Users\\Admin\\AppData\\Local\\Temp\\ipykernel_10532\\2884066349.py\", line 2, in <module>\n",
      "    y = final_data['Accident Source']\n",
      "  File \"C:\\Users\\Admin\\anaconda3\\lib\\site-packages\\pandas\\core\\frame.py\", line 3893, in __getitem__\n",
      "    )\n",
      "  File \"C:\\Users\\Admin\\anaconda3\\lib\\site-packages\\pandas\\core\\indexes\\base.py\", line 3798, in get_loc\n",
      "KeyError: 'Accident Source'\n",
      "\n",
      "During handling of the above exception, another exception occurred:\n",
      "\n",
      "Traceback (most recent call last):\n",
      "  File \"C:\\Users\\Admin\\AppData\\Roaming\\Python\\Python39\\site-packages\\IPython\\core\\interactiveshell.py\", line 2144, in showtraceback\n",
      "    stb = self.InteractiveTB.structured_traceback(\n",
      "  File \"C:\\Users\\Admin\\AppData\\Roaming\\Python\\Python39\\site-packages\\IPython\\core\\ultratb.py\", line 1435, in structured_traceback\n",
      "    return FormattedTB.structured_traceback(\n",
      "  File \"C:\\Users\\Admin\\AppData\\Roaming\\Python\\Python39\\site-packages\\IPython\\core\\ultratb.py\", line 1326, in structured_traceback\n",
      "    return VerboseTB.structured_traceback(\n",
      "  File \"C:\\Users\\Admin\\AppData\\Roaming\\Python\\Python39\\site-packages\\IPython\\core\\ultratb.py\", line 1192, in structured_traceback\n",
      "    formatted_exceptions += self.format_exception_as_a_whole(etype, evalue, etb, lines_of_context,\n",
      "  File \"C:\\Users\\Admin\\AppData\\Roaming\\Python\\Python39\\site-packages\\IPython\\core\\ultratb.py\", line 1088, in format_exception_as_a_whole\n",
      "    frames.append(self.format_record(record))\n",
      "  File \"C:\\Users\\Admin\\AppData\\Roaming\\Python\\Python39\\site-packages\\IPython\\core\\ultratb.py\", line 970, in format_record\n",
      "    frame_info.lines, Colors, self.has_colors, lvals\n",
      "  File \"C:\\Users\\Admin\\AppData\\Roaming\\Python\\Python39\\site-packages\\IPython\\core\\ultratb.py\", line 792, in lines\n",
      "    return self._sd.lines\n",
      "  File \"C:\\Users\\Admin\\AppData\\Roaming\\Python\\Python39\\site-packages\\stack_data\\utils.py\", line 145, in cached_property_wrapper\n",
      "    value = obj.__dict__[self.func.__name__] = self.func(obj)\n",
      "  File \"C:\\Users\\Admin\\AppData\\Roaming\\Python\\Python39\\site-packages\\stack_data\\core.py\", line 734, in lines\n",
      "    pieces = self.included_pieces\n",
      "  File \"C:\\Users\\Admin\\AppData\\Roaming\\Python\\Python39\\site-packages\\stack_data\\utils.py\", line 145, in cached_property_wrapper\n",
      "    value = obj.__dict__[self.func.__name__] = self.func(obj)\n",
      "  File \"C:\\Users\\Admin\\AppData\\Roaming\\Python\\Python39\\site-packages\\stack_data\\core.py\", line 681, in included_pieces\n",
      "    pos = scope_pieces.index(self.executing_piece)\n",
      "  File \"C:\\Users\\Admin\\AppData\\Roaming\\Python\\Python39\\site-packages\\stack_data\\utils.py\", line 145, in cached_property_wrapper\n",
      "    value = obj.__dict__[self.func.__name__] = self.func(obj)\n",
      "  File \"C:\\Users\\Admin\\AppData\\Roaming\\Python\\Python39\\site-packages\\stack_data\\core.py\", line 660, in executing_piece\n",
      "    return only(\n",
      "  File \"C:\\Users\\Admin\\AppData\\Roaming\\Python\\Python39\\site-packages\\executing\\executing.py\", line 116, in only\n",
      "    raise NotOneValueFound('Expected one value, found 0')\n",
      "executing.executing.NotOneValueFound: Expected one value, found 0\n"
     ]
    }
   ],
   "source": [
    "X = final_data['Claim Description'].values\n",
    "y = final_data['Accident Source']"
   ]
  },
  {
   "cell_type": "code",
   "execution_count": 505,
   "id": "65c5b7f4",
   "metadata": {},
   "outputs": [
    {
     "data": {
      "application/vnd.jupyter.widget-view+json": {
       "model_id": "b33a9defc78a4b3881996b9c7d8f1023",
       "version_major": 2,
       "version_minor": 0
      },
      "text/plain": [
       "Batches:   0%|          | 0/348 [00:00<?, ?it/s]"
      ]
     },
     "metadata": {},
     "output_type": "display_data"
    },
    {
     "name": "stdout",
     "output_type": "stream",
     "text": [
      "(173990, 384)\n"
     ]
    }
   ],
   "source": [
    "X_bert_enc = model.encode(X, batch_size=500, show_progress_bar=True,)\n",
    "print(X_bert_enc.shape)"
   ]
  },
  {
   "cell_type": "code",
   "execution_count": 509,
   "id": "8b660586",
   "metadata": {},
   "outputs": [],
   "source": [
    "pickle.dump(count_vector_step_1, open(\"./vectorizer/count_vector_step_1.pickel\",\"wb\"))\n",
    "pickle.dump(count_vectorizer_2, open(\"./vectorizer/count_vector_step_2.pickel\",\"wb\"))\n",
    "\n",
    "# pickle.dump(count_vector_as_step_1, open(\"./vectorizer/count_vector_as_step_1.pickel\",\"wb\"))"
   ]
  },
  {
   "cell_type": "markdown",
   "id": "6a66d3d8",
   "metadata": {},
   "source": [
    "### outputs needed \n",
    "\n",
    "- randfrst.pickle ---  COverage Code predictions\n",
    "- nb2.pickle        ---  Accident Source prediction\n",
    "- |\n",
    "- |\n",
    "- X= df_train_rus['Claim Description']\n",
    "- y=  df_train_rus['Coverage Code']\n",
    "- X_train, X_test, y_train, y_test = train_test_split(X,y, test_size=0.1,stratify=y,random_state=33)\n",
    "- |\n",
    "- |\n",
    "- count_vector_step_1\n",
    "- count_vectorizer_2\n",
    "-  X_testtf = count_vector_step_1.transform(X_test)"
   ]
  },
  {
   "cell_type": "code",
   "execution_count": 512,
   "id": "57e01ecf",
   "metadata": {},
   "outputs": [
    {
     "ename": "NameError",
     "evalue": "name 'scikit' is not defined",
     "output_type": "error",
     "traceback": [
      "\u001b[1;31m---------------------------------------------------------------------------\u001b[0m",
      "\u001b[1;31mNameError\u001b[0m                                 Traceback (most recent call last)",
      "Cell \u001b[1;32mIn[512], line 1\u001b[0m\n\u001b[1;32m----> 1\u001b[0m \u001b[38;5;28mprint\u001b[39m(\u001b[43mscikit\u001b[49m\u001b[38;5;241m-\u001b[39mlearn\u001b[38;5;241m.\u001b[39m__version__)\n",
      "\u001b[1;31mNameError\u001b[0m: name 'scikit' is not defined"
     ]
    }
   ],
   "source": []
  },
  {
   "cell_type": "code",
   "execution_count": null,
   "id": "e3703ad1",
   "metadata": {},
   "outputs": [],
   "source": []
  }
 ],
 "metadata": {
  "kernelspec": {
   "display_name": "Python 3 (ipykernel)",
   "language": "python",
   "name": "python3"
  },
  "language_info": {
   "codemirror_mode": {
    "name": "ipython",
    "version": 3
   },
   "file_extension": ".py",
   "mimetype": "text/x-python",
   "name": "python",
   "nbconvert_exporter": "python",
   "pygments_lexer": "ipython3",
   "version": "3.9.18"
  }
 },
 "nbformat": 4,
 "nbformat_minor": 5
}
